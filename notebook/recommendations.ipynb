{
 "cells": [
  {
   "cell_type": "markdown",
   "id": "436252ec",
   "metadata": {},
   "source": [
    "<div style=\"border-radius: 15px; border: 3px solid indigo; padding: 15px;\">\n",
    "<b> Комментарий ревьюера</b>\n",
    "    \n",
    "    \n",
    "Георгий, привет! Меня зовут Даниил Вяжев, я буду проверять твой проект\n",
    "\n",
    "Сразу хочу обратить внимание на цветовую разметку:\n",
    "\n",
    "<div class=\"alert alert-success\" style=\"border-radius: 15px; box-shadow: 4px 4px 4px; border: 1px solid \">\n",
    "\n",
    "Зеленым с пометкой ✔️ отмечены отличные решения и идеи, которые можно и нужно использовать в будущем.\n",
    "</div>\n",
    "    \n",
    "<div class=\"alert alert-warning\" style=\"border-radius: 15px; box-shadow: 4px 4px 4px; border: 1px solid \">\n",
    "\n",
    "Желтым с пометкой ⚠️ отмечено то, что можно или нужно оптимизировать, в зависимости от контекста.</div>    \n",
    "    \n",
    "<div class=\"alert alert-danger\" style=\"border-radius: 15px; box-shadow: 4px 4px 4px; border: 1px solid \">\n",
    "\n",
    "Красным с пометкой ❌ обозначены пропущенные пункты задания и ошибки, которые обязательно надо будет исправить, чтобы результаты были верные.</div> \n",
    "    \n",
    "**Ответы на мои комментарии или доработки по моим рекомендациям попрошу выделить каким-нибудь цветом, кроме перечисленных.**\n",
    "Также я попрошу тебя **не менять, не передвигать и не удалять мои комментарии**, чтобы при последующей проверке мне было проще ориентироваться.\n",
    "        \n",
    "<hr>\n",
    "    \n",
    "<font color= 'dodgerblue'>**По проекту:**</font> \n",
    "    \n",
    "Георгий, ты проделал отличную работу по подготовке данных, их анализу и построению рекомендаций. Код структурирован, что делает его понятным и легко читаемым, а также позволяет уверенно следовать всем этапам — от загрузки данных до оценки качества рекомендаций. Ты применил классические метрики для оценки рекомендаций, что говорит о правильном понимании задачи и используемых методах.\n",
    "\n",
    "Твоя работа с холодными пользователями, а также внедрение модели ALS для персонализированных рекомендаций показывают грамотный подход к решению проблемы рекомендаций. Это особенно важно при холодном старте, где многие системы испытывают трудности. Ты также продемонстрировал успешное использование ранжирующих моделей, что подтверждается увеличением метрик точности и полноты после добавления пользовательских признаков.\n",
    "\n",
    "Однако, метрики `precision` и `recall` остаются низкими, несмотря на прогресс после добавления признаков. Это может означать, что есть пространство для улучшений в части более детальной настройки модели или расширения набора признаков. Например, можно попробовать более сложные модели или другие подходы к работе с пользовательскими предпочтениями.\n",
    "\n",
    "Твоя работа с обработкой `NaN` значений требует немного больше внимания, так как они могут влиять на итоговые результаты рекомендаций. Также рекомендую оптимизировать память при объединении крупных датафреймов, чтобы снизить нагрузку на систему при работе с большими объемами данных.\n",
    "\n",
    "В целом, ты выполнил задание на высоком уровне, показав глубокое понимание процесса построения рекомендаций и их оценки. Отличная работа! Удачи в будущих спринтах!\n",
    "\n",
    "    \n",
    "<hr style=\"border-top: 3px solid purple; \"></hr>\n",
    "Комментарии можешь оставлять с помощью такого кода в Markdown ячейке:\n",
    "    \n",
    "    \n",
    "    <div class=\"alert alert-info\">\n",
    "    <h2> Комментарий студента</h2>\n",
    "\n",
    "    Тут текст.\n",
    "    </div>\n",
    "    \n",
    "    \n",
    "    <font color='red'> Этот код позволяет менять цвет текста. </font>     \n",
    "\n",
    "\n",
    "  \n",
    "\n",
    "О том, как **форматировать текст** в Markdown ячейке или как добавлять ссылки, ты можешь узнать [тут](https://sqlbak.com/blog/jupyter-notebook-markdown-cheatsheet) и [вот тут](https://medium.com/analytics-vidhya/the-ultimate-markdown-guide-for-jupyter-notebook-d5e5abf728fd).\n",
    "\n",
    "\n",
    "\n",
    "Желаю удачи!\n",
    "\n",
    "<img src=\"https://user-images.githubusercontent.com/74038190/225813708-98b745f2-7d22-48cf-9150-083f1b00d6c9.gif\" width=\"500\">\n",
    "</div>    \n",
    "\n"
   ]
  },
  {
   "cell_type": "markdown",
   "id": "8ff950f1-ef9c-4462-ad8a-9f1661ac4080",
   "metadata": {},
   "source": [
    "# Создание рекомендательной системы. Часть 1"
   ]
  },
  {
   "cell_type": "markdown",
   "id": "f50e6cdd-a4bb-4a4f-83fe-d96bda8b3053",
   "metadata": {},
   "source": [
    "***Заказчик***: **Яндекс Музыка**\n",
    "\n",
    "***Цель***: Выполнить исследования данных и методов машинного обучения для создания персональных рекомендаций с целью облегчения пользовательского опыта.\n",
    "\n",
    "***Гипотеза***: Применение двустадийного подхода и использование дополнительных признаков позволит создавать наиболее релевантные персональные рекомендации.\n",
    "\n",
    "***Ожидаемый результат***: набор скриптов в репозитории, выполнение которых позволит рассчитать персональные рекомендации, а затем запустить соответствующий сервис."
   ]
  },
  {
   "cell_type": "markdown",
   "id": "5eec31c5",
   "metadata": {},
   "source": [
    "<div class=\"alert alert-success\" style=\"border-radius: 15px; box-shadow: 4px 4px 4px; border: 1px solid \">\n",
    "<b> Комментарий ревьюера  ✔️</b>\n",
    "    \n",
    "Молодец, что оставил задачи и цели проекта, так он выглядит презентабельнее и поможет вспомнить о чем был проект, когда ты к нему вернешься.\n",
    "</div>\n",
    "\n"
   ]
  },
  {
   "cell_type": "markdown",
   "id": "f4095ae4-7294-4b28-853e-88d235002c97",
   "metadata": {},
   "source": [
    "# Инициализация"
   ]
  },
  {
   "cell_type": "markdown",
   "id": "2f2318d2-9df8-4911-915e-15b725c44f8a",
   "metadata": {},
   "source": [
    "Загружаем библиотеки необходимые для выполнения кода ноутбука."
   ]
  },
  {
   "cell_type": "code",
   "execution_count": 218,
   "id": "662d04e7-1b0b-4e4a-9ddf-4526d7fef119",
   "metadata": {},
   "outputs": [],
   "source": [
    "import boto3\n",
    "import matplotlib.pyplot as plt\n",
    "import numpy as np\n",
    "import pandas as pd\n",
    "import scipy\n",
    "import sklearn.metrics\n",
    "import sklearn.preprocessing\n",
    "from implicit.als import AlternatingLeastSquares\n",
    "from catboost import CatBoostClassifier, Pool\n",
    "from dotenv import load_dotenv\n",
    "from tqdm import tqdm\n",
    "import os\n",
    "import sys"
   ]
  },
  {
   "cell_type": "code",
   "execution_count": 219,
   "id": "b60a73ad-8bd7-4e17-b32a-68b5a6efaef5",
   "metadata": {},
   "outputs": [
    {
     "data": {
      "text/plain": [
       "True"
      ]
     },
     "execution_count": 219,
     "metadata": {},
     "output_type": "execute_result"
    }
   ],
   "source": [
    "load_dotenv()"
   ]
  },
  {
   "cell_type": "markdown",
   "id": "5263a8b3-fe99-4204-8a2e-105182792c11",
   "metadata": {},
   "source": [
    "# Загрузка первичных данных"
   ]
  },
  {
   "cell_type": "markdown",
   "id": "1b54a6a5-1656-4e3c-99d1-49dc39451d33",
   "metadata": {},
   "source": [
    "Загружаем первичные данные из файлов:\n",
    "- tracks.parquet\n",
    "- catalog_names.parquet\n",
    "- interactions.parquet"
   ]
  },
  {
   "cell_type": "code",
   "execution_count": 220,
   "id": "5d4b8961-3f35-4e58-9d6b-3e2dbd2c4224",
   "metadata": {},
   "outputs": [],
   "source": [
    "tracks = pd.read_parquet(\"./tracks.parquet\")"
   ]
  },
  {
   "cell_type": "code",
   "execution_count": 221,
   "id": "48be5959-dc89-4d14-b4a7-af080bd40eb4",
   "metadata": {},
   "outputs": [],
   "source": [
    "catalog = pd.read_parquet(\"./catalog_names.parquet\")"
   ]
  },
  {
   "cell_type": "code",
   "execution_count": 222,
   "id": "70f7bdfe-175c-45c1-a2e9-d99f0f33be2e",
   "metadata": {},
   "outputs": [],
   "source": [
    "interactions = pd.read_parquet(\"./interactions.parquet\")"
   ]
  },
  {
   "cell_type": "markdown",
   "id": "e8f2a1f7-a05f-4f39-af90-5f4018aa6f9d",
   "metadata": {},
   "source": [
    "# Обзор данных"
   ]
  },
  {
   "cell_type": "markdown",
   "id": "46a85307-896c-4fac-9fcf-f0dffa90889e",
   "metadata": {},
   "source": [
    "Проверяем данные, есть ли с ними явные проблемы."
   ]
  },
  {
   "cell_type": "code",
   "execution_count": 223,
   "id": "c9f8f17e-9b56-4f5a-a463-f694a993effb",
   "metadata": {},
   "outputs": [
    {
     "name": "stdout",
     "output_type": "stream",
     "text": [
      "<class 'pandas.core.frame.DataFrame'>\n",
      "RangeIndex: 1000000 entries, 0 to 999999\n",
      "Data columns (total 4 columns):\n",
      " #   Column    Non-Null Count    Dtype \n",
      "---  ------    --------------    ----- \n",
      " 0   track_id  1000000 non-null  int64 \n",
      " 1   albums    1000000 non-null  object\n",
      " 2   artists   1000000 non-null  object\n",
      " 3   genres    1000000 non-null  object\n",
      "dtypes: int64(1), object(3)\n",
      "memory usage: 30.5+ MB\n"
     ]
    },
    {
     "data": {
      "text/html": [
       "<div>\n",
       "<style scoped>\n",
       "    .dataframe tbody tr th:only-of-type {\n",
       "        vertical-align: middle;\n",
       "    }\n",
       "\n",
       "    .dataframe tbody tr th {\n",
       "        vertical-align: top;\n",
       "    }\n",
       "\n",
       "    .dataframe thead th {\n",
       "        text-align: right;\n",
       "    }\n",
       "</style>\n",
       "<table border=\"1\" class=\"dataframe\">\n",
       "  <thead>\n",
       "    <tr style=\"text-align: right;\">\n",
       "      <th></th>\n",
       "      <th>424060</th>\n",
       "      <th>331714</th>\n",
       "      <th>931612</th>\n",
       "      <th>921810</th>\n",
       "      <th>362982</th>\n",
       "    </tr>\n",
       "  </thead>\n",
       "  <tbody>\n",
       "    <tr>\n",
       "      <th>track_id</th>\n",
       "      <td>29245150</td>\n",
       "      <td>21586606</td>\n",
       "      <td>80896574</td>\n",
       "      <td>79123762</td>\n",
       "      <td>24344272</td>\n",
       "    </tr>\n",
       "    <tr>\n",
       "      <th>albums</th>\n",
       "      <td>[3515090]</td>\n",
       "      <td>[2473490]</td>\n",
       "      <td>[14877495]</td>\n",
       "      <td>[14336137]</td>\n",
       "      <td>[2835191]</td>\n",
       "    </tr>\n",
       "    <tr>\n",
       "      <th>artists</th>\n",
       "      <td>[101616]</td>\n",
       "      <td>[218250]</td>\n",
       "      <td>[6472888]</td>\n",
       "      <td>[11061240]</td>\n",
       "      <td>[3467559]</td>\n",
       "    </tr>\n",
       "    <tr>\n",
       "      <th>genres</th>\n",
       "      <td>[13]</td>\n",
       "      <td>[55, 112]</td>\n",
       "      <td>[21]</td>\n",
       "      <td>[11, 20]</td>\n",
       "      <td>[16]</td>\n",
       "    </tr>\n",
       "  </tbody>\n",
       "</table>\n",
       "</div>"
      ],
      "text/plain": [
       "             424060     331714      931612      921810     362982\n",
       "track_id   29245150   21586606    80896574    79123762   24344272\n",
       "albums    [3515090]  [2473490]  [14877495]  [14336137]  [2835191]\n",
       "artists    [101616]   [218250]   [6472888]  [11061240]  [3467559]\n",
       "genres         [13]  [55, 112]        [21]    [11, 20]       [16]"
      ]
     },
     "execution_count": 223,
     "metadata": {},
     "output_type": "execute_result"
    }
   ],
   "source": [
    "tracks.info()\n",
    "tracks.sample(5).T"
   ]
  },
  {
   "cell_type": "markdown",
   "id": "ce8e6702-efe7-4803-bd11-146e356518a7",
   "metadata": {},
   "source": [
    "В таблице *tracks* присутсвуют данные по следующим признакам:\n",
    "\n",
    "- *track_id* — идентификатор музыкального трека;\n",
    "\n",
    "- *albums* — список идентификаторов альбомов, содержащих трек;\n",
    "\n",
    "- *artists* — список идентификаторов исполнителей трека;\n",
    "\n",
    "- *genres* — список идентификаторов жанров, к которым принадлежит трек.\n",
    "\n",
    "Всего 1 млн. записей, явные пропуски отсутсвуют. Частично таблица содержит числа, а частично списки с числами."
   ]
  },
  {
   "cell_type": "code",
   "execution_count": 224,
   "id": "efd2e2eb-3bec-4ce1-87ac-232bab8bc0d0",
   "metadata": {},
   "outputs": [
    {
     "name": "stdout",
     "output_type": "stream",
     "text": [
      "<class 'pandas.core.frame.DataFrame'>\n",
      "RangeIndex: 1812471 entries, 0 to 1812470\n",
      "Data columns (total 3 columns):\n",
      " #   Column  Dtype \n",
      "---  ------  ----- \n",
      " 0   id      int64 \n",
      " 1   type    object\n",
      " 2   name    object\n",
      "dtypes: int64(1), object(2)\n",
      "memory usage: 41.5+ MB\n"
     ]
    },
    {
     "data": {
      "text/html": [
       "<div>\n",
       "<style scoped>\n",
       "    .dataframe tbody tr th:only-of-type {\n",
       "        vertical-align: middle;\n",
       "    }\n",
       "\n",
       "    .dataframe tbody tr th {\n",
       "        vertical-align: top;\n",
       "    }\n",
       "\n",
       "    .dataframe thead th {\n",
       "        text-align: right;\n",
       "    }\n",
       "</style>\n",
       "<table border=\"1\" class=\"dataframe\">\n",
       "  <thead>\n",
       "    <tr style=\"text-align: right;\">\n",
       "      <th></th>\n",
       "      <th>461158</th>\n",
       "      <th>1754316</th>\n",
       "      <th>607087</th>\n",
       "      <th>1808117</th>\n",
       "      <th>393496</th>\n",
       "    </tr>\n",
       "  </thead>\n",
       "  <tbody>\n",
       "    <tr>\n",
       "      <th>id</th>\n",
       "      <td>9672596</td>\n",
       "      <td>83290605</td>\n",
       "      <td>16821988</td>\n",
       "      <td>98472991</td>\n",
       "      <td>7250373</td>\n",
       "    </tr>\n",
       "    <tr>\n",
       "      <th>type</th>\n",
       "      <td>album</td>\n",
       "      <td>track</td>\n",
       "      <td>album</td>\n",
       "      <td>track</td>\n",
       "      <td>album</td>\n",
       "    </tr>\n",
       "    <tr>\n",
       "      <th>name</th>\n",
       "      <td>Astronomia</td>\n",
       "      <td>Finale</td>\n",
       "      <td>Sub Lite Woof</td>\n",
       "      <td>Too Late</td>\n",
       "      <td>Emotional Chamber Trailers</td>\n",
       "    </tr>\n",
       "  </tbody>\n",
       "</table>\n",
       "</div>"
      ],
      "text/plain": [
       "         461158    1754316        607087    1808117  \\\n",
       "id       9672596  83290605       16821988  98472991   \n",
       "type       album     track          album     track   \n",
       "name  Astronomia    Finale  Sub Lite Woof  Too Late   \n",
       "\n",
       "                         393496   \n",
       "id                       7250373  \n",
       "type                       album  \n",
       "name  Emotional Chamber Trailers  "
      ]
     },
     "execution_count": 224,
     "metadata": {},
     "output_type": "execute_result"
    }
   ],
   "source": [
    "catalog.info()\n",
    "catalog.sample(5).T"
   ]
  },
  {
   "cell_type": "markdown",
   "id": "cdfdb386-3ff9-4c8d-8fd0-792d23d30893",
   "metadata": {},
   "source": [
    "В таблице *catalog* присутсвуют данные по следующим признакам:\n",
    "\n",
    "- *id* — идентификатор одной из каталожных единиц (трека, альбома, исполнителя, жанра);\n",
    "\n",
    "- *type* — тип идентификатора;\n",
    "\n",
    "- *name* —  имя (название) каталожной единицы.\n",
    "\n",
    "Всего в таблице 1,8 млн. значений, явные пропуски отсутсвуют. В ячейках размещен текст."
   ]
  },
  {
   "cell_type": "markdown",
   "id": "443eeb4c",
   "metadata": {},
   "source": [
    "<div class=\"alert alert-warning\" style=\"border-radius: 15px; box-shadow: 4px 4px 4px; border: 1px solid \">\n",
    "<b> Комментарий ревьюера  ⚠️</b>\n",
    "    \n",
    "Выводы о том, что явные пропуски отсутствуют, основаны только на вызовах `.info()`. Однако это не гарантирует отсутствие дубликатов или скрытых проблем, таких как пустые строки или некорректные значения. Советую дополнить код вызовами `duplicated` и `isnull`.\n",
    "</div>\n",
    "\n"
   ]
  },
  {
   "cell_type": "code",
   "execution_count": 225,
   "id": "00593b25-255b-41bd-8dfd-68cfe89d2e11",
   "metadata": {},
   "outputs": [
    {
     "name": "stdout",
     "output_type": "stream",
     "text": [
      "<class 'pandas.core.frame.DataFrame'>\n",
      "Index: 222629898 entries, 0 to 291\n",
      "Data columns (total 4 columns):\n",
      " #   Column      Dtype         \n",
      "---  ------      -----         \n",
      " 0   user_id     int32         \n",
      " 1   track_id    int32         \n",
      " 2   track_seq   int16         \n",
      " 3   started_at  datetime64[ns]\n",
      "dtypes: datetime64[ns](1), int16(1), int32(2)\n",
      "memory usage: 5.4 GB\n"
     ]
    },
    {
     "data": {
      "text/html": [
       "<div>\n",
       "<style scoped>\n",
       "    .dataframe tbody tr th:only-of-type {\n",
       "        vertical-align: middle;\n",
       "    }\n",
       "\n",
       "    .dataframe tbody tr th {\n",
       "        vertical-align: top;\n",
       "    }\n",
       "\n",
       "    .dataframe thead th {\n",
       "        text-align: right;\n",
       "    }\n",
       "</style>\n",
       "<table border=\"1\" class=\"dataframe\">\n",
       "  <thead>\n",
       "    <tr style=\"text-align: right;\">\n",
       "      <th></th>\n",
       "      <th>557</th>\n",
       "      <th>623</th>\n",
       "      <th>29</th>\n",
       "      <th>159</th>\n",
       "      <th>14</th>\n",
       "    </tr>\n",
       "  </thead>\n",
       "  <tbody>\n",
       "    <tr>\n",
       "      <th>user_id</th>\n",
       "      <td>463692</td>\n",
       "      <td>850075</td>\n",
       "      <td>685378</td>\n",
       "      <td>791182</td>\n",
       "      <td>740401</td>\n",
       "    </tr>\n",
       "    <tr>\n",
       "      <th>track_id</th>\n",
       "      <td>37078225</td>\n",
       "      <td>32783925</td>\n",
       "      <td>732401</td>\n",
       "      <td>62100563</td>\n",
       "      <td>595258</td>\n",
       "    </tr>\n",
       "    <tr>\n",
       "      <th>track_seq</th>\n",
       "      <td>558</td>\n",
       "      <td>624</td>\n",
       "      <td>30</td>\n",
       "      <td>160</td>\n",
       "      <td>15</td>\n",
       "    </tr>\n",
       "    <tr>\n",
       "      <th>started_at</th>\n",
       "      <td>2022-10-27 00:00:00</td>\n",
       "      <td>2022-09-05 00:00:00</td>\n",
       "      <td>2022-05-23 00:00:00</td>\n",
       "      <td>2022-10-14 00:00:00</td>\n",
       "      <td>2022-05-22 00:00:00</td>\n",
       "    </tr>\n",
       "  </tbody>\n",
       "</table>\n",
       "</div>"
      ],
      "text/plain": [
       "                            557                  623                  29   \\\n",
       "user_id                  463692               850075               685378   \n",
       "track_id               37078225             32783925               732401   \n",
       "track_seq                   558                  624                   30   \n",
       "started_at  2022-10-27 00:00:00  2022-09-05 00:00:00  2022-05-23 00:00:00   \n",
       "\n",
       "                            159                  14   \n",
       "user_id                  791182               740401  \n",
       "track_id               62100563               595258  \n",
       "track_seq                   160                   15  \n",
       "started_at  2022-10-14 00:00:00  2022-05-22 00:00:00  "
      ]
     },
     "execution_count": 225,
     "metadata": {},
     "output_type": "execute_result"
    }
   ],
   "source": [
    "interactions.info()\n",
    "interactions.sample(5).T"
   ]
  },
  {
   "cell_type": "markdown",
   "id": "87af6f1e-28d1-418b-91c1-e7febcfbbf36",
   "metadata": {},
   "source": [
    "В таблице *interactions* присутсвуют данные по следующим признакам:\n",
    "\n",
    "- *user_id* — идентификатор пользователя;\n",
    "\n",
    "- *track_id* — идентификатор музыкального трека;\n",
    "\n",
    "- *track_seq* — номер места трека в истории пользователя;\n",
    "\n",
    "- *started_at* — дата начала прослушивания трека.\n",
    "\n",
    "Всего в таблице содержится 223 млн. записей о прослушанных пользователями треках за 2022 год. Ячейки заполненены целыми числами. Явные пропуски отсутсвуют."
   ]
  },
  {
   "cell_type": "markdown",
   "id": "caa96e12-36a8-4401-8f11-98627a49ae9d",
   "metadata": {},
   "source": [
    "***Вывод:***\n",
    "\n",
    "Были загружены и просмотрены исходные данные, в которых остутсвуют явные проблемы и пропуски."
   ]
  },
  {
   "cell_type": "markdown",
   "id": "68e73960-fd38-4e15-8db0-9a25c35dfd25",
   "metadata": {},
   "source": [
    "# EDA"
   ]
  },
  {
   "cell_type": "markdown",
   "id": "a30e823e-8e0f-4a76-a02e-8d1ba8bf0f8a",
   "metadata": {},
   "source": [
    "Построим распределение количества прослушанных треков по времени."
   ]
  },
  {
   "cell_type": "code",
   "execution_count": 226,
   "id": "dbbfa36a-30ec-4413-b355-62640592088f",
   "metadata": {},
   "outputs": [
    {
     "data": {
      "text/html": [
       "<div>\n",
       "<style scoped>\n",
       "    .dataframe tbody tr th:only-of-type {\n",
       "        vertical-align: middle;\n",
       "    }\n",
       "\n",
       "    .dataframe tbody tr th {\n",
       "        vertical-align: top;\n",
       "    }\n",
       "\n",
       "    .dataframe thead th {\n",
       "        text-align: right;\n",
       "    }\n",
       "</style>\n",
       "<table border=\"1\" class=\"dataframe\">\n",
       "  <thead>\n",
       "    <tr style=\"text-align: right;\">\n",
       "      <th></th>\n",
       "      <th>user_id</th>\n",
       "      <th>track_id</th>\n",
       "      <th>track_seq</th>\n",
       "      <th>started_at</th>\n",
       "    </tr>\n",
       "  </thead>\n",
       "  <tbody>\n",
       "    <tr>\n",
       "      <th>count</th>\n",
       "      <td>2.226299e+08</td>\n",
       "      <td>2.226299e+08</td>\n",
       "      <td>2.226299e+08</td>\n",
       "      <td>222629898</td>\n",
       "    </tr>\n",
       "    <tr>\n",
       "      <th>mean</th>\n",
       "      <td>6.875767e+05</td>\n",
       "      <td>3.653622e+07</td>\n",
       "      <td>4.621403e+02</td>\n",
       "      <td>2022-08-29 16:39:44.541336320</td>\n",
       "    </tr>\n",
       "    <tr>\n",
       "      <th>min</th>\n",
       "      <td>0.000000e+00</td>\n",
       "      <td>2.600000e+01</td>\n",
       "      <td>1.000000e+00</td>\n",
       "      <td>2022-01-01 00:00:00</td>\n",
       "    </tr>\n",
       "    <tr>\n",
       "      <th>25%</th>\n",
       "      <td>3.433710e+05</td>\n",
       "      <td>1.480849e+07</td>\n",
       "      <td>5.600000e+01</td>\n",
       "      <td>2022-07-02 00:00:00</td>\n",
       "    </tr>\n",
       "    <tr>\n",
       "      <th>50%</th>\n",
       "      <td>6.879730e+05</td>\n",
       "      <td>3.552474e+07</td>\n",
       "      <td>1.810000e+02</td>\n",
       "      <td>2022-09-15 00:00:00</td>\n",
       "    </tr>\n",
       "    <tr>\n",
       "      <th>75%</th>\n",
       "      <td>1.031127e+06</td>\n",
       "      <td>5.651137e+07</td>\n",
       "      <td>5.060000e+02</td>\n",
       "      <td>2022-11-09 00:00:00</td>\n",
       "    </tr>\n",
       "    <tr>\n",
       "      <th>max</th>\n",
       "      <td>1.374582e+06</td>\n",
       "      <td>1.015218e+08</td>\n",
       "      <td>1.663700e+04</td>\n",
       "      <td>2022-12-31 00:00:00</td>\n",
       "    </tr>\n",
       "    <tr>\n",
       "      <th>std</th>\n",
       "      <td>3.969033e+05</td>\n",
       "      <td>2.661782e+07</td>\n",
       "      <td>8.257312e+02</td>\n",
       "      <td>NaN</td>\n",
       "    </tr>\n",
       "  </tbody>\n",
       "</table>\n",
       "</div>"
      ],
      "text/plain": [
       "            user_id      track_id     track_seq                     started_at\n",
       "count  2.226299e+08  2.226299e+08  2.226299e+08                      222629898\n",
       "mean   6.875767e+05  3.653622e+07  4.621403e+02  2022-08-29 16:39:44.541336320\n",
       "min    0.000000e+00  2.600000e+01  1.000000e+00            2022-01-01 00:00:00\n",
       "25%    3.433710e+05  1.480849e+07  5.600000e+01            2022-07-02 00:00:00\n",
       "50%    6.879730e+05  3.552474e+07  1.810000e+02            2022-09-15 00:00:00\n",
       "75%    1.031127e+06  5.651137e+07  5.060000e+02            2022-11-09 00:00:00\n",
       "max    1.374582e+06  1.015218e+08  1.663700e+04            2022-12-31 00:00:00\n",
       "std    3.969033e+05  2.661782e+07  8.257312e+02                            NaN"
      ]
     },
     "execution_count": 226,
     "metadata": {},
     "output_type": "execute_result"
    }
   ],
   "source": [
    "interactions.describe()"
   ]
  },
  {
   "cell_type": "markdown",
   "id": "a7f8c132-70ba-41a8-9409-7d17538852d0",
   "metadata": {},
   "source": [
    "Основные статистические показатели говорят что второй и третий квартили прослушиваний были между июлем и ноябрем 2022 года."
   ]
  },
  {
   "cell_type": "code",
   "execution_count": 227,
   "id": "9bf5eaba-35f7-4da7-be59-9ab4a34b2423",
   "metadata": {},
   "outputs": [
    {
     "data": {
      "text/plain": [
       "<Axes: >"
      ]
     },
     "execution_count": 227,
     "metadata": {},
     "output_type": "execute_result"
    },
    {
     "data": {
      "image/png": "[encoded data removed]",
      "text/plain": [
       "<Figure size 640x480 with 1 Axes>"
      ]
     },
     "metadata": {},
     "output_type": "display_data"
    }
   ],
   "source": [
    "interactions['started_at'].hist()"
   ]
  },
  {
   "cell_type": "markdown",
   "id": "64445dd1-0738-44a3-a664-22d11eac5b50",
   "metadata": {},
   "source": [
    "Количество прослушанных треков по месяцам росло линейно."
   ]
  },
  {
   "cell_type": "code",
   "execution_count": 228,
   "id": "4df8ffa4-bf2c-4d2d-89b1-3bd5faed079d",
   "metadata": {},
   "outputs": [
    {
     "data": {
      "text/plain": [
       "<Axes: xlabel='started_at'>"
      ]
     },
     "execution_count": 228,
     "metadata": {},
     "output_type": "execute_result"
    },
    {
     "data": {
      "image/png": "[encoded data removed]",
      "text/plain": [
       "<Figure size 640x480 with 1 Axes>"
      ]
     },
     "metadata": {},
     "output_type": "display_data"
    }
   ],
   "source": [
    "# распределение книг по годам публикации\n",
    "interactions['started_at'].value_counts().sort_index().plot()"
   ]
  },
  {
   "cell_type": "markdown",
   "id": "d765519a-18dd-4d30-9e29-cc2d84cacd79",
   "metadata": {},
   "source": [
    "Распределение количество прослушиваний в течении года расло равномерно, но с середины ноября ушло в ноль.\n",
    "\n",
    "---\n",
    "\n",
    "Далее изучим наиболее популярные треки."
   ]
  },
  {
   "cell_type": "code",
   "execution_count": 229,
   "id": "aecaf630-fde0-4860-b84a-42c933a9606e",
   "metadata": {
    "scrolled": true
   },
   "outputs": [],
   "source": [
    "track_chart = interactions.groupby('track_id').count().sort_values('user_id', ascending = False)['user_id']"
   ]
  },
  {
   "cell_type": "code",
   "execution_count": 230,
   "id": "48ae0c62-cb41-47c2-ab28-d0e83c3762d7",
   "metadata": {},
   "outputs": [
    {
     "data": {
      "text/plain": [
       "<Axes: >"
      ]
     },
     "execution_count": 230,
     "metadata": {},
     "output_type": "execute_result"
    },
    {
     "data": {
      "image/png": "[encoded data removed]",
      "text/plain": [
       "<Figure size 640x480 with 1 Axes>"
      ]
     },
     "metadata": {},
     "output_type": "display_data"
    }
   ],
   "source": [
    "track_chart.hist()"
   ]
  },
  {
   "cell_type": "code",
   "execution_count": 231,
   "id": "15f9d0a8-aa15-40ae-bc23-64460975d4a8",
   "metadata": {},
   "outputs": [],
   "source": [
    "q1 = track_chart.quantile(0.25)\n",
    "q3 = track_chart.quantile(0.75)\n",
    "iqr = q3 - q1"
   ]
  },
  {
   "cell_type": "code",
   "execution_count": 232,
   "id": "3a46e668-acaf-4d05-8256-8649dddcfac4",
   "metadata": {},
   "outputs": [
    {
     "data": {
      "text/plain": [
       "Index([46561976,  9447169, 44742298, 17191009, 24629122,  2286217,  4209893,\n",
       "       24629079, 23527801, 74077966,\n",
       "       ...\n",
       "       84383212, 84383626, 84385833, 84386822, 84390115, 84391078, 84391079,\n",
       "       84391080, 34766819, 34766901],\n",
       "      dtype='int32', name='track_id', length=846573)"
      ]
     },
     "execution_count": 232,
     "metadata": {},
     "output_type": "execute_result"
    }
   ],
   "source": [
    "tracks_without_outliers = track_chart[track_chart.between(q1 - 1.5 * iqr, q3 + 1.5 * iqr)].index\n",
    "tracks_without_outliers"
   ]
  },
  {
   "cell_type": "code",
   "execution_count": 233,
   "id": "aa51182c-1a85-4622-b56c-99eafa4fb1ef",
   "metadata": {},
   "outputs": [
    {
     "data": {
      "text/plain": [
       "<Axes: >"
      ]
     },
     "execution_count": 233,
     "metadata": {},
     "output_type": "execute_result"
    },
    {
     "data": {
      "image/png": "[encoded data removed]",
      "text/plain": [
       "<Figure size 640x480 with 1 Axes>"
      ]
     },
     "metadata": {},
     "output_type": "display_data"
    }
   ],
   "source": [
    "track_chart[tracks_without_outliers].hist(bins=100)"
   ]
  },
  {
   "cell_type": "code",
   "execution_count": 234,
   "id": "43554220-8ec5-43e8-a71a-2c68277d23d6",
   "metadata": {},
   "outputs": [],
   "source": [
    "pop_tracks_150 = track_chart[track_chart>150].index"
   ]
  },
  {
   "cell_type": "code",
   "execution_count": 235,
   "id": "707dcd40-f322-43a7-a629-97fe9ed72718",
   "metadata": {},
   "outputs": [
    {
     "data": {
      "text/plain": [
       "821569     Smells Like Teen Spirit\n",
       "839136                        Numb\n",
       "902932           Shape Of My Heart\n",
       "1009736          Seven Nation Army\n",
       "1180543             Way Down We Go\n",
       "1287760               Shape of You\n",
       "1296347                   Believer\n",
       "1324628                 I Got Love\n",
       "1459708                       Life\n",
       "1508577                 In The End\n",
       "1591752            Blinding Lights\n",
       "1641791                     Юность\n",
       "Name: name, dtype: object"
      ]
     },
     "execution_count": 235,
     "metadata": {},
     "output_type": "execute_result"
    }
   ],
   "source": [
    "catalog[catalog['id'].isin(track_chart.index[:12])]['name']"
   ]
  },
  {
   "cell_type": "markdown",
   "id": "b1c32a5a-d3be-4f96-8dd9-f7860951020c",
   "metadata": {},
   "source": [
    "В общем Кобейн и Бенингтон живы!\n",
    "\n",
    "---\n",
    "\n",
    "Изучим наиболее популярные жанры"
   ]
  },
  {
   "cell_type": "code",
   "execution_count": 236,
   "id": "94c9b805-7c2b-41da-a1b8-4530f654c6f1",
   "metadata": {},
   "outputs": [],
   "source": [
    "genres_chart = tracks[tracks['track_id'].isin(track_chart.index[:5])]['genres']"
   ]
  },
  {
   "cell_type": "code",
   "execution_count": 237,
   "id": "10f3d52a-63cf-4f5f-b779-c9bcb2b83a1f",
   "metadata": {},
   "outputs": [
    {
     "data": {
      "text/plain": [
       "[13, 14, 102, 41, 47, 14, 102, 3, 75, 11, 20]"
      ]
     },
     "execution_count": 237,
     "metadata": {},
     "output_type": "execute_result"
    }
   ],
   "source": [
    "genres = []\n",
    "for i in genres_chart:\n",
    "    genres.extend(i)\n",
    "genres"
   ]
  },
  {
   "cell_type": "code",
   "execution_count": 238,
   "id": "8cfc08a7-1693-43bc-9962-29f6e711d89e",
   "metadata": {},
   "outputs": [
    {
     "data": {
      "text/plain": [
       "{3, 11, 13, 14, 20, 41, 47, 75, 102}"
      ]
     },
     "execution_count": 238,
     "metadata": {},
     "output_type": "execute_result"
    }
   ],
   "source": [
    "set(genres)"
   ]
  },
  {
   "cell_type": "code",
   "execution_count": 239,
   "id": "50bc50c6-2d83-4c7e-97fa-3e7627978438",
   "metadata": {},
   "outputs": [
    {
     "data": {
      "text/html": [
       "<div>\n",
       "<style scoped>\n",
       "    .dataframe tbody tr th:only-of-type {\n",
       "        vertical-align: middle;\n",
       "    }\n",
       "\n",
       "    .dataframe tbody tr th {\n",
       "        vertical-align: top;\n",
       "    }\n",
       "\n",
       "    .dataframe thead th {\n",
       "        text-align: right;\n",
       "    }\n",
       "</style>\n",
       "<table border=\"1\" class=\"dataframe\">\n",
       "  <thead>\n",
       "    <tr style=\"text-align: right;\">\n",
       "      <th></th>\n",
       "      <th>id</th>\n",
       "      <th>type</th>\n",
       "      <th>name</th>\n",
       "    </tr>\n",
       "  </thead>\n",
       "  <tbody>\n",
       "    <tr>\n",
       "      <th>812308</th>\n",
       "      <td>3</td>\n",
       "      <td>genre</td>\n",
       "      <td>rusrap</td>\n",
       "    </tr>\n",
       "    <tr>\n",
       "      <th>812316</th>\n",
       "      <td>11</td>\n",
       "      <td>genre</td>\n",
       "      <td>pop</td>\n",
       "    </tr>\n",
       "    <tr>\n",
       "      <th>812318</th>\n",
       "      <td>13</td>\n",
       "      <td>genre</td>\n",
       "      <td>alternative</td>\n",
       "    </tr>\n",
       "    <tr>\n",
       "      <th>812319</th>\n",
       "      <td>14</td>\n",
       "      <td>genre</td>\n",
       "      <td>rock</td>\n",
       "    </tr>\n",
       "    <tr>\n",
       "      <th>812325</th>\n",
       "      <td>20</td>\n",
       "      <td>genre</td>\n",
       "      <td>ruspop</td>\n",
       "    </tr>\n",
       "    <tr>\n",
       "      <th>812346</th>\n",
       "      <td>41</td>\n",
       "      <td>genre</td>\n",
       "      <td>numetal</td>\n",
       "    </tr>\n",
       "    <tr>\n",
       "      <th>812352</th>\n",
       "      <td>47</td>\n",
       "      <td>genre</td>\n",
       "      <td>metal</td>\n",
       "    </tr>\n",
       "    <tr>\n",
       "      <th>812380</th>\n",
       "      <td>75</td>\n",
       "      <td>genre</td>\n",
       "      <td>rap</td>\n",
       "    </tr>\n",
       "    <tr>\n",
       "      <th>812407</th>\n",
       "      <td>102</td>\n",
       "      <td>genre</td>\n",
       "      <td>allrock</td>\n",
       "    </tr>\n",
       "  </tbody>\n",
       "</table>\n",
       "</div>"
      ],
      "text/plain": [
       "         id   type         name\n",
       "812308    3  genre       rusrap\n",
       "812316   11  genre          pop\n",
       "812318   13  genre  alternative\n",
       "812319   14  genre         rock\n",
       "812325   20  genre       ruspop\n",
       "812346   41  genre      numetal\n",
       "812352   47  genre        metal\n",
       "812380   75  genre          rap\n",
       "812407  102  genre      allrock"
      ]
     },
     "execution_count": 239,
     "metadata": {},
     "output_type": "execute_result"
    }
   ],
   "source": [
    "top_genres = catalog[catalog['id'].isin(set(genres))]\n",
    "top_genres = top_genres[top_genres['type']=='genre']\n",
    "top_genres"
   ]
  },
  {
   "cell_type": "markdown",
   "id": "15254e66-e80e-473b-ba24-abebea5ccac7",
   "metadata": {},
   "source": [
    "Наиболее популярными оказались русский рэп и поп. К сожалению...\n",
    "\n",
    "---\n",
    "\n",
    "Найдем треки, которые никто не прослушал"
   ]
  },
  {
   "cell_type": "code",
   "execution_count": 240,
   "id": "a4d69184-e90d-4fab-93aa-21b192cff5f8",
   "metadata": {},
   "outputs": [],
   "source": [
    "track_list = interactions['track_id'].unique()"
   ]
  },
  {
   "cell_type": "code",
   "execution_count": 241,
   "id": "443f95b6-fa05-409b-a4c7-1c22fb69f1d6",
   "metadata": {},
   "outputs": [],
   "source": [
    "track_list_all = catalog[catalog['type']=='track']['id'].unique()"
   ]
  },
  {
   "cell_type": "code",
   "execution_count": 242,
   "id": "d1b3802f-52b6-49b7-ac24-b5aa677e35db",
   "metadata": {},
   "outputs": [
    {
     "data": {
      "text/plain": [
       "1.0"
      ]
     },
     "execution_count": 242,
     "metadata": {},
     "output_type": "execute_result"
    }
   ],
   "source": [
    "len(track_list)/len(track_list_all)"
   ]
  },
  {
   "cell_type": "code",
   "execution_count": 243,
   "id": "29dbaf56-15c6-4ccd-9d1e-98b1aaa04dc4",
   "metadata": {},
   "outputs": [],
   "source": [
    "missed_tracks = np.setdiff1d(track_list, track_list_all)"
   ]
  },
  {
   "cell_type": "code",
   "execution_count": 244,
   "id": "bc8c3f58-19f6-4d33-baf9-452dd3b8117d",
   "metadata": {},
   "outputs": [
    {
     "data": {
      "text/plain": [
       "array([], dtype=int32)"
      ]
     },
     "execution_count": 244,
     "metadata": {},
     "output_type": "execute_result"
    }
   ],
   "source": [
    "missed_tracks"
   ]
  },
  {
   "cell_type": "markdown",
   "id": "693d5c7d-ea22-4327-99b4-3cde5e3521ff",
   "metadata": {},
   "source": [
    "В пердоставленных данных отсутствуют треки, которые никто ни разу не слушал.\n",
    "\n",
    "---\n",
    "\n",
    "Изучим наиболее активных пользователей"
   ]
  },
  {
   "cell_type": "code",
   "execution_count": 245,
   "id": "3b9a6c5c-b836-4b1e-a073-5fcc649ed22c",
   "metadata": {},
   "outputs": [],
   "source": [
    "user_activity = events \\\n",
    "    .groupby([\"user_id\"]).agg(items=(\"item_id\", \"nunique\"))\\\n",
    ".sort_values(\"items\", ascending=False).reset_index()"
   ]
  },
  {
   "cell_type": "code",
   "execution_count": 246,
   "id": "029eb3db-c05b-4303-a956-d958fc18044a",
   "metadata": {},
   "outputs": [
    {
     "data": {
      "text/plain": [
       "<Axes: >"
      ]
     },
     "execution_count": 246,
     "metadata": {},
     "output_type": "execute_result"
    },
    {
     "data": {
      "image/png": "[encoded data removed]",
      "text/plain": [
       "<Figure size 640x480 with 1 Axes>"
      ]
     },
     "metadata": {},
     "output_type": "display_data"
    }
   ],
   "source": [
    "user_activity['items'].hist()"
   ]
  },
  {
   "cell_type": "code",
   "execution_count": 247,
   "id": "0b32ccd5-80a4-468b-bbe3-93c393135d79",
   "metadata": {},
   "outputs": [
    {
     "name": "stdout",
     "output_type": "stream",
     "text": [
      "10.0 23.0 13.0\n"
     ]
    }
   ],
   "source": [
    "q1 = user_activity['items'].quantile(0.25)\n",
    "q3 = user_activity['items'].quantile(0.75)\n",
    "iqr = q3 - q1\n",
    "print(q1, q3, iqr)"
   ]
  },
  {
   "cell_type": "markdown",
   "id": "861edd0a",
   "metadata": {},
   "source": [
    "<div class=\"alert alert-warning\" style=\"border-radius: 15px; box-shadow: 4px 4px 4px; border: 1px solid \">\n",
    "<b> Комментарий ревьюера  ⚠️</b>\n",
    "    \n",
    "Код для вычисления выбросов повторяется дважды (для треков и пользователей). Для удобства и красоты можно вынести код вычисления выбросов в функцию, чтобы избежать дублирования.\n",
    "</div>\n"
   ]
  },
  {
   "cell_type": "code",
   "execution_count": 248,
   "id": "d4369c0a-edd9-4801-bec7-9077d7b45419",
   "metadata": {},
   "outputs": [
    {
     "data": {
      "text/plain": [
       "299092"
      ]
     },
     "execution_count": 248,
     "metadata": {},
     "output_type": "execute_result"
    }
   ],
   "source": [
    "activ_users_without_outliers = user_activity[user_activity['items'].between(q1 - 1.5 * iqr, q3 + 1.5 * iqr)]['user_id']\n",
    "len(activ_users_without_outliers)"
   ]
  },
  {
   "cell_type": "code",
   "execution_count": 251,
   "id": "f0088a5f-4978-478e-b596-28cbd643e776",
   "metadata": {},
   "outputs": [
    {
     "data": {
      "text/plain": [
       "<Axes: >"
      ]
     },
     "execution_count": 251,
     "metadata": {},
     "output_type": "execute_result"
    },
    {
     "data": {
      "image/png": "[encoded data removed]",
      "text/plain": [
       "<Figure size 640x480 with 1 Axes>"
      ]
     },
     "metadata": {},
     "output_type": "display_data"
    }
   ],
   "source": [
    "user_activity[user_activity['user_id'].isin(activ_users_without_outliers)]['items'].hist()"
   ]
  },
  {
   "cell_type": "markdown",
   "id": "ce8baa7d-3113-4472-ad21-3a001ea3045b",
   "metadata": {},
   "source": [
    "***Вывод:***\n",
    "\n",
    "Были изучены распределения прослушанных треков по месяцам, активности пользователей и популярности треков. Были выделены треки и пользователи, популярность и активность которых не является выбросом."
   ]
  },
  {
   "cell_type": "markdown",
   "id": "e9d37a9f",
   "metadata": {},
   "source": [
    "<div class=\"alert alert-success\" style=\"border-radius: 15px; box-shadow: 4px 4px 4px; border: 1px solid \">\n",
    "<b> Комментарий ревьюера  ✔️</b>\n",
    "    \n",
    "Хороший вывод и код уже имеет хороший фундамент для исследования данных и выявления закономерностей для создания рекомендательной системы. \n",
    "</div>\n",
    "\n"
   ]
  },
  {
   "cell_type": "markdown",
   "id": "0d850a07-ef1e-462f-891a-1cf89f2e24ef",
   "metadata": {},
   "source": [
    "# Преобразование данных"
   ]
  },
  {
   "cell_type": "markdown",
   "id": "fabcf8d2-1192-4df5-b20b-fbb84689f57a",
   "metadata": {},
   "source": [
    "Данные не требуют значительных преобразований, но с целью сохранения единообразия названий признаков приведем их к единому виду."
   ]
  },
  {
   "cell_type": "code",
   "execution_count": 252,
   "id": "3a99e451-e85a-4c45-8dd5-2db8c76a50ec",
   "metadata": {},
   "outputs": [],
   "source": [
    "events = interactions.rename(columns={'track_id': 'item_id'}).copy()\n",
    "items = tracks.rename(columns={'track_id': 'item_id'}).copy()"
   ]
  },
  {
   "cell_type": "markdown",
   "id": "4d1be653-eed8-4fa0-a9c5-3811b080d71d",
   "metadata": {},
   "source": [
    "#### Сохранение данных"
   ]
  },
  {
   "cell_type": "markdown",
   "id": "36f1314a-3af3-4faf-a0b1-3045173d1500",
   "metadata": {},
   "source": [
    "Сохраним данные в двух файлах в персональном S3-бакете по пути `recsys/data/`:\n",
    "- `items.parquet` — все данные о музыкальных треках,\n",
    "- `events.parquet` — все данные о взаимодействиях."
   ]
  },
  {
   "cell_type": "code",
   "execution_count": 254,
   "id": "9f77af17-7705-4fae-9aad-db579b39faad",
   "metadata": {},
   "outputs": [],
   "source": [
    "items.to_parquet(\"items.parquet\")\n",
    "items.to_parquet(\"items_raw.parquet\")"
   ]
  },
  {
   "cell_type": "code",
   "execution_count": 255,
   "id": "e572e782-6ade-401b-a4e2-0c665320aaee",
   "metadata": {},
   "outputs": [],
   "source": [
    "events.to_parquet(\"events.parquet\")\n",
    "events.to_parquet(\"events_raw.parquet\")"
   ]
  },
  {
   "cell_type": "markdown",
   "id": "72ecbbed-c560-44d9-9c14-86c7dc76f399",
   "metadata": {},
   "source": [
    "#### Очистка памяти"
   ]
  },
  {
   "cell_type": "markdown",
   "id": "b5358ede-ba6e-4c4f-bd73-5b9344f0ba79",
   "metadata": {},
   "source": [
    "Выполним очистку памяти с целью высвобождения ресурсов для выполнения кода ниже. "
   ]
  },
  {
   "cell_type": "code",
   "execution_count": 143,
   "id": "767fe920-e12e-4ad8-b04e-56e8091fac9f",
   "metadata": {},
   "outputs": [],
   "source": [
    "del tracks\n",
    "del interactions\n",
    "del items\n",
    "del events"
   ]
  },
  {
   "cell_type": "markdown",
   "id": "fd77de22-e10f-4b42-85c1-8fb6f805fe68",
   "metadata": {},
   "source": [
    "# Загрузка данных"
   ]
  },
  {
   "cell_type": "markdown",
   "id": "780a4241-1ecd-4a3e-bbb3-fc2f6ca94f68",
   "metadata": {},
   "source": [
    "Если необходимо, то загружаем items.parquet, events.parquet."
   ]
  },
  {
   "cell_type": "code",
   "execution_count": 144,
   "id": "f19fc8a5-bd2c-40d7-864a-ee75aca6d512",
   "metadata": {},
   "outputs": [],
   "source": [
    "items = pd.read_parquet(\"./items.parquet\")\n",
    "events = pd.read_parquet(\"./events.parquet\")\n",
    "#catalog = pd.read_parquet(\"./catalog_names.parquet\")"
   ]
  },
  {
   "cell_type": "code",
   "execution_count": 145,
   "id": "5db1e801-5845-4ce3-86f2-c2fa30f68cc5",
   "metadata": {},
   "outputs": [
    {
     "data": {
      "text/html": [
       "<div>\n",
       "<style scoped>\n",
       "    .dataframe tbody tr th:only-of-type {\n",
       "        vertical-align: middle;\n",
       "    }\n",
       "\n",
       "    .dataframe tbody tr th {\n",
       "        vertical-align: top;\n",
       "    }\n",
       "\n",
       "    .dataframe thead th {\n",
       "        text-align: right;\n",
       "    }\n",
       "</style>\n",
       "<table border=\"1\" class=\"dataframe\">\n",
       "  <thead>\n",
       "    <tr style=\"text-align: right;\">\n",
       "      <th></th>\n",
       "      <th>user_id</th>\n",
       "      <th>item_id</th>\n",
       "      <th>track_seq</th>\n",
       "      <th>started_at</th>\n",
       "    </tr>\n",
       "  </thead>\n",
       "  <tbody>\n",
       "    <tr>\n",
       "      <th>count</th>\n",
       "      <td>2.226299e+08</td>\n",
       "      <td>2.226299e+08</td>\n",
       "      <td>2.226299e+08</td>\n",
       "      <td>222629898</td>\n",
       "    </tr>\n",
       "    <tr>\n",
       "      <th>mean</th>\n",
       "      <td>6.875767e+05</td>\n",
       "      <td>3.653622e+07</td>\n",
       "      <td>4.621403e+02</td>\n",
       "      <td>2022-08-29 16:39:44.541336320</td>\n",
       "    </tr>\n",
       "    <tr>\n",
       "      <th>min</th>\n",
       "      <td>0.000000e+00</td>\n",
       "      <td>2.600000e+01</td>\n",
       "      <td>1.000000e+00</td>\n",
       "      <td>2022-01-01 00:00:00</td>\n",
       "    </tr>\n",
       "    <tr>\n",
       "      <th>25%</th>\n",
       "      <td>3.433710e+05</td>\n",
       "      <td>1.480849e+07</td>\n",
       "      <td>5.600000e+01</td>\n",
       "      <td>2022-07-02 00:00:00</td>\n",
       "    </tr>\n",
       "    <tr>\n",
       "      <th>50%</th>\n",
       "      <td>6.879730e+05</td>\n",
       "      <td>3.552474e+07</td>\n",
       "      <td>1.810000e+02</td>\n",
       "      <td>2022-09-15 00:00:00</td>\n",
       "    </tr>\n",
       "    <tr>\n",
       "      <th>75%</th>\n",
       "      <td>1.031127e+06</td>\n",
       "      <td>5.651137e+07</td>\n",
       "      <td>5.060000e+02</td>\n",
       "      <td>2022-11-09 00:00:00</td>\n",
       "    </tr>\n",
       "    <tr>\n",
       "      <th>max</th>\n",
       "      <td>1.374582e+06</td>\n",
       "      <td>1.015218e+08</td>\n",
       "      <td>1.663700e+04</td>\n",
       "      <td>2022-12-31 00:00:00</td>\n",
       "    </tr>\n",
       "    <tr>\n",
       "      <th>std</th>\n",
       "      <td>3.969033e+05</td>\n",
       "      <td>2.661782e+07</td>\n",
       "      <td>8.257312e+02</td>\n",
       "      <td>NaN</td>\n",
       "    </tr>\n",
       "  </tbody>\n",
       "</table>\n",
       "</div>"
      ],
      "text/plain": [
       "            user_id       item_id     track_seq                     started_at\n",
       "count  2.226299e+08  2.226299e+08  2.226299e+08                      222629898\n",
       "mean   6.875767e+05  3.653622e+07  4.621403e+02  2022-08-29 16:39:44.541336320\n",
       "min    0.000000e+00  2.600000e+01  1.000000e+00            2022-01-01 00:00:00\n",
       "25%    3.433710e+05  1.480849e+07  5.600000e+01            2022-07-02 00:00:00\n",
       "50%    6.879730e+05  3.552474e+07  1.810000e+02            2022-09-15 00:00:00\n",
       "75%    1.031127e+06  5.651137e+07  5.060000e+02            2022-11-09 00:00:00\n",
       "max    1.374582e+06  1.015218e+08  1.663700e+04            2022-12-31 00:00:00\n",
       "std    3.969033e+05  2.661782e+07  8.257312e+02                            NaN"
      ]
     },
     "execution_count": 145,
     "metadata": {},
     "output_type": "execute_result"
    }
   ],
   "source": [
    "events.describe()"
   ]
  },
  {
   "cell_type": "markdown",
   "id": "a694c023-6477-490b-939d-1cfa6f5f1b72",
   "metadata": {},
   "source": [
    "# Разбиение данных"
   ]
  },
  {
   "cell_type": "markdown",
   "id": "fbd5f6e0-54e7-4428-8678-eabce505d82c",
   "metadata": {},
   "source": [
    "Разбиваем данные на тренировочную, тестовую выборки."
   ]
  },
  {
   "cell_type": "code",
   "execution_count": 146,
   "id": "00c2dfa5-d8a2-47d1-922e-6eefee2c62d1",
   "metadata": {},
   "outputs": [
    {
     "name": "stdout",
     "output_type": "stream",
     "text": [
      "1342566 783525 752870\n"
     ]
    }
   ],
   "source": [
    "train_test_global_time_split_date = pd.to_datetime(\"2022-12-16\")#.date()\n",
    "\n",
    "train_test_global_time_split_idx = events[\"started_at\"] < train_test_global_time_split_date\n",
    "events_train = events[train_test_global_time_split_idx]\n",
    "events_test = events[~train_test_global_time_split_idx]\n",
    "\n",
    "# количество пользователей в train и test\n",
    "users_train = events_train[\"user_id\"].drop_duplicates()\n",
    "users_test = events_test[\"user_id\"].drop_duplicates()\n",
    "\n",
    "# количество пользователей, которые есть и в train, и в test\n",
    "common_users = set(users_test).intersection(set(users_train))\n",
    "\n",
    "print(len(users_train), len(users_test), len(common_users)) "
   ]
  },
  {
   "cell_type": "code",
   "execution_count": 147,
   "id": "26fe3e3c-8c5f-4437-bf13-9191adef08bb",
   "metadata": {},
   "outputs": [
    {
     "name": "stdout",
     "output_type": "stream",
     "text": [
      "30655\n"
     ]
    }
   ],
   "source": [
    "# количество холодных пользователей\n",
    "cold_users = set(users_test).difference(set(users_train))\n",
    "print(len(cold_users)) "
   ]
  },
  {
   "cell_type": "markdown",
   "id": "9131c7e6-8852-4556-b510-51f7253cc299",
   "metadata": {},
   "source": [
    "# Топ популярных"
   ]
  },
  {
   "cell_type": "markdown",
   "id": "dd70d43a-88cc-4719-b291-feaed7136f30",
   "metadata": {},
   "source": [
    "Рассчитаем рекомендации как топ популярных."
   ]
  },
  {
   "cell_type": "code",
   "execution_count": 148,
   "id": "ee45e200-b7d6-4f56-9077-aad431689b96",
   "metadata": {},
   "outputs": [
    {
     "data": {
      "text/html": [
       "<div>\n",
       "<style scoped>\n",
       "    .dataframe tbody tr th:only-of-type {\n",
       "        vertical-align: middle;\n",
       "    }\n",
       "\n",
       "    .dataframe tbody tr th {\n",
       "        vertical-align: top;\n",
       "    }\n",
       "\n",
       "    .dataframe thead th {\n",
       "        text-align: right;\n",
       "    }\n",
       "</style>\n",
       "<table border=\"1\" class=\"dataframe\">\n",
       "  <thead>\n",
       "    <tr style=\"text-align: right;\">\n",
       "      <th></th>\n",
       "      <th>item_id</th>\n",
       "      <th>users</th>\n",
       "    </tr>\n",
       "  </thead>\n",
       "  <tbody>\n",
       "    <tr>\n",
       "      <th>0</th>\n",
       "      <td>53404</td>\n",
       "      <td>110026</td>\n",
       "    </tr>\n",
       "    <tr>\n",
       "      <th>1</th>\n",
       "      <td>33311009</td>\n",
       "      <td>101076</td>\n",
       "    </tr>\n",
       "    <tr>\n",
       "      <th>2</th>\n",
       "      <td>178529</td>\n",
       "      <td>100866</td>\n",
       "    </tr>\n",
       "    <tr>\n",
       "      <th>3</th>\n",
       "      <td>35505245</td>\n",
       "      <td>95523</td>\n",
       "    </tr>\n",
       "    <tr>\n",
       "      <th>4</th>\n",
       "      <td>24692821</td>\n",
       "      <td>84153</td>\n",
       "    </tr>\n",
       "  </tbody>\n",
       "</table>\n",
       "</div>"
      ],
      "text/plain": [
       "    item_id   users\n",
       "0     53404  110026\n",
       "1  33311009  101076\n",
       "2    178529  100866\n",
       "3  35505245   95523\n",
       "4  24692821   84153"
      ]
     },
     "execution_count": 148,
     "metadata": {},
     "output_type": "execute_result"
    }
   ],
   "source": [
    "top_pop_start_date = pd.to_datetime(\"2022-12-16\").date()\n",
    "\n",
    "item_popularity = events_train \\\n",
    "    .query(\"started_at < @top_pop_start_date\") \\\n",
    "    .groupby([\"item_id\"]).agg(users=(\"user_id\", \"nunique\"))\\\n",
    ".sort_values(\"users\", ascending=False).reset_index()\n",
    "#item_popularity[\"popularity_weighted\"] = item_popularity[\"users\"] * item_popularity[\"avg_rating\"]\n",
    "item_popularity.head()"
   ]
  },
  {
   "cell_type": "code",
   "execution_count": 149,
   "id": "511b7fa2-6d5d-438b-9d78-13a9a44f13a5",
   "metadata": {},
   "outputs": [],
   "source": [
    "# выбираем первые 200 айтемов\n",
    "top_k_pop_items = item_popularity.head(200)"
   ]
  },
  {
   "cell_type": "code",
   "execution_count": 150,
   "id": "fd02680a-250a-416a-adf5-5e3c5e79a734",
   "metadata": {},
   "outputs": [],
   "source": [
    "# добавляем информацию о треках\n",
    "top_k_pop_items = top_k_pop_items.merge(\n",
    "    items.set_index(\"item_id\")[[\"albums\", \"artists\", \"genres\"]], on=\"item_id\")"
   ]
  },
  {
   "cell_type": "code",
   "execution_count": 151,
   "id": "0d2f612b-451c-4343-8b46-3027a3fb3de0",
   "metadata": {},
   "outputs": [],
   "source": [
    "top_k_pop_items.to_parquet('top_popular.parquet')"
   ]
  },
  {
   "cell_type": "markdown",
   "id": "252c369f",
   "metadata": {},
   "source": [
    "<div class=\"alert alert-success\" style=\"border-radius: 15px; box-shadow: 4px 4px 4px; border: 1px solid \">\n",
    "<b> Комментарий ревьюера  ✔️</b>\n",
    "    \n",
    "Код разбиения данных корректный. Отмечается четкое разделение на тренировочную и тестовую выборки. Рассчет топ популярных треков выполнен корректно. Нет существенных замечаний.\n",
    "</div>\n",
    "\n"
   ]
  },
  {
   "cell_type": "markdown",
   "id": "2ad231f2-6158-421a-b7fa-01d8bc3ed572",
   "metadata": {},
   "source": [
    "# Персональные"
   ]
  },
  {
   "cell_type": "markdown",
   "id": "f92e1158-e458-4c03-bd49-50f958d0fb39",
   "metadata": {},
   "source": [
    "Рассчитаем объем, который займет матрица со всеми событиями."
   ]
  },
  {
   "cell_type": "code",
   "execution_count": 156,
   "id": "6bd12fa5-8dc0-4fcc-8b6f-ce59f69e61fd",
   "metadata": {},
   "outputs": [
    {
     "data": {
      "text/plain": [
       "1278.911717236042"
      ]
     },
     "execution_count": 156,
     "metadata": {},
     "output_type": "execute_result"
    }
   ],
   "source": [
    "user_item_matrix = events['user_id'].nunique() * events['item_id'].nunique() / (1024 ** 3)\n",
    "user_item_matrix"
   ]
  },
  {
   "cell_type": "markdown",
   "id": "86159460-cd9d-4b63-8248-604ea3c9aebf",
   "metadata": {},
   "source": [
    "Получилось более террабайта. Рассчитаем персональные рекомендации. Для оптимизации размера матрицы уберем выбросы в количестве прослушиваний треков."
   ]
  },
  {
   "cell_type": "code",
   "execution_count": 159,
   "id": "a1591fbb-ef9f-4415-8ffb-39459cd2af83",
   "metadata": {},
   "outputs": [],
   "source": [
    "items = items[items['item_id'].isin(tracks_without_outliers)]"
   ]
  },
  {
   "cell_type": "code",
   "execution_count": 160,
   "id": "9848068e-e2ff-4f7b-bb04-cd59acd470c2",
   "metadata": {},
   "outputs": [
    {
     "data": {
      "text/plain": [
       "23454774"
      ]
     },
     "execution_count": 160,
     "metadata": {},
     "output_type": "execute_result"
    }
   ],
   "source": [
    "events = events[events['item_id'].isin(tracks_without_outliers)]\n",
    "len(events)"
   ]
  },
  {
   "cell_type": "code",
   "execution_count": 161,
   "id": "ff710c19-6919-4e0c-aaba-94a1f540557c",
   "metadata": {},
   "outputs": [
    {
     "data": {
      "text/plain": [
       "769.3572089429945"
      ]
     },
     "execution_count": 161,
     "metadata": {},
     "output_type": "execute_result"
    }
   ],
   "source": [
    "user_item_matrix = events['user_id'].nunique() * events['item_id'].nunique() / (1024 ** 3)\n",
    "user_item_matrix"
   ]
  },
  {
   "cell_type": "markdown",
   "id": "fb62d78a-745e-4335-b532-3491d05cf29b",
   "metadata": {},
   "source": [
    "Получилось 769 Гигабайт. Уберем данные новых пользователей, которых нет в тренировочных данных."
   ]
  },
  {
   "cell_type": "code",
   "execution_count": 162,
   "id": "e38aeea2-d330-435f-b9c6-801fbf25105f",
   "metadata": {},
   "outputs": [
    {
     "data": {
      "text/plain": [
       "23404678"
      ]
     },
     "execution_count": 162,
     "metadata": {},
     "output_type": "execute_result"
    }
   ],
   "source": [
    "events = events[~events['user_id'].isin(cold_user_id)]\n",
    "len(events)"
   ]
  },
  {
   "cell_type": "code",
   "execution_count": 163,
   "id": "f8507fb5-5fdc-42f8-9e35-f37219792041",
   "metadata": {},
   "outputs": [
    {
     "data": {
      "text/plain": [
       "760.8847128041089"
      ]
     },
     "execution_count": 163,
     "metadata": {},
     "output_type": "execute_result"
    }
   ],
   "source": [
    "user_item_matrix = events['user_id'].nunique() * events['item_id'].nunique() / (1024 ** 3)\n",
    "user_item_matrix"
   ]
  },
  {
   "cell_type": "markdown",
   "id": "87badd35-e13d-4768-845e-8a7ab73fb73c",
   "metadata": {},
   "source": [
    "Получилось 760 Гигабайт. Уберем выбросы в активности пользователей. "
   ]
  },
  {
   "cell_type": "code",
   "execution_count": 194,
   "id": "b4a76c61-e11b-4c09-b9bf-41550e577589",
   "metadata": {},
   "outputs": [],
   "source": [
    "events = events[events['user_id'].isin(activ_users_without_outliers)]"
   ]
  },
  {
   "cell_type": "code",
   "execution_count": 195,
   "id": "82ed3c50-36a0-4319-a70b-d7852e529293",
   "metadata": {},
   "outputs": [
    {
     "data": {
      "text/plain": [
       "599.7421424668282"
      ]
     },
     "execution_count": 195,
     "metadata": {},
     "output_type": "execute_result"
    }
   ],
   "source": [
    "user_item_matrix = events['user_id'].nunique() * events['item_id'].nunique() / (1024 ** 3)\n",
    "user_item_matrix"
   ]
  },
  {
   "cell_type": "markdown",
   "id": "d9ea43ae-fca7-4be2-b3bb-09bff87d364a",
   "metadata": {},
   "source": [
    "Получилось 600 Гигабайт, что все равно очень много для работы с таким вектором."
   ]
  },
  {
   "cell_type": "code",
   "execution_count": 199,
   "id": "78772672-1920-4768-a9e5-d497462bdba2",
   "metadata": {},
   "outputs": [],
   "source": [
    "user_activity = events \\\n",
    "    .groupby([\"user_id\"]).agg(items=(\"item_id\", \"nunique\"))\\\n",
    ".sort_values(\"items\", ascending=False).reset_index()"
   ]
  },
  {
   "cell_type": "code",
   "execution_count": 201,
   "id": "b11fee12-79e0-4a41-a808-042e17a0f94b",
   "metadata": {},
   "outputs": [
    {
     "data": {
      "text/html": [
       "<div>\n",
       "<style scoped>\n",
       "    .dataframe tbody tr th:only-of-type {\n",
       "        vertical-align: middle;\n",
       "    }\n",
       "\n",
       "    .dataframe tbody tr th {\n",
       "        vertical-align: top;\n",
       "    }\n",
       "\n",
       "    .dataframe thead th {\n",
       "        text-align: right;\n",
       "    }\n",
       "</style>\n",
       "<table border=\"1\" class=\"dataframe\">\n",
       "  <thead>\n",
       "    <tr style=\"text-align: right;\">\n",
       "      <th></th>\n",
       "      <th>user_id</th>\n",
       "      <th>items</th>\n",
       "    </tr>\n",
       "  </thead>\n",
       "  <tbody>\n",
       "    <tr>\n",
       "      <th>count</th>\n",
       "      <td>8.470970e+05</td>\n",
       "      <td>847097.000000</td>\n",
       "    </tr>\n",
       "    <tr>\n",
       "      <th>mean</th>\n",
       "      <td>6.873484e+05</td>\n",
       "      <td>8.004026</td>\n",
       "    </tr>\n",
       "    <tr>\n",
       "      <th>std</th>\n",
       "      <td>3.966525e+05</td>\n",
       "      <td>8.626552</td>\n",
       "    </tr>\n",
       "    <tr>\n",
       "      <th>min</th>\n",
       "      <td>0.000000e+00</td>\n",
       "      <td>1.000000</td>\n",
       "    </tr>\n",
       "    <tr>\n",
       "      <th>25%</th>\n",
       "      <td>3.439660e+05</td>\n",
       "      <td>2.000000</td>\n",
       "    </tr>\n",
       "    <tr>\n",
       "      <th>50%</th>\n",
       "      <td>6.869340e+05</td>\n",
       "      <td>4.000000</td>\n",
       "    </tr>\n",
       "    <tr>\n",
       "      <th>75%</th>\n",
       "      <td>1.030786e+06</td>\n",
       "      <td>11.000000</td>\n",
       "    </tr>\n",
       "    <tr>\n",
       "      <th>max</th>\n",
       "      <td>1.374582e+06</td>\n",
       "      <td>39.000000</td>\n",
       "    </tr>\n",
       "  </tbody>\n",
       "</table>\n",
       "</div>"
      ],
      "text/plain": [
       "            user_id          items\n",
       "count  8.470970e+05  847097.000000\n",
       "mean   6.873484e+05       8.004026\n",
       "std    3.966525e+05       8.626552\n",
       "min    0.000000e+00       1.000000\n",
       "25%    3.439660e+05       2.000000\n",
       "50%    6.869340e+05       4.000000\n",
       "75%    1.030786e+06      11.000000\n",
       "max    1.374582e+06      39.000000"
      ]
     },
     "execution_count": 201,
     "metadata": {},
     "output_type": "execute_result"
    }
   ],
   "source": [
    "user_activity.describe()"
   ]
  },
  {
   "cell_type": "markdown",
   "id": "e789d8f7-5a90-432a-9113-f9fa26aeed03",
   "metadata": {},
   "source": [
    "Медиана проходит по 4 - это значит что половина пользователей прослушало только 4 трека. Таких пользователей можно считать новыми и предлагать им самые популярные треки, пока не появится понимание по их предпочтениям. Среднее значение равно 8 - возьмем его в качестве границы между новыми пользователями и более опытными, требующими применения рекомендательной системы."
   ]
  },
  {
   "cell_type": "code",
   "execution_count": 202,
   "id": "f1662b2d-177e-40f9-bcc2-1ce3c9eb5821",
   "metadata": {},
   "outputs": [],
   "source": [
    "active_users = user_activity[user_activity['items']>=8]['user_id']"
   ]
  },
  {
   "cell_type": "markdown",
   "id": "2bc9843d-6041-455e-84a1-938b9d87e476",
   "metadata": {},
   "source": [
    "Активных пользователей у наст таким образом остется:"
   ]
  },
  {
   "cell_type": "code",
   "execution_count": 203,
   "id": "c11aea89-0dbd-4631-93d7-1b7bbf3c9329",
   "metadata": {},
   "outputs": [
    {
     "data": {
      "text/plain": [
       "299092"
      ]
     },
     "execution_count": 203,
     "metadata": {},
     "output_type": "execute_result"
    }
   ],
   "source": [
    "len(active_users)"
   ]
  },
  {
   "cell_type": "code",
   "execution_count": 204,
   "id": "d49f056a-0b1a-4682-8330-63e0ad437c5a",
   "metadata": {},
   "outputs": [
    {
     "data": {
      "text/plain": [
       "5176785"
      ]
     },
     "execution_count": 204,
     "metadata": {},
     "output_type": "execute_result"
    }
   ],
   "source": [
    "events = events[events['user_id'].isin(active_users)]\n",
    "len(events)"
   ]
  },
  {
   "cell_type": "code",
   "execution_count": 205,
   "id": "726ba5ac-b259-40c1-bf71-6c397bb108d9",
   "metadata": {},
   "outputs": [
    {
     "data": {
      "text/plain": [
       "204.68187837675214"
      ]
     },
     "execution_count": 205,
     "metadata": {},
     "output_type": "execute_result"
    }
   ],
   "source": [
    "user_item_matrix = events['user_id'].nunique() * events['item_id'].nunique() / (1024 ** 3)\n",
    "user_item_matrix"
   ]
  },
  {
   "cell_type": "code",
   "execution_count": 206,
   "id": "c8d24bc4-2b69-4983-a360-3825eabf097e",
   "metadata": {},
   "outputs": [],
   "source": [
    "events.to_parquet(\"events.parquet\")"
   ]
  },
  {
   "cell_type": "code",
   "execution_count": 222,
   "id": "3f9b193b-5eda-42b5-a5aa-49b3f8c22cfb",
   "metadata": {},
   "outputs": [
    {
     "ename": "NameError",
     "evalue": "name 'items' is not defined",
     "output_type": "error",
     "traceback": [
      "\u001b[0;31m---------------------------------------------------------------------------\u001b[0m",
      "\u001b[0;31mNameError\u001b[0m                                 Traceback (most recent call last)",
      "Cell \u001b[0;32mIn[222], line 1\u001b[0m\n\u001b[0;32m----> 1\u001b[0m \u001b[43mitems\u001b[49m\u001b[38;5;241m.\u001b[39mto_parquet(\u001b[38;5;124m\"\u001b[39m\u001b[38;5;124mevents.parquet\u001b[39m\u001b[38;5;124m\"\u001b[39m)\n",
      "\u001b[0;31mNameError\u001b[0m: name 'items' is not defined"
     ]
    }
   ],
   "source": [
    "items.to_parquet(\"events.parquet\")"
   ]
  },
  {
   "cell_type": "markdown",
   "id": "d7fda111",
   "metadata": {},
   "source": [
    "<div class=\"alert alert-warning\" style=\"border-radius: 15px; box-shadow: 4px 4px 4px; border: 1px solid \">\n",
    "<b> Комментарий ревьюера  ⚠️</b>\n",
    "    \n",
    "Советую убрать эту ошибку.\n",
    "</div>\n",
    "\n"
   ]
  },
  {
   "cell_type": "code",
   "execution_count": 207,
   "id": "1d1882a9-6c57-4ca9-b5a0-41073c0d1ae6",
   "metadata": {},
   "outputs": [
    {
     "name": "stdout",
     "output_type": "stream",
     "text": [
      "295804 127921 124633\n"
     ]
    }
   ],
   "source": [
    "train_test_global_time_split_date = pd.to_datetime(\"2022-12-16\")\n",
    "\n",
    "train_test_global_time_split_idx = events[\"started_at\"] < train_test_global_time_split_date\n",
    "events_train = events[train_test_global_time_split_idx]\n",
    "events_test = events[~train_test_global_time_split_idx]\n",
    "\n",
    "# количество пользователей в train и test\n",
    "users_train = events_train[\"user_id\"].drop_duplicates()\n",
    "users_test = events_test[\"user_id\"].drop_duplicates()\n",
    "# количество пользователей, которые есть и в train, и в test\n",
    "common_users = set(users_test).intersection(set(users_train))\n",
    "\n",
    "print(len(users_train), len(users_test), len(common_users)) "
   ]
  },
  {
   "cell_type": "code",
   "execution_count": 208,
   "id": "d2944822-569c-4f9b-82dc-70a7fa2d542e",
   "metadata": {},
   "outputs": [],
   "source": [
    "# Количество ячеек в матрице\n",
    "all_cells = events_train['user_id'].nunique()*events_train['item_id'].nunique()"
   ]
  },
  {
   "cell_type": "code",
   "execution_count": 209,
   "id": "1e8cdb58-3a8c-45ad-8e5f-7f950314aa56",
   "metadata": {},
   "outputs": [
    {
     "data": {
      "text/plain": [
       "0.9999779889065494"
      ]
     },
     "execution_count": 209,
     "metadata": {},
     "output_type": "execute_result"
    }
   ],
   "source": [
    "# Степень разреженности матрицы\n",
    "(all_cells-len(events_train))/all_cells"
   ]
  },
  {
   "cell_type": "markdown",
   "id": "15e4451e-00b3-45e5-b74c-dce0d670ae4f",
   "metadata": {},
   "source": [
    "Матрица сильно разреженна.\n",
    "\n",
    "---\n",
    "\n",
    "Добавим рейтинг 1 - по факту прослушивания композиции."
   ]
  },
  {
   "cell_type": "code",
   "execution_count": 210,
   "id": "2d5c0780-4266-45f7-88e6-b62aec7b7982",
   "metadata": {
    "scrolled": false
   },
   "outputs": [
    {
     "name": "stderr",
     "output_type": "stream",
     "text": [
      "/tmp/ipykernel_2117/1703908998.py:1: SettingWithCopyWarning: \n",
      "A value is trying to be set on a copy of a slice from a DataFrame.\n",
      "Try using .loc[row_indexer,col_indexer] = value instead\n",
      "\n",
      "See the caveats in the documentation: https://pandas.pydata.org/pandas-docs/stable/user_guide/indexing.html#returning-a-view-versus-a-copy\n",
      "  events_train.loc[:, 'score'] = 1\n",
      "/tmp/ipykernel_2117/1703908998.py:2: SettingWithCopyWarning: \n",
      "A value is trying to be set on a copy of a slice from a DataFrame.\n",
      "Try using .loc[row_indexer,col_indexer] = value instead\n",
      "\n",
      "See the caveats in the documentation: https://pandas.pydata.org/pandas-docs/stable/user_guide/indexing.html#returning-a-view-versus-a-copy\n",
      "  events_test.loc[:, 'rating_test'] = 1\n"
     ]
    }
   ],
   "source": [
    "events_train.loc[:, 'score'] = 1\n",
    "events_test.loc[:, 'rating_test'] = 1"
   ]
  },
  {
   "cell_type": "code",
   "execution_count": 211,
   "id": "5743344e-55c4-4ee4-92de-6e46f7f60ab0",
   "metadata": {},
   "outputs": [
    {
     "name": "stderr",
     "output_type": "stream",
     "text": [
      "/tmp/ipykernel_2117/2821872358.py:5: SettingWithCopyWarning: \n",
      "A value is trying to be set on a copy of a slice from a DataFrame.\n",
      "Try using .loc[row_indexer,col_indexer] = value instead\n",
      "\n",
      "See the caveats in the documentation: https://pandas.pydata.org/pandas-docs/stable/user_guide/indexing.html#returning-a-view-versus-a-copy\n",
      "  events_train[\"user_id_enc\"] = user_encoder.transform(events_train[\"user_id\"])\n",
      "/tmp/ipykernel_2117/2821872358.py:6: SettingWithCopyWarning: \n",
      "A value is trying to be set on a copy of a slice from a DataFrame.\n",
      "Try using .loc[row_indexer,col_indexer] = value instead\n",
      "\n",
      "See the caveats in the documentation: https://pandas.pydata.org/pandas-docs/stable/user_guide/indexing.html#returning-a-view-versus-a-copy\n",
      "  events_test[\"user_id_enc\"] = user_encoder.transform(events_test[\"user_id\"])\n"
     ]
    }
   ],
   "source": [
    "# перекодируем идентификаторы пользователей: \n",
    "# из имеющихся в последовательность 0, 1, 2, ...\n",
    "user_encoder = sklearn.preprocessing.LabelEncoder()\n",
    "user_encoder.fit(events[\"user_id\"])\n",
    "events_train[\"user_id_enc\"] = user_encoder.transform(events_train[\"user_id\"])\n",
    "events_test[\"user_id_enc\"] = user_encoder.transform(events_test[\"user_id\"])"
   ]
  },
  {
   "cell_type": "code",
   "execution_count": 212,
   "id": "9cfe2645-9bf0-49e9-bd9d-f7cf48f7264b",
   "metadata": {},
   "outputs": [
    {
     "name": "stderr",
     "output_type": "stream",
     "text": [
      "/tmp/ipykernel_2117/2693548992.py:6: SettingWithCopyWarning: \n",
      "A value is trying to be set on a copy of a slice from a DataFrame.\n",
      "Try using .loc[row_indexer,col_indexer] = value instead\n",
      "\n",
      "See the caveats in the documentation: https://pandas.pydata.org/pandas-docs/stable/user_guide/indexing.html#returning-a-view-versus-a-copy\n",
      "  events_train[\"item_id_enc\"] = item_encoder.transform(events_train[\"item_id\"])\n",
      "/tmp/ipykernel_2117/2693548992.py:7: SettingWithCopyWarning: \n",
      "A value is trying to be set on a copy of a slice from a DataFrame.\n",
      "Try using .loc[row_indexer,col_indexer] = value instead\n",
      "\n",
      "See the caveats in the documentation: https://pandas.pydata.org/pandas-docs/stable/user_guide/indexing.html#returning-a-view-versus-a-copy\n",
      "  events_test[\"item_id_enc\"] = item_encoder.transform(events_test[\"item_id\"])\n"
     ]
    }
   ],
   "source": [
    "# перекодируем идентификаторы объектов: \n",
    "# из имеющихся в последовательность 0, 1, 2, ...\n",
    "item_encoder = sklearn.preprocessing.LabelEncoder()\n",
    "item_encoder.fit(items[\"item_id\"])\n",
    "items[\"item_id_enc\"] = item_encoder.transform(items[\"item_id\"])\n",
    "events_train[\"item_id_enc\"] = item_encoder.transform(events_train[\"item_id\"])\n",
    "events_test[\"item_id_enc\"] = item_encoder.transform(events_test[\"item_id\"])"
   ]
  },
  {
   "cell_type": "code",
   "execution_count": 213,
   "id": "b06c75bb-a2af-46f0-99a0-2c2034c72dca",
   "metadata": {},
   "outputs": [],
   "source": [
    "# создаём sparse-матрицу формата CSR \n",
    "user_item_matrix_train = scipy.sparse.csr_matrix((\n",
    "    events_train[\"score\"],\n",
    "    (events_train['user_id_enc'], events_train['item_id_enc'])),\n",
    "    dtype=np.int8) "
   ]
  },
  {
   "cell_type": "code",
   "execution_count": 214,
   "id": "66d46ce4-8bb8-45d8-8a84-59ca2a5f96b1",
   "metadata": {},
   "outputs": [],
   "source": [
    "del events\n",
    "del items"
   ]
  },
  {
   "cell_type": "code",
   "execution_count": 215,
   "id": "c043cb1e-71dd-451f-88df-d0d0012612ee",
   "metadata": {},
   "outputs": [
    {
     "data": {
      "text/plain": [
       "0.10827756486833096"
      ]
     },
     "execution_count": 215,
     "metadata": {},
     "output_type": "execute_result"
    }
   ],
   "source": [
    "sum([sys.getsizeof(i) for i in user_item_matrix_train.data])/1024**3 "
   ]
  },
  {
   "cell_type": "code",
   "execution_count": 216,
   "id": "e2554c88-9544-4040-a02e-c51fe31732b0",
   "metadata": {},
   "outputs": [
    {
     "name": "stderr",
     "output_type": "stream",
     "text": [
      "/home/mle-user/mle_projects/mle-project-sprint-4-v001/env_recsys_start/lib/python3.10/site-packages/implicit/cpu/als.py:95: RuntimeWarning: OpenBLAS is configured to use 4 threads. It is highly recommended to disable its internal threadpool by setting the environment variable 'OPENBLAS_NUM_THREADS=1' or by calling 'threadpoolctl.threadpool_limits(1, \"blas\")'. Having OpenBLAS use a threadpool can lead to severe performance issues here.\n",
      "  check_blas_config()\n",
      "100%|████████████████████████████████████████████████████████████████████████████████████████████████████████████████████████████████████████████████████| 50/50 [02:37<00:00,  3.15s/it]\n"
     ]
    }
   ],
   "source": [
    "als_model = AlternatingLeastSquares(factors=50, iterations=50, regularization=0.05, random_state=0)\n",
    "als_model.fit(user_item_matrix_train) "
   ]
  },
  {
   "cell_type": "code",
   "execution_count": 218,
   "id": "a7f9766d-32d3-40d1-8d50-f62833d4869f",
   "metadata": {},
   "outputs": [],
   "source": [
    "als_model.save('als_model')"
   ]
  },
  {
   "cell_type": "code",
   "execution_count": 219,
   "id": "b73cc75c-1dc6-4615-ac3e-243a92a9d895",
   "metadata": {},
   "outputs": [],
   "source": [
    "def get_recommendations_als(user_item_matrix, model, user_id, user_encoder, item_encoder, include_seen=True, n=5):\n",
    "    \"\"\"\n",
    "    Возвращает отранжированные рекомендции для заданного пользователя\n",
    "    \"\"\"\n",
    "    user_id_enc = user_encoder.transform([user_id])[0]\n",
    "    recommendations = model.recommend(\n",
    "         user_id_enc, \n",
    "         user_item_matrix[user_id_enc], \n",
    "         filter_already_liked_items=not include_seen,\n",
    "         N=n)\n",
    "    recommendations = pd.DataFrame({\"item_id_enc\": recommendations[0], \"score\": recommendations[1]})\n",
    "    recommendations[\"item_id\"] = item_encoder.inverse_transform(recommendations[\"item_id_enc\"])\n",
    "    \n",
    "    return recommendations"
   ]
  },
  {
   "cell_type": "markdown",
   "id": "21f39c18",
   "metadata": {},
   "source": [
    "<div class=\"alert alert-success\" style=\"border-radius: 15px; box-shadow: 4px 4px 4px; border: 1px solid \">\n",
    "<b> Комментарий ревьюера  ✔️</b>\n",
    "    \n",
    "Функция выглядит корректно. Хорошо, что учтен параметр `include_seen` для фильтрации уже просмотренных айтемов.\n",
    "</div>\n",
    "\n"
   ]
  },
  {
   "cell_type": "code",
   "execution_count": 220,
   "id": "f24f23cb-4152-4c03-b30c-bed0ae1b1f64",
   "metadata": {},
   "outputs": [],
   "source": [
    "# получаем список всех возможных user_id (перекодированных)\n",
    "user_ids_encoded = range(len(user_encoder.classes_))"
   ]
  },
  {
   "cell_type": "code",
   "execution_count": 221,
   "id": "e043ca07-f698-4163-977b-71cd63c5a1ab",
   "metadata": {},
   "outputs": [
    {
     "data": {
      "text/plain": [
       "<Compressed Sparse Row sparse matrix of dtype 'int8'\n",
       "\twith 4650486 stored elements and shape (299092, 846573)>"
      ]
     },
     "execution_count": 221,
     "metadata": {},
     "output_type": "execute_result"
    }
   ],
   "source": [
    "user_item_matrix_train[user_ids_encoded]"
   ]
  },
  {
   "cell_type": "code",
   "execution_count": 224,
   "id": "0f6561f5-8b0b-49a9-8997-f32bc7f8246e",
   "metadata": {},
   "outputs": [],
   "source": [
    "# получаем рекомендации для всех пользователей\n",
    "als_recommendations = als_model.recommend(\n",
    "    user_ids_encoded, \n",
    "    user_item_matrix_train[user_ids_encoded], \n",
    "    filter_already_liked_items=True, N=5)"
   ]
  },
  {
   "cell_type": "code",
   "execution_count": 225,
   "id": "5ef4c07a-0ae5-4a84-a731-4e5c5d127f16",
   "metadata": {},
   "outputs": [],
   "source": [
    "# преобразуем полученные рекомендации в табличный формат\n",
    "item_ids_enc = als_recommendations[0]\n",
    "als_scores = als_recommendations[1]\n",
    "\n",
    "als_recommendations = pd.DataFrame({\n",
    "    \"user_id_enc\": user_ids_encoded,\n",
    "    \"item_id_enc\": item_ids_enc.tolist(), \n",
    "    \"score\": als_scores.tolist()})\n",
    "als_recommendations = als_recommendations.explode([\"item_id_enc\", \"score\"], ignore_index=True)\n",
    "\n",
    "# приводим типы данных\n",
    "als_recommendations[\"item_id_enc\"] = als_recommendations[\"item_id_enc\"].astype(\"int\")\n",
    "als_recommendations[\"score\"] = als_recommendations[\"score\"].astype(\"float\")\n",
    "\n",
    "# получаем изначальные идентификаторы\n",
    "als_recommendations[\"user_id\"] = user_encoder.inverse_transform(als_recommendations[\"user_id_enc\"])\n",
    "als_recommendations[\"item_id\"] = item_encoder.inverse_transform(als_recommendations[\"item_id_enc\"])\n",
    "als_recommendations = als_recommendations.drop(columns=[\"user_id_enc\", \"item_id_enc\"])"
   ]
  },
  {
   "cell_type": "code",
   "execution_count": 226,
   "id": "4cf084b1-d165-4179-9244-b700c60a623b",
   "metadata": {},
   "outputs": [],
   "source": [
    "als_recommendations.sort_values('score', ascending=False)\n",
    "als_recommendations = als_recommendations[[\"user_id\", \"item_id\", \"score\"]]\n",
    "als_recommendations.to_parquet(\"als_recommendations.parquet\")"
   ]
  },
  {
   "cell_type": "code",
   "execution_count": 227,
   "id": "64f7b0e5-d202-48a4-b477-1af4fc5c677c",
   "metadata": {},
   "outputs": [
    {
     "data": {
      "text/html": [
       "<div>\n",
       "<style scoped>\n",
       "    .dataframe tbody tr th:only-of-type {\n",
       "        vertical-align: middle;\n",
       "    }\n",
       "\n",
       "    .dataframe tbody tr th {\n",
       "        vertical-align: top;\n",
       "    }\n",
       "\n",
       "    .dataframe thead th {\n",
       "        text-align: right;\n",
       "    }\n",
       "</style>\n",
       "<table border=\"1\" class=\"dataframe\">\n",
       "  <thead>\n",
       "    <tr style=\"text-align: right;\">\n",
       "      <th></th>\n",
       "      <th>user_id</th>\n",
       "      <th>item_id</th>\n",
       "      <th>score</th>\n",
       "    </tr>\n",
       "  </thead>\n",
       "  <tbody>\n",
       "    <tr>\n",
       "      <th>0</th>\n",
       "      <td>1</td>\n",
       "      <td>28535690</td>\n",
       "      <td>0.000177</td>\n",
       "    </tr>\n",
       "    <tr>\n",
       "      <th>1</th>\n",
       "      <td>1</td>\n",
       "      <td>28952086</td>\n",
       "      <td>0.000171</td>\n",
       "    </tr>\n",
       "    <tr>\n",
       "      <th>2</th>\n",
       "      <td>1</td>\n",
       "      <td>28952087</td>\n",
       "      <td>0.000168</td>\n",
       "    </tr>\n",
       "    <tr>\n",
       "      <th>3</th>\n",
       "      <td>1</td>\n",
       "      <td>28535699</td>\n",
       "      <td>0.000168</td>\n",
       "    </tr>\n",
       "    <tr>\n",
       "      <th>4</th>\n",
       "      <td>1</td>\n",
       "      <td>28535693</td>\n",
       "      <td>0.000168</td>\n",
       "    </tr>\n",
       "    <tr>\n",
       "      <th>...</th>\n",
       "      <td>...</td>\n",
       "      <td>...</td>\n",
       "      <td>...</td>\n",
       "    </tr>\n",
       "    <tr>\n",
       "      <th>1495455</th>\n",
       "      <td>1374581</td>\n",
       "      <td>2277850</td>\n",
       "      <td>0.000682</td>\n",
       "    </tr>\n",
       "    <tr>\n",
       "      <th>1495456</th>\n",
       "      <td>1374581</td>\n",
       "      <td>2277848</td>\n",
       "      <td>0.000680</td>\n",
       "    </tr>\n",
       "    <tr>\n",
       "      <th>1495457</th>\n",
       "      <td>1374581</td>\n",
       "      <td>2277853</td>\n",
       "      <td>0.000675</td>\n",
       "    </tr>\n",
       "    <tr>\n",
       "      <th>1495458</th>\n",
       "      <td>1374581</td>\n",
       "      <td>2277854</td>\n",
       "      <td>0.000672</td>\n",
       "    </tr>\n",
       "    <tr>\n",
       "      <th>1495459</th>\n",
       "      <td>1374581</td>\n",
       "      <td>2277855</td>\n",
       "      <td>0.000663</td>\n",
       "    </tr>\n",
       "  </tbody>\n",
       "</table>\n",
       "<p>1495460 rows × 3 columns</p>\n",
       "</div>"
      ],
      "text/plain": [
       "         user_id   item_id     score\n",
       "0              1  28535690  0.000177\n",
       "1              1  28952086  0.000171\n",
       "2              1  28952087  0.000168\n",
       "3              1  28535699  0.000168\n",
       "4              1  28535693  0.000168\n",
       "...          ...       ...       ...\n",
       "1495455  1374581   2277850  0.000682\n",
       "1495456  1374581   2277848  0.000680\n",
       "1495457  1374581   2277853  0.000675\n",
       "1495458  1374581   2277854  0.000672\n",
       "1495459  1374581   2277855  0.000663\n",
       "\n",
       "[1495460 rows x 3 columns]"
      ]
     },
     "execution_count": 227,
     "metadata": {},
     "output_type": "execute_result"
    }
   ],
   "source": [
    "als_recommendations"
   ]
  },
  {
   "cell_type": "code",
   "execution_count": 228,
   "id": "bdfff3cd-1e92-4989-baa6-cf0efdd4037c",
   "metadata": {},
   "outputs": [],
   "source": [
    "als_recommendations = (\n",
    "    als_recommendations\n",
    "    .merge(events_test[[\"user_id\", \"item_id\", \"rating_test\"]],\n",
    "           on=[\"user_id\", \"item_id\"], how=\"left\")\n",
    ")"
   ]
  },
  {
   "cell_type": "code",
   "execution_count": 229,
   "id": "9365b696-724e-47e5-b64d-a127c08d9b26",
   "metadata": {},
   "outputs": [],
   "source": [
    "def compute_ndcg(rating: pd.Series, score: pd.Series, k):\n",
    "\n",
    "    \"\"\" подсчёт ndcg\n",
    "    rating: истинные оценки\n",
    "    score: оценки модели\n",
    "    k: количество айтемов (по убыванию score) для оценки, остальные - отбрасываются\n",
    "    \"\"\"\n",
    "    \n",
    "    # если кол-во объектов меньше 5, то NDCG - не определена\n",
    "    if len(rating) < 5:\n",
    "        return np.nan\n",
    "\n",
    "    ndcg = sklearn.metrics.ndcg_score(np.asarray([rating.to_numpy()]), np.asarray([score.to_numpy()]), k=k)\n",
    "\n",
    "    return ndcg"
   ]
  },
  {
   "cell_type": "code",
   "execution_count": 230,
   "id": "25269dee-4310-4c87-85d8-e11161ff7e50",
   "metadata": {},
   "outputs": [],
   "source": [
    "rating_test_idx = ~als_recommendations[\"rating_test\"].isnull()\n",
    "ndcg_at_5_scores = als_recommendations[rating_test_idx].groupby(\"user_id\").apply(lambda x: compute_ndcg(x[\"rating_test\"], x[\"score\"], k=5))"
   ]
  },
  {
   "cell_type": "code",
   "execution_count": 231,
   "id": "7d2c3617-6d37-4287-b8e6-d8ad81458788",
   "metadata": {},
   "outputs": [
    {
     "data": {
      "text/plain": [
       "user_id\n",
       "6096       NaN\n",
       "8481       1.0\n",
       "11802      NaN\n",
       "13471      NaN\n",
       "14887      NaN\n",
       "          ... \n",
       "1368371    NaN\n",
       "1370169    1.0\n",
       "1372708    1.0\n",
       "1373365    NaN\n",
       "1373709    NaN\n",
       "Length: 775, dtype: float64"
      ]
     },
     "execution_count": 231,
     "metadata": {},
     "output_type": "execute_result"
    }
   ],
   "source": [
    "ndcg_at_5_scores"
   ]
  },
  {
   "cell_type": "code",
   "execution_count": 234,
   "id": "2c182d67-f776-4823-80a2-6b5beeedd7c0",
   "metadata": {},
   "outputs": [],
   "source": [
    "events = pd.read_parquet(\"./events.parquet\")"
   ]
  },
  {
   "cell_type": "code",
   "execution_count": 235,
   "id": "2fee11d5-a30f-4f8e-aef9-49a187295fda",
   "metadata": {},
   "outputs": [
    {
     "data": {
      "text/plain": [
       "0.0025911759592366227"
      ]
     },
     "execution_count": 235,
     "metadata": {},
     "output_type": "execute_result"
    }
   ],
   "source": [
    "len(ndcg_at_5_scores)/len(events['user_id'].unique())"
   ]
  },
  {
   "cell_type": "markdown",
   "id": "5f09dc7e-7c91-4355-860a-b9cfb9f33f15",
   "metadata": {},
   "source": [
    "# Похожие"
   ]
  },
  {
   "cell_type": "code",
   "execution_count": 236,
   "id": "102a3f3e-6e35-491c-85eb-68cd0e54fa8e",
   "metadata": {},
   "outputs": [],
   "source": [
    "items = pd.read_parquet(\"./items.parquet\")"
   ]
  },
  {
   "cell_type": "markdown",
   "id": "1dfcb683-b440-40a8-9975-894156a53872",
   "metadata": {},
   "source": [
    "Рассчитаем похожие, они позже пригодятся для онлайн-рекомендаций.\n",
    "i2i (при помощи ALS) similar.parquet"
   ]
  },
  {
   "cell_type": "code",
   "execution_count": 237,
   "id": "fe4bac90-e359-4be0-9c21-4b6ad9c2da43",
   "metadata": {},
   "outputs": [],
   "source": [
    "als_model = AlternatingLeastSquares().load('als_model.npz')"
   ]
  },
  {
   "cell_type": "code",
   "execution_count": 238,
   "id": "5ec1a7d5-0271-48db-95d6-53b9c08c173a",
   "metadata": {},
   "outputs": [],
   "source": [
    "# получим энкодированные идентификаторы всех объектов, известных нам из events_train\n",
    "train_item_ids_enc = events_train['item_id_enc'].unique()\n",
    "\n",
    "max_similar_items = 10"
   ]
  },
  {
   "cell_type": "code",
   "execution_count": 239,
   "id": "2d4937c1-33a5-4a3a-a6d5-8e573c0f3f47",
   "metadata": {},
   "outputs": [],
   "source": [
    "# получаем списки похожих объектов, используя ранее полученную ALS-модель\n",
    "# метод similar_items возвращает и сам объект, как наиболее похожий\n",
    "# этот объект мы позже отфильтруем, но сейчас запросим на 1 больше\n",
    "similar_items = als_model.similar_items(train_item_ids_enc, N=max_similar_items+1)"
   ]
  },
  {
   "cell_type": "code",
   "execution_count": 240,
   "id": "4fd6eb49-793d-4de9-a23a-bfe8f545956d",
   "metadata": {},
   "outputs": [],
   "source": [
    "# преобразуем полученные списки в табличный формат\n",
    "sim_item_item_ids_enc = similar_items[0]\n",
    "sim_item_scores = similar_items[1]"
   ]
  },
  {
   "cell_type": "code",
   "execution_count": 241,
   "id": "840a0c03-4653-4dfe-b61d-52c386b1ddfb",
   "metadata": {},
   "outputs": [],
   "source": [
    "similar_items_score = pd.DataFrame(sim_item_scores.tolist())"
   ]
  },
  {
   "cell_type": "code",
   "execution_count": 242,
   "id": "13f4991e-559b-4eb4-8da2-41278a7c74c8",
   "metadata": {},
   "outputs": [],
   "source": [
    "similar_items = pd.DataFrame(sim_item_item_ids_enc.tolist())"
   ]
  },
  {
   "cell_type": "code",
   "execution_count": 243,
   "id": "9e3d6a7d-fc9a-4998-880a-8eeb768b7f8f",
   "metadata": {},
   "outputs": [
    {
     "data": {
      "text/html": [
       "<div>\n",
       "<style scoped>\n",
       "    .dataframe tbody tr th:only-of-type {\n",
       "        vertical-align: middle;\n",
       "    }\n",
       "\n",
       "    .dataframe tbody tr th {\n",
       "        vertical-align: top;\n",
       "    }\n",
       "\n",
       "    .dataframe thead th {\n",
       "        text-align: right;\n",
       "    }\n",
       "</style>\n",
       "<table border=\"1\" class=\"dataframe\">\n",
       "  <thead>\n",
       "    <tr style=\"text-align: right;\">\n",
       "      <th></th>\n",
       "      <th>0</th>\n",
       "      <th>1</th>\n",
       "      <th>2</th>\n",
       "      <th>3</th>\n",
       "      <th>4</th>\n",
       "      <th>5</th>\n",
       "      <th>6</th>\n",
       "      <th>7</th>\n",
       "      <th>8</th>\n",
       "      <th>9</th>\n",
       "      <th>10</th>\n",
       "    </tr>\n",
       "  </thead>\n",
       "  <tbody>\n",
       "    <tr>\n",
       "      <th>0</th>\n",
       "      <td>14103</td>\n",
       "      <td>266152</td>\n",
       "      <td>350062</td>\n",
       "      <td>381218</td>\n",
       "      <td>221741</td>\n",
       "      <td>573464</td>\n",
       "      <td>761766</td>\n",
       "      <td>634193</td>\n",
       "      <td>520618</td>\n",
       "      <td>356375</td>\n",
       "      <td>338363</td>\n",
       "    </tr>\n",
       "    <tr>\n",
       "      <th>1</th>\n",
       "      <td>428527</td>\n",
       "      <td>323858</td>\n",
       "      <td>430409</td>\n",
       "      <td>71412</td>\n",
       "      <td>489412</td>\n",
       "      <td>810891</td>\n",
       "      <td>534814</td>\n",
       "      <td>723472</td>\n",
       "      <td>147770</td>\n",
       "      <td>316271</td>\n",
       "      <td>518598</td>\n",
       "    </tr>\n",
       "    <tr>\n",
       "      <th>2</th>\n",
       "      <td>487759</td>\n",
       "      <td>769126</td>\n",
       "      <td>487753</td>\n",
       "      <td>487755</td>\n",
       "      <td>817077</td>\n",
       "      <td>692541</td>\n",
       "      <td>691425</td>\n",
       "      <td>735476</td>\n",
       "      <td>487752</td>\n",
       "      <td>706968</td>\n",
       "      <td>757104</td>\n",
       "    </tr>\n",
       "    <tr>\n",
       "      <th>3</th>\n",
       "      <td>529259</td>\n",
       "      <td>628478</td>\n",
       "      <td>748089</td>\n",
       "      <td>727792</td>\n",
       "      <td>749498</td>\n",
       "      <td>622061</td>\n",
       "      <td>497906</td>\n",
       "      <td>841191</td>\n",
       "      <td>777199</td>\n",
       "      <td>750573</td>\n",
       "      <td>675493</td>\n",
       "    </tr>\n",
       "    <tr>\n",
       "      <th>4</th>\n",
       "      <td>538198</td>\n",
       "      <td>489827</td>\n",
       "      <td>323740</td>\n",
       "      <td>776210</td>\n",
       "      <td>489825</td>\n",
       "      <td>518438</td>\n",
       "      <td>590477</td>\n",
       "      <td>581123</td>\n",
       "      <td>72604</td>\n",
       "      <td>571829</td>\n",
       "      <td>564395</td>\n",
       "    </tr>\n",
       "    <tr>\n",
       "      <th>...</th>\n",
       "      <td>...</td>\n",
       "      <td>...</td>\n",
       "      <td>...</td>\n",
       "      <td>...</td>\n",
       "      <td>...</td>\n",
       "      <td>...</td>\n",
       "      <td>...</td>\n",
       "      <td>...</td>\n",
       "      <td>...</td>\n",
       "      <td>...</td>\n",
       "      <td>...</td>\n",
       "    </tr>\n",
       "    <tr>\n",
       "      <th>714249</th>\n",
       "      <td>164920</td>\n",
       "      <td>520006</td>\n",
       "      <td>834853</td>\n",
       "      <td>496496</td>\n",
       "      <td>814483</td>\n",
       "      <td>487504</td>\n",
       "      <td>810302</td>\n",
       "      <td>844754</td>\n",
       "      <td>402546</td>\n",
       "      <td>831403</td>\n",
       "      <td>106097</td>\n",
       "    </tr>\n",
       "    <tr>\n",
       "      <th>714250</th>\n",
       "      <td>800583</td>\n",
       "      <td>648070</td>\n",
       "      <td>87686</td>\n",
       "      <td>840753</td>\n",
       "      <td>840733</td>\n",
       "      <td>650472</td>\n",
       "      <td>620747</td>\n",
       "      <td>702610</td>\n",
       "      <td>620749</td>\n",
       "      <td>620751</td>\n",
       "      <td>512378</td>\n",
       "    </tr>\n",
       "    <tr>\n",
       "      <th>714251</th>\n",
       "      <td>211755</td>\n",
       "      <td>433385</td>\n",
       "      <td>402666</td>\n",
       "      <td>476032</td>\n",
       "      <td>414169</td>\n",
       "      <td>42339</td>\n",
       "      <td>800492</td>\n",
       "      <td>168422</td>\n",
       "      <td>590544</td>\n",
       "      <td>435048</td>\n",
       "      <td>762661</td>\n",
       "    </tr>\n",
       "    <tr>\n",
       "      <th>714252</th>\n",
       "      <td>169893</td>\n",
       "      <td>71718</td>\n",
       "      <td>296524</td>\n",
       "      <td>192047</td>\n",
       "      <td>273782</td>\n",
       "      <td>397235</td>\n",
       "      <td>140059</td>\n",
       "      <td>92833</td>\n",
       "      <td>139278</td>\n",
       "      <td>385605</td>\n",
       "      <td>607870</td>\n",
       "    </tr>\n",
       "    <tr>\n",
       "      <th>714253</th>\n",
       "      <td>169893</td>\n",
       "      <td>71718</td>\n",
       "      <td>296524</td>\n",
       "      <td>192047</td>\n",
       "      <td>273782</td>\n",
       "      <td>397235</td>\n",
       "      <td>140059</td>\n",
       "      <td>92833</td>\n",
       "      <td>139278</td>\n",
       "      <td>385605</td>\n",
       "      <td>607870</td>\n",
       "    </tr>\n",
       "  </tbody>\n",
       "</table>\n",
       "<p>714254 rows × 11 columns</p>\n",
       "</div>"
      ],
      "text/plain": [
       "            0       1       2       3       4       5       6       7   \\\n",
       "0        14103  266152  350062  381218  221741  573464  761766  634193   \n",
       "1       428527  323858  430409   71412  489412  810891  534814  723472   \n",
       "2       487759  769126  487753  487755  817077  692541  691425  735476   \n",
       "3       529259  628478  748089  727792  749498  622061  497906  841191   \n",
       "4       538198  489827  323740  776210  489825  518438  590477  581123   \n",
       "...        ...     ...     ...     ...     ...     ...     ...     ...   \n",
       "714249  164920  520006  834853  496496  814483  487504  810302  844754   \n",
       "714250  800583  648070   87686  840753  840733  650472  620747  702610   \n",
       "714251  211755  433385  402666  476032  414169   42339  800492  168422   \n",
       "714252  169893   71718  296524  192047  273782  397235  140059   92833   \n",
       "714253  169893   71718  296524  192047  273782  397235  140059   92833   \n",
       "\n",
       "            8       9       10  \n",
       "0       520618  356375  338363  \n",
       "1       147770  316271  518598  \n",
       "2       487752  706968  757104  \n",
       "3       777199  750573  675493  \n",
       "4        72604  571829  564395  \n",
       "...        ...     ...     ...  \n",
       "714249  402546  831403  106097  \n",
       "714250  620749  620751  512378  \n",
       "714251  590544  435048  762661  \n",
       "714252  139278  385605  607870  \n",
       "714253  139278  385605  607870  \n",
       "\n",
       "[714254 rows x 11 columns]"
      ]
     },
     "execution_count": 243,
     "metadata": {},
     "output_type": "execute_result"
    }
   ],
   "source": [
    "similar_items"
   ]
  },
  {
   "cell_type": "code",
   "execution_count": 244,
   "id": "8bc8ccaa-61c7-4a4f-8b44-b8ea6fe84d44",
   "metadata": {},
   "outputs": [],
   "source": [
    "similar_items = similar_items.loc[:, :1]"
   ]
  },
  {
   "cell_type": "code",
   "execution_count": 245,
   "id": "ebc8cdde-67f3-44c8-9584-eaa6d088bc84",
   "metadata": {},
   "outputs": [],
   "source": [
    "similar_items.columns = [\"item_id_enc\", 'item_id_2']"
   ]
  },
  {
   "cell_type": "code",
   "execution_count": 246,
   "id": "15b9c8af-6a66-4c31-931b-0a6f52dc5d23",
   "metadata": {},
   "outputs": [
    {
     "name": "stderr",
     "output_type": "stream",
     "text": [
      "/tmp/ipykernel_2117/876658988.py:1: SettingWithCopyWarning: \n",
      "A value is trying to be set on a copy of a slice from a DataFrame.\n",
      "Try using .loc[row_indexer,col_indexer] = value instead\n",
      "\n",
      "See the caveats in the documentation: https://pandas.pydata.org/pandas-docs/stable/user_guide/indexing.html#returning-a-view-versus-a-copy\n",
      "  similar_items['score'] = similar_items_score.loc[:, 1]\n"
     ]
    }
   ],
   "source": [
    "similar_items['score'] = similar_items_score.loc[:, 1]"
   ]
  },
  {
   "cell_type": "code",
   "execution_count": 247,
   "id": "60457e90-1261-48ab-ac4f-9f9272b75fb6",
   "metadata": {},
   "outputs": [],
   "source": [
    "similar_items = similar_items.query(\"item_id_enc != item_id_2\") "
   ]
  },
  {
   "cell_type": "code",
   "execution_count": 248,
   "id": "339cb78e-251e-4395-a9bd-66412b4d46e0",
   "metadata": {},
   "outputs": [],
   "source": [
    "similar_items['item_id_1'] = item_encoder.inverse_transform(similar_items['item_id_enc'])"
   ]
  },
  {
   "cell_type": "code",
   "execution_count": 249,
   "id": "0ad70061-49bb-4ecf-8add-acc4e1989ca6",
   "metadata": {},
   "outputs": [],
   "source": [
    "similar_items['item_id_2'] = item_encoder.inverse_transform(similar_items['item_id_2'])"
   ]
  },
  {
   "cell_type": "code",
   "execution_count": 250,
   "id": "911d53cc-e7df-4b5e-9719-593e24b383b3",
   "metadata": {},
   "outputs": [
    {
     "data": {
      "text/html": [
       "<div>\n",
       "<style scoped>\n",
       "    .dataframe tbody tr th:only-of-type {\n",
       "        vertical-align: middle;\n",
       "    }\n",
       "\n",
       "    .dataframe tbody tr th {\n",
       "        vertical-align: top;\n",
       "    }\n",
       "\n",
       "    .dataframe thead th {\n",
       "        text-align: right;\n",
       "    }\n",
       "</style>\n",
       "<table border=\"1\" class=\"dataframe\">\n",
       "  <thead>\n",
       "    <tr style=\"text-align: right;\">\n",
       "      <th></th>\n",
       "      <th>item_id_enc</th>\n",
       "      <th>item_id_2</th>\n",
       "      <th>score</th>\n",
       "      <th>item_id_1</th>\n",
       "    </tr>\n",
       "  </thead>\n",
       "  <tbody>\n",
       "    <tr>\n",
       "      <th>0</th>\n",
       "      <td>14103</td>\n",
       "      <td>20160529</td>\n",
       "      <td>0.983987</td>\n",
       "      <td>108208</td>\n",
       "    </tr>\n",
       "    <tr>\n",
       "      <th>1</th>\n",
       "      <td>428527</td>\n",
       "      <td>25405148</td>\n",
       "      <td>0.963212</td>\n",
       "      <td>34685698</td>\n",
       "    </tr>\n",
       "    <tr>\n",
       "      <th>2</th>\n",
       "      <td>487759</td>\n",
       "      <td>76961549</td>\n",
       "      <td>0.939953</td>\n",
       "      <td>39309368</td>\n",
       "    </tr>\n",
       "    <tr>\n",
       "      <th>3</th>\n",
       "      <td>529259</td>\n",
       "      <td>55712896</td>\n",
       "      <td>0.995573</td>\n",
       "      <td>43410123</td>\n",
       "    </tr>\n",
       "    <tr>\n",
       "      <th>4</th>\n",
       "      <td>538198</td>\n",
       "      <td>39534271</td>\n",
       "      <td>0.962005</td>\n",
       "      <td>44134240</td>\n",
       "    </tr>\n",
       "    <tr>\n",
       "      <th>...</th>\n",
       "      <td>...</td>\n",
       "      <td>...</td>\n",
       "      <td>...</td>\n",
       "      <td>...</td>\n",
       "    </tr>\n",
       "    <tr>\n",
       "      <th>714249</th>\n",
       "      <td>164920</td>\n",
       "      <td>42614460</td>\n",
       "      <td>0.967224</td>\n",
       "      <td>6494541</td>\n",
       "    </tr>\n",
       "    <tr>\n",
       "      <th>714250</th>\n",
       "      <td>800583</td>\n",
       "      <td>58594312</td>\n",
       "      <td>0.993502</td>\n",
       "      <td>84383084</td>\n",
       "    </tr>\n",
       "    <tr>\n",
       "      <th>714251</th>\n",
       "      <td>211755</td>\n",
       "      <td>35183645</td>\n",
       "      <td>0.994324</td>\n",
       "      <td>15293556</td>\n",
       "    </tr>\n",
       "    <tr>\n",
       "      <th>714252</th>\n",
       "      <td>169893</td>\n",
       "      <td>770164</td>\n",
       "      <td>1.000000</td>\n",
       "      <td>7179620</td>\n",
       "    </tr>\n",
       "    <tr>\n",
       "      <th>714253</th>\n",
       "      <td>169893</td>\n",
       "      <td>770164</td>\n",
       "      <td>1.000000</td>\n",
       "      <td>7179620</td>\n",
       "    </tr>\n",
       "  </tbody>\n",
       "</table>\n",
       "<p>714254 rows × 4 columns</p>\n",
       "</div>"
      ],
      "text/plain": [
       "        item_id_enc  item_id_2     score  item_id_1\n",
       "0             14103   20160529  0.983987     108208\n",
       "1            428527   25405148  0.963212   34685698\n",
       "2            487759   76961549  0.939953   39309368\n",
       "3            529259   55712896  0.995573   43410123\n",
       "4            538198   39534271  0.962005   44134240\n",
       "...             ...        ...       ...        ...\n",
       "714249       164920   42614460  0.967224    6494541\n",
       "714250       800583   58594312  0.993502   84383084\n",
       "714251       211755   35183645  0.994324   15293556\n",
       "714252       169893     770164  1.000000    7179620\n",
       "714253       169893     770164  1.000000    7179620\n",
       "\n",
       "[714254 rows x 4 columns]"
      ]
     },
     "execution_count": 250,
     "metadata": {},
     "output_type": "execute_result"
    }
   ],
   "source": [
    "similar_items"
   ]
  },
  {
   "cell_type": "code",
   "execution_count": 251,
   "id": "396ee979-e10b-4ded-b87d-c89bd742b82d",
   "metadata": {},
   "outputs": [],
   "source": [
    "similar_items.to_parquet('similar.parquet')"
   ]
  },
  {
   "cell_type": "code",
   "execution_count": 252,
   "id": "3a805b7a-5bdf-4620-89dd-68f471b752e4",
   "metadata": {},
   "outputs": [
    {
     "data": {
      "text/html": [
       "<div>\n",
       "<style scoped>\n",
       "    .dataframe tbody tr th:only-of-type {\n",
       "        vertical-align: middle;\n",
       "    }\n",
       "\n",
       "    .dataframe tbody tr th {\n",
       "        vertical-align: top;\n",
       "    }\n",
       "\n",
       "    .dataframe thead th {\n",
       "        text-align: right;\n",
       "    }\n",
       "</style>\n",
       "<table border=\"1\" class=\"dataframe\">\n",
       "  <thead>\n",
       "    <tr style=\"text-align: right;\">\n",
       "      <th></th>\n",
       "      <th>item_id_enc</th>\n",
       "      <th>item_id_2</th>\n",
       "      <th>score</th>\n",
       "      <th>item_id_1</th>\n",
       "    </tr>\n",
       "  </thead>\n",
       "  <tbody>\n",
       "  </tbody>\n",
       "</table>\n",
       "</div>"
      ],
      "text/plain": [
       "Empty DataFrame\n",
       "Columns: [item_id_enc, item_id_2, score, item_id_1]\n",
       "Index: []"
      ]
     },
     "execution_count": 252,
     "metadata": {},
     "output_type": "execute_result"
    }
   ],
   "source": [
    "item_id=17197586\n",
    "item_id_1 = similar_items.query(\"item_id_1 == @item_id\")\n",
    "item_id_1"
   ]
  },
  {
   "cell_type": "code",
   "execution_count": 253,
   "id": "4132772c-fef2-4748-b481-f4f00112fa45",
   "metadata": {},
   "outputs": [],
   "source": [
    "def print_sim_items(item_id, similar_items):\n",
    "\n",
    "    item_columns_to_use = [\"item_id\", \"albums\", \"artists\", \"genres\"]\n",
    "    \n",
    "    item_id_1 = items.query(\"item_id == @item_id\")[item_columns_to_use]\n",
    "    display(item_id_1)\n",
    "    \n",
    "    si = similar_items.query(\"item_id_1 == @item_id\")\n",
    "    si = si.merge(items[item_columns_to_use].set_index(\"item_id\"), left_on=\"item_id_1\", right_index=True)\n",
    "    display(si)\n",
    "    s2 = similar_items.query(\"item_id_2 == @item_id\")\n",
    "    s2 = s2.merge(items[item_columns_to_use].set_index(\"item_id\"), left_on=\"item_id_2\", right_index=True)\n",
    "    display(s2)"
   ]
  },
  {
   "cell_type": "code",
   "execution_count": 254,
   "id": "88de2b0d-bf03-4f6b-8cf9-e4feae114083",
   "metadata": {},
   "outputs": [
    {
     "data": {
      "text/html": [
       "<div>\n",
       "<style scoped>\n",
       "    .dataframe tbody tr th:only-of-type {\n",
       "        vertical-align: middle;\n",
       "    }\n",
       "\n",
       "    .dataframe tbody tr th {\n",
       "        vertical-align: top;\n",
       "    }\n",
       "\n",
       "    .dataframe thead th {\n",
       "        text-align: right;\n",
       "    }\n",
       "</style>\n",
       "<table border=\"1\" class=\"dataframe\">\n",
       "  <thead>\n",
       "    <tr style=\"text-align: right;\">\n",
       "      <th></th>\n",
       "      <th>item_id</th>\n",
       "      <th>albums</th>\n",
       "      <th>artists</th>\n",
       "      <th>genres</th>\n",
       "    </tr>\n",
       "  </thead>\n",
       "  <tbody>\n",
       "    <tr>\n",
       "      <th>272015</th>\n",
       "      <td>17197586</td>\n",
       "      <td>[1892690, 3754438]</td>\n",
       "      <td>[2609092, 2606897]</td>\n",
       "      <td>[32, 31]</td>\n",
       "    </tr>\n",
       "  </tbody>\n",
       "</table>\n",
       "</div>"
      ],
      "text/plain": [
       "         item_id              albums             artists    genres\n",
       "272015  17197586  [1892690, 3754438]  [2609092, 2606897]  [32, 31]"
      ]
     },
     "metadata": {},
     "output_type": "display_data"
    },
    {
     "data": {
      "text/html": [
       "<div>\n",
       "<style scoped>\n",
       "    .dataframe tbody tr th:only-of-type {\n",
       "        vertical-align: middle;\n",
       "    }\n",
       "\n",
       "    .dataframe tbody tr th {\n",
       "        vertical-align: top;\n",
       "    }\n",
       "\n",
       "    .dataframe thead th {\n",
       "        text-align: right;\n",
       "    }\n",
       "</style>\n",
       "<table border=\"1\" class=\"dataframe\">\n",
       "  <thead>\n",
       "    <tr style=\"text-align: right;\">\n",
       "      <th></th>\n",
       "      <th>item_id_enc</th>\n",
       "      <th>item_id_2</th>\n",
       "      <th>score</th>\n",
       "      <th>item_id_1</th>\n",
       "      <th>albums</th>\n",
       "      <th>artists</th>\n",
       "      <th>genres</th>\n",
       "    </tr>\n",
       "    <tr>\n",
       "      <th>item_id</th>\n",
       "      <th></th>\n",
       "      <th></th>\n",
       "      <th></th>\n",
       "      <th></th>\n",
       "      <th></th>\n",
       "      <th></th>\n",
       "      <th></th>\n",
       "    </tr>\n",
       "  </thead>\n",
       "  <tbody>\n",
       "  </tbody>\n",
       "</table>\n",
       "</div>"
      ],
      "text/plain": [
       "Empty DataFrame\n",
       "Columns: [item_id_enc, item_id_2, score, item_id_1, albums, artists, genres]\n",
       "Index: []"
      ]
     },
     "metadata": {},
     "output_type": "display_data"
    },
    {
     "data": {
      "text/html": [
       "<div>\n",
       "<style scoped>\n",
       "    .dataframe tbody tr th:only-of-type {\n",
       "        vertical-align: middle;\n",
       "    }\n",
       "\n",
       "    .dataframe tbody tr th {\n",
       "        vertical-align: top;\n",
       "    }\n",
       "\n",
       "    .dataframe thead th {\n",
       "        text-align: right;\n",
       "    }\n",
       "</style>\n",
       "<table border=\"1\" class=\"dataframe\">\n",
       "  <thead>\n",
       "    <tr style=\"text-align: right;\">\n",
       "      <th></th>\n",
       "      <th>item_id_enc</th>\n",
       "      <th>item_id_2</th>\n",
       "      <th>score</th>\n",
       "      <th>item_id_1</th>\n",
       "      <th>albums</th>\n",
       "      <th>artists</th>\n",
       "      <th>genres</th>\n",
       "    </tr>\n",
       "    <tr>\n",
       "      <th>item_id</th>\n",
       "      <th></th>\n",
       "      <th></th>\n",
       "      <th></th>\n",
       "      <th></th>\n",
       "      <th></th>\n",
       "      <th></th>\n",
       "      <th></th>\n",
       "    </tr>\n",
       "  </thead>\n",
       "  <tbody>\n",
       "  </tbody>\n",
       "</table>\n",
       "</div>"
      ],
      "text/plain": [
       "Empty DataFrame\n",
       "Columns: [item_id_enc, item_id_2, score, item_id_1, albums, artists, genres]\n",
       "Index: []"
      ]
     },
     "metadata": {},
     "output_type": "display_data"
    }
   ],
   "source": [
    "print_sim_items(17197586, similar_items)"
   ]
  },
  {
   "cell_type": "code",
   "execution_count": 255,
   "id": "85cda75e-5679-4810-b056-98e759930378",
   "metadata": {},
   "outputs": [],
   "source": [
    "content_recommendations = events_train.loc[:, ('user_id', 'item_id')]"
   ]
  },
  {
   "cell_type": "code",
   "execution_count": 256,
   "id": "3652bc76-f24c-422d-b1e4-873f60dcb45d",
   "metadata": {},
   "outputs": [],
   "source": [
    "content_recommendations = pd.merge(content_recommendations[['user_id', 'item_id']],\n",
    "        similar_items[['item_id_1', 'item_id_2', 'score']].rename(columns={\"item_id_1\": \"item_id\"}),\n",
    "        on='item_id',\n",
    "        how = 'inner')"
   ]
  },
  {
   "cell_type": "code",
   "execution_count": 257,
   "id": "9e09d593-581f-43f6-a731-8c1e55e2eacc",
   "metadata": {},
   "outputs": [],
   "source": [
    "content_recommendations = content_recommendations.drop('item_id', axis=1).rename(columns={\"item_id_2\": \"item_id\"})"
   ]
  },
  {
   "cell_type": "code",
   "execution_count": 258,
   "id": "3e3cbba2-5557-4d21-9b23-c0b4b08b9c68",
   "metadata": {},
   "outputs": [
    {
     "data": {
      "text/html": [
       "<div>\n",
       "<style scoped>\n",
       "    .dataframe tbody tr th:only-of-type {\n",
       "        vertical-align: middle;\n",
       "    }\n",
       "\n",
       "    .dataframe tbody tr th {\n",
       "        vertical-align: top;\n",
       "    }\n",
       "\n",
       "    .dataframe thead th {\n",
       "        text-align: right;\n",
       "    }\n",
       "</style>\n",
       "<table border=\"1\" class=\"dataframe\">\n",
       "  <thead>\n",
       "    <tr style=\"text-align: right;\">\n",
       "      <th></th>\n",
       "      <th>user_id</th>\n",
       "      <th>item_id</th>\n",
       "      <th>score</th>\n",
       "    </tr>\n",
       "  </thead>\n",
       "  <tbody>\n",
       "    <tr>\n",
       "      <th>0</th>\n",
       "      <td>1</td>\n",
       "      <td>20160529</td>\n",
       "      <td>0.983987</td>\n",
       "    </tr>\n",
       "    <tr>\n",
       "      <th>1</th>\n",
       "      <td>118409</td>\n",
       "      <td>20160529</td>\n",
       "      <td>0.983987</td>\n",
       "    </tr>\n",
       "    <tr>\n",
       "      <th>2</th>\n",
       "      <td>203447</td>\n",
       "      <td>20160529</td>\n",
       "      <td>0.983987</td>\n",
       "    </tr>\n",
       "    <tr>\n",
       "      <th>3</th>\n",
       "      <td>328186</td>\n",
       "      <td>20160529</td>\n",
       "      <td>0.983987</td>\n",
       "    </tr>\n",
       "    <tr>\n",
       "      <th>4</th>\n",
       "      <td>610327</td>\n",
       "      <td>20160529</td>\n",
       "      <td>0.983987</td>\n",
       "    </tr>\n",
       "    <tr>\n",
       "      <th>...</th>\n",
       "      <td>...</td>\n",
       "      <td>...</td>\n",
       "      <td>...</td>\n",
       "    </tr>\n",
       "    <tr>\n",
       "      <th>4650746</th>\n",
       "      <td>1374510</td>\n",
       "      <td>42614460</td>\n",
       "      <td>0.967224</td>\n",
       "    </tr>\n",
       "    <tr>\n",
       "      <th>4650747</th>\n",
       "      <td>1374545</td>\n",
       "      <td>58594312</td>\n",
       "      <td>0.993502</td>\n",
       "    </tr>\n",
       "    <tr>\n",
       "      <th>4650748</th>\n",
       "      <td>1374557</td>\n",
       "      <td>35183645</td>\n",
       "      <td>0.994324</td>\n",
       "    </tr>\n",
       "    <tr>\n",
       "      <th>4650749</th>\n",
       "      <td>1374570</td>\n",
       "      <td>770164</td>\n",
       "      <td>1.000000</td>\n",
       "    </tr>\n",
       "    <tr>\n",
       "      <th>4650750</th>\n",
       "      <td>1374570</td>\n",
       "      <td>770164</td>\n",
       "      <td>1.000000</td>\n",
       "    </tr>\n",
       "  </tbody>\n",
       "</table>\n",
       "<p>4650751 rows × 3 columns</p>\n",
       "</div>"
      ],
      "text/plain": [
       "         user_id   item_id     score\n",
       "0              1  20160529  0.983987\n",
       "1         118409  20160529  0.983987\n",
       "2         203447  20160529  0.983987\n",
       "3         328186  20160529  0.983987\n",
       "4         610327  20160529  0.983987\n",
       "...          ...       ...       ...\n",
       "4650746  1374510  42614460  0.967224\n",
       "4650747  1374545  58594312  0.993502\n",
       "4650748  1374557  35183645  0.994324\n",
       "4650749  1374570    770164  1.000000\n",
       "4650750  1374570    770164  1.000000\n",
       "\n",
       "[4650751 rows x 3 columns]"
      ]
     },
     "execution_count": 258,
     "metadata": {},
     "output_type": "execute_result"
    }
   ],
   "source": [
    "content_recommendations"
   ]
  },
  {
   "cell_type": "code",
   "execution_count": 259,
   "id": "e56ab7b3-d609-4714-9d06-d1c121880dcc",
   "metadata": {},
   "outputs": [],
   "source": [
    "content_recommendations.to_parquet('./content_recommendations.parquet')"
   ]
  },
  {
   "cell_type": "markdown",
   "id": "e5293621-6a5d-4d13-aec3-f6686abd82bf",
   "metadata": {},
   "source": [
    "***Вывод:***\n",
    "\n",
    "Были подготовлены персональные и контентные рекомендации."
   ]
  },
  {
   "cell_type": "code",
   "execution_count": 260,
   "id": "5ee7944c-8f3d-48ae-abc2-ed75d8b65c18",
   "metadata": {},
   "outputs": [],
   "source": [
    "%reset -f"
   ]
  },
  {
   "cell_type": "markdown",
   "id": "c47c1572",
   "metadata": {},
   "source": [
    "<div class=\"alert alert-success\" style=\"border-radius: 15px; box-shadow: 4px 4px 4px; border: 1px solid \">\n",
    "<b> Комментарий ревьюера  ✔️</b>\n",
    "    \n",
    "В целом код хорошо организован, использует разумные подходы к очистке и оптимизации данных, а также применяет эффективные методы обучения рекомендационных моделей.\n",
    "</div>\n"
   ]
  },
  {
   "cell_type": "markdown",
   "id": "47bcf88d-b236-46f0-a6f3-38ddd64895fe",
   "metadata": {},
   "source": [
    "# Ранжирование рекомендаций"
   ]
  },
  {
   "cell_type": "code",
   "execution_count": 1,
   "id": "6306261d-d8d3-449d-aa5d-6f1681685171",
   "metadata": {},
   "outputs": [
    {
     "name": "stderr",
     "output_type": "stream",
     "text": [
      "/home/mle-user/mle_projects/mle-project-sprint-4-v001/env_recsys_start/lib/python3.10/site-packages/tqdm/auto.py:21: TqdmWarning: IProgress not found. Please update jupyter and ipywidgets. See https://ipywidgets.readthedocs.io/en/stable/user_install.html\n",
      "  from .autonotebook import tqdm as notebook_tqdm\n"
     ]
    }
   ],
   "source": [
    "import boto3\n",
    "import matplotlib.pyplot as plt\n",
    "import numpy as np\n",
    "import pandas as pd\n",
    "import scipy\n",
    "import sklearn.metrics\n",
    "import sklearn.preprocessing\n",
    "from implicit.als import AlternatingLeastSquares\n",
    "from catboost import CatBoostClassifier, Pool\n",
    "from dotenv import load_dotenv\n",
    "from tqdm import tqdm\n",
    "import os\n",
    "import sys"
   ]
  },
  {
   "cell_type": "code",
   "execution_count": 11,
   "id": "c5835d69-b69c-4ab2-8990-d4c9c6b6992d",
   "metadata": {},
   "outputs": [],
   "source": [
    "items = pd.read_parquet(\"./items.parquet\")\n",
    "events = pd.read_parquet(\"./events.parquet\")"
   ]
  },
  {
   "cell_type": "code",
   "execution_count": 7,
   "id": "0dba2b26-504c-4760-8699-3d03a1657f67",
   "metadata": {},
   "outputs": [
    {
     "name": "stdout",
     "output_type": "stream",
     "text": [
      "275648 212006 188562\n"
     ]
    }
   ],
   "source": [
    "train_test_global_time_split_date = pd.to_datetime(\"2022-11-20\")#.date()\n",
    "train_test_global_time_split_idx = events[\"started_at\"] < train_test_global_time_split_date\n",
    "events_train = events[train_test_global_time_split_idx]\n",
    "events_test = events[~train_test_global_time_split_idx]\n",
    "# количество пользователей в train и test\n",
    "users_train = events_train[\"user_id\"].drop_duplicates()\n",
    "users_test = events_test[\"user_id\"].drop_duplicates()\n",
    "# количество пользователей, которые есть и в train, и в test\n",
    "common_users = set(users_test).intersection(set(users_train))\n",
    "\n",
    "print(len(users_train), len(users_test), len(common_users)) "
   ]
  },
  {
   "cell_type": "code",
   "execution_count": 8,
   "id": "6dbe4db4-1ac5-44da-a13c-8e7f9768ab73",
   "metadata": {},
   "outputs": [],
   "source": [
    "# задаём точку разбиения\n",
    "split_date_for_labels = pd.to_datetime(\"2022-12-15\")\n",
    "split_date_for_labels_idx = events_test[\"started_at\"] < split_date_for_labels\n",
    "events_labels = events_test[split_date_for_labels_idx].copy()\n",
    "events_test_2 = events_test[~split_date_for_labels_idx].copy() "
   ]
  },
  {
   "cell_type": "code",
   "execution_count": 268,
   "id": "fbc7d41a-ae3b-4f93-a874-4db08f08865d",
   "metadata": {},
   "outputs": [],
   "source": [
    "events_test_2.to_parquet('./events_test_2.parquet')"
   ]
  },
  {
   "cell_type": "code",
   "execution_count": 269,
   "id": "fbb992dd-0e59-49a2-a1e8-adc110889db4",
   "metadata": {
    "scrolled": true
   },
   "outputs": [
    {
     "data": {
      "text/plain": [
       "197045"
      ]
     },
     "execution_count": 269,
     "metadata": {},
     "output_type": "execute_result"
    }
   ],
   "source": [
    "len(events_labels['user_id'].unique())"
   ]
  },
  {
   "cell_type": "code",
   "execution_count": 270,
   "id": "d155203e-da80-459f-af58-dcf821d4a934",
   "metadata": {},
   "outputs": [],
   "source": [
    "del items\n",
    "del events"
   ]
  },
  {
   "cell_type": "markdown",
   "id": "e8cd8223-3418-4493-8c87-1f76286ebda0",
   "metadata": {},
   "source": [
    "Построим ранжирующую модель, чтобы сделать рекомендации более точными. Отранжируем рекомендации."
   ]
  },
  {
   "cell_type": "code",
   "execution_count": 271,
   "id": "6d606295-8277-4a23-9cff-eddcf1be396c",
   "metadata": {
    "scrolled": true
   },
   "outputs": [
    {
     "data": {
      "text/html": [
       "<div>\n",
       "<style scoped>\n",
       "    .dataframe tbody tr th:only-of-type {\n",
       "        vertical-align: middle;\n",
       "    }\n",
       "\n",
       "    .dataframe tbody tr th {\n",
       "        vertical-align: top;\n",
       "    }\n",
       "\n",
       "    .dataframe thead th {\n",
       "        text-align: right;\n",
       "    }\n",
       "</style>\n",
       "<table border=\"1\" class=\"dataframe\">\n",
       "  <thead>\n",
       "    <tr style=\"text-align: right;\">\n",
       "      <th></th>\n",
       "      <th>user_id</th>\n",
       "      <th>item_id</th>\n",
       "      <th>score</th>\n",
       "    </tr>\n",
       "  </thead>\n",
       "  <tbody>\n",
       "    <tr>\n",
       "      <th>0</th>\n",
       "      <td>1</td>\n",
       "      <td>28535690</td>\n",
       "      <td>0.000177</td>\n",
       "    </tr>\n",
       "    <tr>\n",
       "      <th>1</th>\n",
       "      <td>1</td>\n",
       "      <td>28952086</td>\n",
       "      <td>0.000171</td>\n",
       "    </tr>\n",
       "    <tr>\n",
       "      <th>2</th>\n",
       "      <td>1</td>\n",
       "      <td>28952087</td>\n",
       "      <td>0.000168</td>\n",
       "    </tr>\n",
       "    <tr>\n",
       "      <th>3</th>\n",
       "      <td>1</td>\n",
       "      <td>28535699</td>\n",
       "      <td>0.000168</td>\n",
       "    </tr>\n",
       "    <tr>\n",
       "      <th>4</th>\n",
       "      <td>1</td>\n",
       "      <td>28535693</td>\n",
       "      <td>0.000168</td>\n",
       "    </tr>\n",
       "    <tr>\n",
       "      <th>...</th>\n",
       "      <td>...</td>\n",
       "      <td>...</td>\n",
       "      <td>...</td>\n",
       "    </tr>\n",
       "    <tr>\n",
       "      <th>1495455</th>\n",
       "      <td>1374581</td>\n",
       "      <td>2277850</td>\n",
       "      <td>0.000682</td>\n",
       "    </tr>\n",
       "    <tr>\n",
       "      <th>1495456</th>\n",
       "      <td>1374581</td>\n",
       "      <td>2277848</td>\n",
       "      <td>0.000680</td>\n",
       "    </tr>\n",
       "    <tr>\n",
       "      <th>1495457</th>\n",
       "      <td>1374581</td>\n",
       "      <td>2277853</td>\n",
       "      <td>0.000675</td>\n",
       "    </tr>\n",
       "    <tr>\n",
       "      <th>1495458</th>\n",
       "      <td>1374581</td>\n",
       "      <td>2277854</td>\n",
       "      <td>0.000672</td>\n",
       "    </tr>\n",
       "    <tr>\n",
       "      <th>1495459</th>\n",
       "      <td>1374581</td>\n",
       "      <td>2277855</td>\n",
       "      <td>0.000663</td>\n",
       "    </tr>\n",
       "  </tbody>\n",
       "</table>\n",
       "<p>1495460 rows × 3 columns</p>\n",
       "</div>"
      ],
      "text/plain": [
       "         user_id   item_id     score\n",
       "0              1  28535690  0.000177\n",
       "1              1  28952086  0.000171\n",
       "2              1  28952087  0.000168\n",
       "3              1  28535699  0.000168\n",
       "4              1  28535693  0.000168\n",
       "...          ...       ...       ...\n",
       "1495455  1374581   2277850  0.000682\n",
       "1495456  1374581   2277848  0.000680\n",
       "1495457  1374581   2277853  0.000675\n",
       "1495458  1374581   2277854  0.000672\n",
       "1495459  1374581   2277855  0.000663\n",
       "\n",
       "[1495460 rows x 3 columns]"
      ]
     },
     "execution_count": 271,
     "metadata": {},
     "output_type": "execute_result"
    }
   ],
   "source": [
    "als_recommendations = pd.read_parquet(\"./als_recommendations.parquet\")\n",
    "als_recommendations"
   ]
  },
  {
   "cell_type": "code",
   "execution_count": 272,
   "id": "90904cf7-6b9e-4030-8881-e12042d0cfc5",
   "metadata": {
    "scrolled": true
   },
   "outputs": [
    {
     "data": {
      "text/html": [
       "<div>\n",
       "<style scoped>\n",
       "    .dataframe tbody tr th:only-of-type {\n",
       "        vertical-align: middle;\n",
       "    }\n",
       "\n",
       "    .dataframe tbody tr th {\n",
       "        vertical-align: top;\n",
       "    }\n",
       "\n",
       "    .dataframe thead th {\n",
       "        text-align: right;\n",
       "    }\n",
       "</style>\n",
       "<table border=\"1\" class=\"dataframe\">\n",
       "  <thead>\n",
       "    <tr style=\"text-align: right;\">\n",
       "      <th></th>\n",
       "      <th>user_id</th>\n",
       "      <th>item_id</th>\n",
       "      <th>score</th>\n",
       "    </tr>\n",
       "  </thead>\n",
       "  <tbody>\n",
       "    <tr>\n",
       "      <th>0</th>\n",
       "      <td>1</td>\n",
       "      <td>20160529</td>\n",
       "      <td>0.983987</td>\n",
       "    </tr>\n",
       "    <tr>\n",
       "      <th>1</th>\n",
       "      <td>118409</td>\n",
       "      <td>20160529</td>\n",
       "      <td>0.983987</td>\n",
       "    </tr>\n",
       "    <tr>\n",
       "      <th>2</th>\n",
       "      <td>203447</td>\n",
       "      <td>20160529</td>\n",
       "      <td>0.983987</td>\n",
       "    </tr>\n",
       "    <tr>\n",
       "      <th>3</th>\n",
       "      <td>328186</td>\n",
       "      <td>20160529</td>\n",
       "      <td>0.983987</td>\n",
       "    </tr>\n",
       "    <tr>\n",
       "      <th>4</th>\n",
       "      <td>610327</td>\n",
       "      <td>20160529</td>\n",
       "      <td>0.983987</td>\n",
       "    </tr>\n",
       "    <tr>\n",
       "      <th>...</th>\n",
       "      <td>...</td>\n",
       "      <td>...</td>\n",
       "      <td>...</td>\n",
       "    </tr>\n",
       "    <tr>\n",
       "      <th>4650746</th>\n",
       "      <td>1374510</td>\n",
       "      <td>42614460</td>\n",
       "      <td>0.967224</td>\n",
       "    </tr>\n",
       "    <tr>\n",
       "      <th>4650747</th>\n",
       "      <td>1374545</td>\n",
       "      <td>58594312</td>\n",
       "      <td>0.993502</td>\n",
       "    </tr>\n",
       "    <tr>\n",
       "      <th>4650748</th>\n",
       "      <td>1374557</td>\n",
       "      <td>35183645</td>\n",
       "      <td>0.994324</td>\n",
       "    </tr>\n",
       "    <tr>\n",
       "      <th>4650749</th>\n",
       "      <td>1374570</td>\n",
       "      <td>770164</td>\n",
       "      <td>1.000000</td>\n",
       "    </tr>\n",
       "    <tr>\n",
       "      <th>4650750</th>\n",
       "      <td>1374570</td>\n",
       "      <td>770164</td>\n",
       "      <td>1.000000</td>\n",
       "    </tr>\n",
       "  </tbody>\n",
       "</table>\n",
       "<p>4650751 rows × 3 columns</p>\n",
       "</div>"
      ],
      "text/plain": [
       "         user_id   item_id     score\n",
       "0              1  20160529  0.983987\n",
       "1         118409  20160529  0.983987\n",
       "2         203447  20160529  0.983987\n",
       "3         328186  20160529  0.983987\n",
       "4         610327  20160529  0.983987\n",
       "...          ...       ...       ...\n",
       "4650746  1374510  42614460  0.967224\n",
       "4650747  1374545  58594312  0.993502\n",
       "4650748  1374557  35183645  0.994324\n",
       "4650749  1374570    770164  1.000000\n",
       "4650750  1374570    770164  1.000000\n",
       "\n",
       "[4650751 rows x 3 columns]"
      ]
     },
     "execution_count": 272,
     "metadata": {},
     "output_type": "execute_result"
    }
   ],
   "source": [
    "content_recommendations = pd.read_parquet('./content_recommendations.parquet')\n",
    "content_recommendations"
   ]
  },
  {
   "cell_type": "code",
   "execution_count": 273,
   "id": "ca091a71-4719-4eed-9070-4118bb4d4e26",
   "metadata": {},
   "outputs": [
    {
     "data": {
      "text/plain": [
       "6142340"
      ]
     },
     "execution_count": 273,
     "metadata": {},
     "output_type": "execute_result"
    }
   ],
   "source": [
    "candidates = pd.merge(\n",
    "    als_recommendations[[\"user_id\", \"item_id\", \"score\"]].rename(columns={\"score\": \"als_score\"}),\n",
    "    content_recommendations[[\"user_id\", \"item_id\", \"score\"]].rename(columns={\"score\": \"cnt_score\"}),\n",
    "    on=('user_id', 'item_id'),\n",
    "    how=\"outer\")\n",
    "\n",
    "len(candidates)"
   ]
  },
  {
   "cell_type": "code",
   "execution_count": 274,
   "id": "6d327de9-8c5f-46d5-af3b-ebffa40d40b6",
   "metadata": {},
   "outputs": [
    {
     "data": {
      "text/html": [
       "<div>\n",
       "<style scoped>\n",
       "    .dataframe tbody tr th:only-of-type {\n",
       "        vertical-align: middle;\n",
       "    }\n",
       "\n",
       "    .dataframe tbody tr th {\n",
       "        vertical-align: top;\n",
       "    }\n",
       "\n",
       "    .dataframe thead th {\n",
       "        text-align: right;\n",
       "    }\n",
       "</style>\n",
       "<table border=\"1\" class=\"dataframe\">\n",
       "  <thead>\n",
       "    <tr style=\"text-align: right;\">\n",
       "      <th></th>\n",
       "      <th>user_id</th>\n",
       "      <th>item_id</th>\n",
       "      <th>als_score</th>\n",
       "      <th>cnt_score</th>\n",
       "    </tr>\n",
       "  </thead>\n",
       "  <tbody>\n",
       "    <tr>\n",
       "      <th>0</th>\n",
       "      <td>1</td>\n",
       "      <td>28535690</td>\n",
       "      <td>0.000177</td>\n",
       "      <td>NaN</td>\n",
       "    </tr>\n",
       "    <tr>\n",
       "      <th>1</th>\n",
       "      <td>1</td>\n",
       "      <td>28952086</td>\n",
       "      <td>0.000171</td>\n",
       "      <td>NaN</td>\n",
       "    </tr>\n",
       "    <tr>\n",
       "      <th>2</th>\n",
       "      <td>1</td>\n",
       "      <td>28952087</td>\n",
       "      <td>0.000168</td>\n",
       "      <td>NaN</td>\n",
       "    </tr>\n",
       "    <tr>\n",
       "      <th>3</th>\n",
       "      <td>1</td>\n",
       "      <td>28535699</td>\n",
       "      <td>0.000168</td>\n",
       "      <td>NaN</td>\n",
       "    </tr>\n",
       "    <tr>\n",
       "      <th>4</th>\n",
       "      <td>1</td>\n",
       "      <td>28535693</td>\n",
       "      <td>0.000168</td>\n",
       "      <td>NaN</td>\n",
       "    </tr>\n",
       "    <tr>\n",
       "      <th>...</th>\n",
       "      <td>...</td>\n",
       "      <td>...</td>\n",
       "      <td>...</td>\n",
       "      <td>...</td>\n",
       "    </tr>\n",
       "    <tr>\n",
       "      <th>6142335</th>\n",
       "      <td>1374510</td>\n",
       "      <td>42614460</td>\n",
       "      <td>NaN</td>\n",
       "      <td>0.967224</td>\n",
       "    </tr>\n",
       "    <tr>\n",
       "      <th>6142336</th>\n",
       "      <td>1374545</td>\n",
       "      <td>58594312</td>\n",
       "      <td>NaN</td>\n",
       "      <td>0.993502</td>\n",
       "    </tr>\n",
       "    <tr>\n",
       "      <th>6142337</th>\n",
       "      <td>1374557</td>\n",
       "      <td>35183645</td>\n",
       "      <td>NaN</td>\n",
       "      <td>0.994324</td>\n",
       "    </tr>\n",
       "    <tr>\n",
       "      <th>6142338</th>\n",
       "      <td>1374570</td>\n",
       "      <td>770164</td>\n",
       "      <td>NaN</td>\n",
       "      <td>1.000000</td>\n",
       "    </tr>\n",
       "    <tr>\n",
       "      <th>6142339</th>\n",
       "      <td>1374570</td>\n",
       "      <td>770164</td>\n",
       "      <td>NaN</td>\n",
       "      <td>1.000000</td>\n",
       "    </tr>\n",
       "  </tbody>\n",
       "</table>\n",
       "<p>6142340 rows × 4 columns</p>\n",
       "</div>"
      ],
      "text/plain": [
       "         user_id   item_id  als_score  cnt_score\n",
       "0              1  28535690   0.000177        NaN\n",
       "1              1  28952086   0.000171        NaN\n",
       "2              1  28952087   0.000168        NaN\n",
       "3              1  28535699   0.000168        NaN\n",
       "4              1  28535693   0.000168        NaN\n",
       "...          ...       ...        ...        ...\n",
       "6142335  1374510  42614460        NaN   0.967224\n",
       "6142336  1374545  58594312        NaN   0.993502\n",
       "6142337  1374557  35183645        NaN   0.994324\n",
       "6142338  1374570    770164        NaN   1.000000\n",
       "6142339  1374570    770164        NaN   1.000000\n",
       "\n",
       "[6142340 rows x 4 columns]"
      ]
     },
     "execution_count": 274,
     "metadata": {},
     "output_type": "execute_result"
    }
   ],
   "source": [
    "candidates"
   ]
  },
  {
   "cell_type": "code",
   "execution_count": 275,
   "id": "15fbd35b-d155-4931-8d5d-e302e3e1ac54",
   "metadata": {},
   "outputs": [],
   "source": [
    "# добавляем таргет к кандидатам со значением:\n",
    "# — 1 для тех item_id, которые пользователь прочитал\n",
    "# — 0, для всех остальных \n",
    "\n",
    "events_labels[\"target\"] = 1\n",
    "candidates = candidates.merge(events_labels[[\"user_id\", \"item_id\", \"target\"]],\n",
    "                              on=('user_id', 'item_id'),\n",
    "                              how=\"left\")"
   ]
  },
  {
   "cell_type": "code",
   "execution_count": 276,
   "id": "96208b04-b33d-4dcf-95aa-e5a0756295c3",
   "metadata": {},
   "outputs": [
    {
     "data": {
      "text/html": [
       "<div>\n",
       "<style scoped>\n",
       "    .dataframe tbody tr th:only-of-type {\n",
       "        vertical-align: middle;\n",
       "    }\n",
       "\n",
       "    .dataframe tbody tr th {\n",
       "        vertical-align: top;\n",
       "    }\n",
       "\n",
       "    .dataframe thead th {\n",
       "        text-align: right;\n",
       "    }\n",
       "</style>\n",
       "<table border=\"1\" class=\"dataframe\">\n",
       "  <thead>\n",
       "    <tr style=\"text-align: right;\">\n",
       "      <th></th>\n",
       "      <th>user_id</th>\n",
       "      <th>item_id</th>\n",
       "      <th>als_score</th>\n",
       "      <th>cnt_score</th>\n",
       "      <th>target</th>\n",
       "    </tr>\n",
       "  </thead>\n",
       "  <tbody>\n",
       "    <tr>\n",
       "      <th>0</th>\n",
       "      <td>1</td>\n",
       "      <td>28535690</td>\n",
       "      <td>0.000177</td>\n",
       "      <td>NaN</td>\n",
       "      <td>NaN</td>\n",
       "    </tr>\n",
       "    <tr>\n",
       "      <th>1</th>\n",
       "      <td>1</td>\n",
       "      <td>28952086</td>\n",
       "      <td>0.000171</td>\n",
       "      <td>NaN</td>\n",
       "      <td>NaN</td>\n",
       "    </tr>\n",
       "    <tr>\n",
       "      <th>2</th>\n",
       "      <td>1</td>\n",
       "      <td>28952087</td>\n",
       "      <td>0.000168</td>\n",
       "      <td>NaN</td>\n",
       "      <td>NaN</td>\n",
       "    </tr>\n",
       "    <tr>\n",
       "      <th>3</th>\n",
       "      <td>1</td>\n",
       "      <td>28535699</td>\n",
       "      <td>0.000168</td>\n",
       "      <td>NaN</td>\n",
       "      <td>NaN</td>\n",
       "    </tr>\n",
       "    <tr>\n",
       "      <th>4</th>\n",
       "      <td>1</td>\n",
       "      <td>28535693</td>\n",
       "      <td>0.000168</td>\n",
       "      <td>NaN</td>\n",
       "      <td>NaN</td>\n",
       "    </tr>\n",
       "    <tr>\n",
       "      <th>...</th>\n",
       "      <td>...</td>\n",
       "      <td>...</td>\n",
       "      <td>...</td>\n",
       "      <td>...</td>\n",
       "      <td>...</td>\n",
       "    </tr>\n",
       "    <tr>\n",
       "      <th>6142335</th>\n",
       "      <td>1374510</td>\n",
       "      <td>42614460</td>\n",
       "      <td>NaN</td>\n",
       "      <td>0.967224</td>\n",
       "      <td>NaN</td>\n",
       "    </tr>\n",
       "    <tr>\n",
       "      <th>6142336</th>\n",
       "      <td>1374545</td>\n",
       "      <td>58594312</td>\n",
       "      <td>NaN</td>\n",
       "      <td>0.993502</td>\n",
       "      <td>NaN</td>\n",
       "    </tr>\n",
       "    <tr>\n",
       "      <th>6142337</th>\n",
       "      <td>1374557</td>\n",
       "      <td>35183645</td>\n",
       "      <td>NaN</td>\n",
       "      <td>0.994324</td>\n",
       "      <td>1.0</td>\n",
       "    </tr>\n",
       "    <tr>\n",
       "      <th>6142338</th>\n",
       "      <td>1374570</td>\n",
       "      <td>770164</td>\n",
       "      <td>NaN</td>\n",
       "      <td>1.000000</td>\n",
       "      <td>NaN</td>\n",
       "    </tr>\n",
       "    <tr>\n",
       "      <th>6142339</th>\n",
       "      <td>1374570</td>\n",
       "      <td>770164</td>\n",
       "      <td>NaN</td>\n",
       "      <td>1.000000</td>\n",
       "      <td>NaN</td>\n",
       "    </tr>\n",
       "  </tbody>\n",
       "</table>\n",
       "<p>6142340 rows × 5 columns</p>\n",
       "</div>"
      ],
      "text/plain": [
       "         user_id   item_id  als_score  cnt_score  target\n",
       "0              1  28535690   0.000177        NaN     NaN\n",
       "1              1  28952086   0.000171        NaN     NaN\n",
       "2              1  28952087   0.000168        NaN     NaN\n",
       "3              1  28535699   0.000168        NaN     NaN\n",
       "4              1  28535693   0.000168        NaN     NaN\n",
       "...          ...       ...        ...        ...     ...\n",
       "6142335  1374510  42614460        NaN   0.967224     NaN\n",
       "6142336  1374545  58594312        NaN   0.993502     NaN\n",
       "6142337  1374557  35183645        NaN   0.994324     1.0\n",
       "6142338  1374570    770164        NaN   1.000000     NaN\n",
       "6142339  1374570    770164        NaN   1.000000     NaN\n",
       "\n",
       "[6142340 rows x 5 columns]"
      ]
     },
     "execution_count": 276,
     "metadata": {},
     "output_type": "execute_result"
    }
   ],
   "source": [
    "candidates"
   ]
  },
  {
   "cell_type": "code",
   "execution_count": 277,
   "id": "55c24741-07ee-4aa3-9c1c-a38e3c1ed087",
   "metadata": {},
   "outputs": [
    {
     "data": {
      "text/html": [
       "<div>\n",
       "<style scoped>\n",
       "    .dataframe tbody tr th:only-of-type {\n",
       "        vertical-align: middle;\n",
       "    }\n",
       "\n",
       "    .dataframe tbody tr th {\n",
       "        vertical-align: top;\n",
       "    }\n",
       "\n",
       "    .dataframe thead th {\n",
       "        text-align: right;\n",
       "    }\n",
       "</style>\n",
       "<table border=\"1\" class=\"dataframe\">\n",
       "  <thead>\n",
       "    <tr style=\"text-align: right;\">\n",
       "      <th></th>\n",
       "      <th>user_id</th>\n",
       "      <th>item_id</th>\n",
       "      <th>als_score</th>\n",
       "      <th>cnt_score</th>\n",
       "      <th>target</th>\n",
       "    </tr>\n",
       "  </thead>\n",
       "  <tbody>\n",
       "    <tr>\n",
       "      <th>0</th>\n",
       "      <td>1</td>\n",
       "      <td>28535690</td>\n",
       "      <td>0.000177</td>\n",
       "      <td>NaN</td>\n",
       "      <td>0</td>\n",
       "    </tr>\n",
       "    <tr>\n",
       "      <th>1</th>\n",
       "      <td>1</td>\n",
       "      <td>28952086</td>\n",
       "      <td>0.000171</td>\n",
       "      <td>NaN</td>\n",
       "      <td>0</td>\n",
       "    </tr>\n",
       "    <tr>\n",
       "      <th>2</th>\n",
       "      <td>1</td>\n",
       "      <td>28952087</td>\n",
       "      <td>0.000168</td>\n",
       "      <td>NaN</td>\n",
       "      <td>0</td>\n",
       "    </tr>\n",
       "    <tr>\n",
       "      <th>3</th>\n",
       "      <td>1</td>\n",
       "      <td>28535699</td>\n",
       "      <td>0.000168</td>\n",
       "      <td>NaN</td>\n",
       "      <td>0</td>\n",
       "    </tr>\n",
       "    <tr>\n",
       "      <th>4</th>\n",
       "      <td>1</td>\n",
       "      <td>28535693</td>\n",
       "      <td>0.000168</td>\n",
       "      <td>NaN</td>\n",
       "      <td>0</td>\n",
       "    </tr>\n",
       "    <tr>\n",
       "      <th>...</th>\n",
       "      <td>...</td>\n",
       "      <td>...</td>\n",
       "      <td>...</td>\n",
       "      <td>...</td>\n",
       "      <td>...</td>\n",
       "    </tr>\n",
       "    <tr>\n",
       "      <th>6142335</th>\n",
       "      <td>1374510</td>\n",
       "      <td>42614460</td>\n",
       "      <td>NaN</td>\n",
       "      <td>0.967224</td>\n",
       "      <td>0</td>\n",
       "    </tr>\n",
       "    <tr>\n",
       "      <th>6142336</th>\n",
       "      <td>1374545</td>\n",
       "      <td>58594312</td>\n",
       "      <td>NaN</td>\n",
       "      <td>0.993502</td>\n",
       "      <td>0</td>\n",
       "    </tr>\n",
       "    <tr>\n",
       "      <th>6142337</th>\n",
       "      <td>1374557</td>\n",
       "      <td>35183645</td>\n",
       "      <td>NaN</td>\n",
       "      <td>0.994324</td>\n",
       "      <td>1</td>\n",
       "    </tr>\n",
       "    <tr>\n",
       "      <th>6142338</th>\n",
       "      <td>1374570</td>\n",
       "      <td>770164</td>\n",
       "      <td>NaN</td>\n",
       "      <td>1.000000</td>\n",
       "      <td>0</td>\n",
       "    </tr>\n",
       "    <tr>\n",
       "      <th>6142339</th>\n",
       "      <td>1374570</td>\n",
       "      <td>770164</td>\n",
       "      <td>NaN</td>\n",
       "      <td>1.000000</td>\n",
       "      <td>0</td>\n",
       "    </tr>\n",
       "  </tbody>\n",
       "</table>\n",
       "<p>6142340 rows × 5 columns</p>\n",
       "</div>"
      ],
      "text/plain": [
       "         user_id   item_id  als_score  cnt_score  target\n",
       "0              1  28535690   0.000177        NaN       0\n",
       "1              1  28952086   0.000171        NaN       0\n",
       "2              1  28952087   0.000168        NaN       0\n",
       "3              1  28535699   0.000168        NaN       0\n",
       "4              1  28535693   0.000168        NaN       0\n",
       "...          ...       ...        ...        ...     ...\n",
       "6142335  1374510  42614460        NaN   0.967224       0\n",
       "6142336  1374545  58594312        NaN   0.993502       0\n",
       "6142337  1374557  35183645        NaN   0.994324       1\n",
       "6142338  1374570    770164        NaN   1.000000       0\n",
       "6142339  1374570    770164        NaN   1.000000       0\n",
       "\n",
       "[6142340 rows x 5 columns]"
      ]
     },
     "execution_count": 277,
     "metadata": {},
     "output_type": "execute_result"
    }
   ],
   "source": [
    "candidates[\"target\"] = candidates[\"target\"].fillna(0).astype(\"int\")\n",
    "candidates"
   ]
  },
  {
   "cell_type": "code",
   "execution_count": 278,
   "id": "49a9f5a9-68d0-4133-8c6f-cdf2c93a5195",
   "metadata": {},
   "outputs": [
    {
     "data": {
      "text/plain": [
       "0.01925731887196085"
      ]
     },
     "execution_count": 278,
     "metadata": {},
     "output_type": "execute_result"
    }
   ],
   "source": [
    "candidates.target.mean()"
   ]
  },
  {
   "cell_type": "code",
   "execution_count": 279,
   "id": "d4cef682-9d47-46c1-94e2-787ce868457d",
   "metadata": {},
   "outputs": [],
   "source": [
    "candidates.to_parquet('./candidates.parquet')"
   ]
  },
  {
   "cell_type": "markdown",
   "id": "7ba36986-e80d-40ee-abb9-ea3c67fb4a46",
   "metadata": {},
   "source": [
    "***Сброс ядра kernel***"
   ]
  },
  {
   "cell_type": "code",
   "execution_count": 280,
   "id": "63fdb5a6-087e-4c9e-8604-bb689c4f594f",
   "metadata": {},
   "outputs": [],
   "source": [
    "del als_recommendations\n",
    "del content_recommendations"
   ]
  },
  {
   "cell_type": "code",
   "execution_count": 15,
   "id": "5c04ecb6-677a-43ac-b74d-471023931c2d",
   "metadata": {},
   "outputs": [],
   "source": [
    "candidates = pd.read_parquet(\"./candidates.parquet\")"
   ]
  },
  {
   "cell_type": "code",
   "execution_count": 16,
   "id": "0f6e8fda-eaac-49ed-988c-1b74913151fa",
   "metadata": {},
   "outputs": [],
   "source": [
    "# в кандидатах оставляем только тех пользователей, у которых есть хотя бы один положительный таргет\n",
    "candidates_to_sample = candidates.groupby(\"user_id\").filter(lambda x: x[\"target\"].sum() > 0)"
   ]
  },
  {
   "cell_type": "code",
   "execution_count": 17,
   "id": "38339674-ed27-41de-b9ef-da2d697ede10",
   "metadata": {},
   "outputs": [
    {
     "data": {
      "text/plain": [
       "0.10766532318256457"
      ]
     },
     "execution_count": 17,
     "metadata": {},
     "output_type": "execute_result"
    }
   ],
   "source": [
    "candidates_to_sample.target.mean()"
   ]
  },
  {
   "cell_type": "code",
   "execution_count": 18,
   "id": "b7050f16-26aa-4b50-9660-d1e4d3f3d1e6",
   "metadata": {},
   "outputs": [],
   "source": [
    "# для каждого пользователя оставляем только 4 негативных примера\n",
    "negatives_per_user = 4\n",
    "candidates_for_train = pd.concat([\n",
    "    candidates_to_sample.query(\"target == 1\"),\n",
    "    candidates_to_sample.query(\"target == 0\") \\\n",
    "        .groupby(\"user_id\") \\\n",
    "        .apply(lambda x: x.sample(negatives_per_user, random_state=0))\n",
    "    ])"
   ]
  },
  {
   "cell_type": "code",
   "execution_count": 10,
   "id": "8fbd3688-14ad-4f5c-a083-8b7e033989ac",
   "metadata": {},
   "outputs": [
    {
     "data": {
      "text/plain": [
       "0.4044083709130942"
      ]
     },
     "execution_count": 10,
     "metadata": {},
     "output_type": "execute_result"
    }
   ],
   "source": [
    "candidates_for_train['target'].mean()"
   ]
  },
  {
   "cell_type": "code",
   "execution_count": 286,
   "id": "ff66daff-6481-46f4-967f-fc03fa859903",
   "metadata": {},
   "outputs": [
    {
     "name": "stdout",
     "output_type": "stream",
     "text": [
      "0:\tlearn: 0.6294253\ttotal: 82.6ms\tremaining: 1m 22s\n",
      "100:\tlearn: 0.5267416\ttotal: 2.46s\tremaining: 21.9s\n",
      "200:\tlearn: 0.5264631\ttotal: 4.74s\tremaining: 18.8s\n",
      "300:\tlearn: 0.5263234\ttotal: 7.02s\tremaining: 16.3s\n",
      "400:\tlearn: 0.5262638\ttotal: 9.28s\tremaining: 13.9s\n",
      "500:\tlearn: 0.5262301\ttotal: 11.5s\tremaining: 11.5s\n",
      "600:\tlearn: 0.5262124\ttotal: 13.7s\tremaining: 9.1s\n",
      "700:\tlearn: 0.5261861\ttotal: 15.9s\tremaining: 6.78s\n",
      "800:\tlearn: 0.5261767\ttotal: 18.1s\tremaining: 4.49s\n",
      "900:\tlearn: 0.5261717\ttotal: 20.3s\tremaining: 2.23s\n",
      "999:\tlearn: 0.5261564\ttotal: 22.5s\tremaining: 0us\n"
     ]
    },
    {
     "data": {
      "text/plain": [
       "<catboost.core.CatBoostClassifier at 0x7fb8b5ad40d0>"
      ]
     },
     "execution_count": 286,
     "metadata": {},
     "output_type": "execute_result"
    }
   ],
   "source": [
    "# задаём имена колонок признаков и таргета\n",
    "features = ['als_score', 'cnt_score']\n",
    "target = 'target'\n",
    "\n",
    "# Create the Pool object\n",
    "train_data = Pool(\n",
    "    data=candidates_for_train[features], \n",
    "    label=candidates_for_train[target])\n",
    "\n",
    "# инициализируем модель CatBoostClassifier\n",
    "cb_model = CatBoostClassifier(\n",
    "    iterations=1000,\n",
    "    learning_rate=0.1,\n",
    "    depth=6,\n",
    "    loss_function='Logloss',\n",
    "    verbose=100,\n",
    "    random_seed=0\n",
    ")\n",
    "\n",
    "# тренируем модель\n",
    "cb_model.fit(train_data)"
   ]
  },
  {
   "cell_type": "code",
   "execution_count": 287,
   "id": "26420bd1-265a-4aed-b6e9-151abf3586bf",
   "metadata": {},
   "outputs": [],
   "source": [
    "cb_model.save_model('catboost_model.bin')"
   ]
  },
  {
   "cell_type": "code",
   "execution_count": 19,
   "id": "476eabc2-31eb-4c25-a136-02789ee080b6",
   "metadata": {},
   "outputs": [],
   "source": [
    "candidates_for_train.reset_index(drop=True).to_parquet('./candidates_for_train.parquet')"
   ]
  },
  {
   "cell_type": "markdown",
   "id": "4de5e001-9fc5-48b3-9bb7-038f211e24db",
   "metadata": {},
   "source": [
    "***Сброс ядра kernel***"
   ]
  },
  {
   "cell_type": "code",
   "execution_count": 20,
   "id": "000fe2a5-cacc-4802-a590-028ec488f8c5",
   "metadata": {},
   "outputs": [],
   "source": [
    "# загружаем рекомендации от двух базовых генераторов\n",
    "als_recommendations_2 = pd.read_parquet(\"./als_recommendations.parquet\")\n",
    "content_recommendations_2 = pd.read_parquet(\"./content_recommendations.parquet\")"
   ]
  },
  {
   "cell_type": "code",
   "execution_count": 21,
   "id": "99b6503b-0fb7-441f-8198-cccf06eb9636",
   "metadata": {},
   "outputs": [],
   "source": [
    "candidates_to_rank = pd.merge(\n",
    "    als_recommendations_2[[\"user_id\", \"item_id\", \"score\"]].rename(columns={\"score\": \"als_score\"}),\n",
    "    content_recommendations_2[[\"user_id\", \"item_id\", \"score\"]].rename(columns={\"score\": \"cnt_score\"}),\n",
    "    on=('user_id', 'item_id'),\n",
    "    how=\"outer\")"
   ]
  },
  {
   "cell_type": "markdown",
   "id": "a60a5d6b",
   "metadata": {},
   "source": [
    "<div class=\"alert alert-success\" style=\"border-radius: 15px; box-shadow: 4px 4px 4px; border: 1px solid \">\n",
    "<b> Комментарий ревьюера  ✔️</b>\n",
    "    \n",
    "Твой код работает с большими таблицами, при этом используется метод `merge` с `how='outer'`, который может быть довольно медленным. В случае, если в будущих проектах данных будет очень много, можно рассмотреть использование оптимизированных библиотек для обработки больших объемов данных, таких как `Dask`,`polars`.\n",
    "</div>\n",
    "\n"
   ]
  },
  {
   "cell_type": "code",
   "execution_count": 291,
   "id": "c52c12ec-9f2a-45eb-a8b3-caa7c7cf6681",
   "metadata": {},
   "outputs": [
    {
     "data": {
      "text/html": [
       "<div>\n",
       "<style scoped>\n",
       "    .dataframe tbody tr th:only-of-type {\n",
       "        vertical-align: middle;\n",
       "    }\n",
       "\n",
       "    .dataframe tbody tr th {\n",
       "        vertical-align: top;\n",
       "    }\n",
       "\n",
       "    .dataframe thead th {\n",
       "        text-align: right;\n",
       "    }\n",
       "</style>\n",
       "<table border=\"1\" class=\"dataframe\">\n",
       "  <thead>\n",
       "    <tr style=\"text-align: right;\">\n",
       "      <th></th>\n",
       "      <th>user_id</th>\n",
       "      <th>item_id</th>\n",
       "      <th>als_score</th>\n",
       "      <th>cnt_score</th>\n",
       "    </tr>\n",
       "  </thead>\n",
       "  <tbody>\n",
       "    <tr>\n",
       "      <th>0</th>\n",
       "      <td>1</td>\n",
       "      <td>28535690</td>\n",
       "      <td>0.000177</td>\n",
       "      <td>NaN</td>\n",
       "    </tr>\n",
       "    <tr>\n",
       "      <th>1</th>\n",
       "      <td>1</td>\n",
       "      <td>28952086</td>\n",
       "      <td>0.000171</td>\n",
       "      <td>NaN</td>\n",
       "    </tr>\n",
       "    <tr>\n",
       "      <th>2</th>\n",
       "      <td>1</td>\n",
       "      <td>28952087</td>\n",
       "      <td>0.000168</td>\n",
       "      <td>NaN</td>\n",
       "    </tr>\n",
       "    <tr>\n",
       "      <th>3</th>\n",
       "      <td>1</td>\n",
       "      <td>28535699</td>\n",
       "      <td>0.000168</td>\n",
       "      <td>NaN</td>\n",
       "    </tr>\n",
       "    <tr>\n",
       "      <th>4</th>\n",
       "      <td>1</td>\n",
       "      <td>28535693</td>\n",
       "      <td>0.000168</td>\n",
       "      <td>NaN</td>\n",
       "    </tr>\n",
       "    <tr>\n",
       "      <th>...</th>\n",
       "      <td>...</td>\n",
       "      <td>...</td>\n",
       "      <td>...</td>\n",
       "      <td>...</td>\n",
       "    </tr>\n",
       "    <tr>\n",
       "      <th>6142335</th>\n",
       "      <td>1374510</td>\n",
       "      <td>42614460</td>\n",
       "      <td>NaN</td>\n",
       "      <td>0.967224</td>\n",
       "    </tr>\n",
       "    <tr>\n",
       "      <th>6142336</th>\n",
       "      <td>1374545</td>\n",
       "      <td>58594312</td>\n",
       "      <td>NaN</td>\n",
       "      <td>0.993502</td>\n",
       "    </tr>\n",
       "    <tr>\n",
       "      <th>6142337</th>\n",
       "      <td>1374557</td>\n",
       "      <td>35183645</td>\n",
       "      <td>NaN</td>\n",
       "      <td>0.994324</td>\n",
       "    </tr>\n",
       "    <tr>\n",
       "      <th>6142338</th>\n",
       "      <td>1374570</td>\n",
       "      <td>770164</td>\n",
       "      <td>NaN</td>\n",
       "      <td>1.000000</td>\n",
       "    </tr>\n",
       "    <tr>\n",
       "      <th>6142339</th>\n",
       "      <td>1374570</td>\n",
       "      <td>770164</td>\n",
       "      <td>NaN</td>\n",
       "      <td>1.000000</td>\n",
       "    </tr>\n",
       "  </tbody>\n",
       "</table>\n",
       "<p>6142340 rows × 4 columns</p>\n",
       "</div>"
      ],
      "text/plain": [
       "         user_id   item_id  als_score  cnt_score\n",
       "0              1  28535690   0.000177        NaN\n",
       "1              1  28952086   0.000171        NaN\n",
       "2              1  28952087   0.000168        NaN\n",
       "3              1  28535699   0.000168        NaN\n",
       "4              1  28535693   0.000168        NaN\n",
       "...          ...       ...        ...        ...\n",
       "6142335  1374510  42614460        NaN   0.967224\n",
       "6142336  1374545  58594312        NaN   0.993502\n",
       "6142337  1374557  35183645        NaN   0.994324\n",
       "6142338  1374570    770164        NaN   1.000000\n",
       "6142339  1374570    770164        NaN   1.000000\n",
       "\n",
       "[6142340 rows x 4 columns]"
      ]
     },
     "execution_count": 291,
     "metadata": {},
     "output_type": "execute_result"
    }
   ],
   "source": [
    "candidates_to_rank"
   ]
  },
  {
   "cell_type": "code",
   "execution_count": 22,
   "id": "937387ad-dff7-4748-8607-1dd833a0c68e",
   "metadata": {},
   "outputs": [],
   "source": [
    "events_test_2 = pd.read_parquet('./events_test_2.parquet')"
   ]
  },
  {
   "cell_type": "code",
   "execution_count": 23,
   "id": "c89d4c0e-7e05-4f0a-a9a8-eb5c8b7de158",
   "metadata": {},
   "outputs": [
    {
     "name": "stdout",
     "output_type": "stream",
     "text": [
      "2539031\n"
     ]
    }
   ],
   "source": [
    "# оставляем только тех пользователей, что есть в тестовой выборке, для экономии ресурсов\n",
    "candidates_to_rank = candidates_to_rank[candidates_to_rank[\"user_id\"].isin(events_test_2[\"user_id\"].drop_duplicates())]\n",
    "print(len(candidates_to_rank))"
   ]
  },
  {
   "cell_type": "code",
   "execution_count": 294,
   "id": "298f42f6-b00e-464b-bd82-acf51ecdeb80",
   "metadata": {},
   "outputs": [
    {
     "data": {
      "text/html": [
       "<div>\n",
       "<style scoped>\n",
       "    .dataframe tbody tr th:only-of-type {\n",
       "        vertical-align: middle;\n",
       "    }\n",
       "\n",
       "    .dataframe tbody tr th {\n",
       "        vertical-align: top;\n",
       "    }\n",
       "\n",
       "    .dataframe thead th {\n",
       "        text-align: right;\n",
       "    }\n",
       "</style>\n",
       "<table border=\"1\" class=\"dataframe\">\n",
       "  <thead>\n",
       "    <tr style=\"text-align: right;\">\n",
       "      <th></th>\n",
       "      <th>user_id</th>\n",
       "      <th>item_id</th>\n",
       "      <th>als_score</th>\n",
       "      <th>cnt_score</th>\n",
       "    </tr>\n",
       "  </thead>\n",
       "  <tbody>\n",
       "    <tr>\n",
       "      <th>5</th>\n",
       "      <td>4</td>\n",
       "      <td>1444979</td>\n",
       "      <td>0.000419</td>\n",
       "      <td>NaN</td>\n",
       "    </tr>\n",
       "    <tr>\n",
       "      <th>6</th>\n",
       "      <td>4</td>\n",
       "      <td>19178160</td>\n",
       "      <td>0.000416</td>\n",
       "      <td>NaN</td>\n",
       "    </tr>\n",
       "    <tr>\n",
       "      <th>7</th>\n",
       "      <td>4</td>\n",
       "      <td>17368498</td>\n",
       "      <td>0.000413</td>\n",
       "      <td>NaN</td>\n",
       "    </tr>\n",
       "    <tr>\n",
       "      <th>8</th>\n",
       "      <td>4</td>\n",
       "      <td>1132410</td>\n",
       "      <td>0.000410</td>\n",
       "      <td>NaN</td>\n",
       "    </tr>\n",
       "    <tr>\n",
       "      <th>9</th>\n",
       "      <td>4</td>\n",
       "      <td>444542</td>\n",
       "      <td>0.000409</td>\n",
       "      <td>NaN</td>\n",
       "    </tr>\n",
       "    <tr>\n",
       "      <th>...</th>\n",
       "      <td>...</td>\n",
       "      <td>...</td>\n",
       "      <td>...</td>\n",
       "      <td>...</td>\n",
       "    </tr>\n",
       "    <tr>\n",
       "      <th>6142333</th>\n",
       "      <td>1374460</td>\n",
       "      <td>128888</td>\n",
       "      <td>NaN</td>\n",
       "      <td>1.000000</td>\n",
       "    </tr>\n",
       "    <tr>\n",
       "      <th>6142334</th>\n",
       "      <td>1374483</td>\n",
       "      <td>71435163</td>\n",
       "      <td>NaN</td>\n",
       "      <td>0.990910</td>\n",
       "    </tr>\n",
       "    <tr>\n",
       "      <th>6142335</th>\n",
       "      <td>1374510</td>\n",
       "      <td>42614460</td>\n",
       "      <td>NaN</td>\n",
       "      <td>0.967224</td>\n",
       "    </tr>\n",
       "    <tr>\n",
       "      <th>6142336</th>\n",
       "      <td>1374545</td>\n",
       "      <td>58594312</td>\n",
       "      <td>NaN</td>\n",
       "      <td>0.993502</td>\n",
       "    </tr>\n",
       "    <tr>\n",
       "      <th>6142337</th>\n",
       "      <td>1374557</td>\n",
       "      <td>35183645</td>\n",
       "      <td>NaN</td>\n",
       "      <td>0.994324</td>\n",
       "    </tr>\n",
       "  </tbody>\n",
       "</table>\n",
       "<p>2539031 rows × 4 columns</p>\n",
       "</div>"
      ],
      "text/plain": [
       "         user_id   item_id  als_score  cnt_score\n",
       "5              4   1444979   0.000419        NaN\n",
       "6              4  19178160   0.000416        NaN\n",
       "7              4  17368498   0.000413        NaN\n",
       "8              4   1132410   0.000410        NaN\n",
       "9              4    444542   0.000409        NaN\n",
       "...          ...       ...        ...        ...\n",
       "6142333  1374460    128888        NaN   1.000000\n",
       "6142334  1374483  71435163        NaN   0.990910\n",
       "6142335  1374510  42614460        NaN   0.967224\n",
       "6142336  1374545  58594312        NaN   0.993502\n",
       "6142337  1374557  35183645        NaN   0.994324\n",
       "\n",
       "[2539031 rows x 4 columns]"
      ]
     },
     "execution_count": 294,
     "metadata": {},
     "output_type": "execute_result"
    }
   ],
   "source": [
    "candidates_to_rank"
   ]
  },
  {
   "cell_type": "code",
   "execution_count": 24,
   "id": "7ad5a8be-45fc-453f-8a2a-1738ba4204c4",
   "metadata": {},
   "outputs": [],
   "source": [
    "candidates_to_rank.reset_index(drop=True).to_parquet('./candidates_to_rank.parquet')"
   ]
  },
  {
   "cell_type": "markdown",
   "id": "905f212a-a509-4f04-ace6-e4044b98284f",
   "metadata": {},
   "source": [
    "### Ранжирование кандидатов для рекомендаций без доп признаков"
   ]
  },
  {
   "cell_type": "code",
   "execution_count": 296,
   "id": "ce1cd6b4-d9dc-4479-978d-6a8ff5cf075c",
   "metadata": {},
   "outputs": [
    {
     "data": {
      "text/plain": [
       "<catboost.core.CatBoostClassifier at 0x7fb92c0f4130>"
      ]
     },
     "execution_count": 296,
     "metadata": {},
     "output_type": "execute_result"
    }
   ],
   "source": [
    "# Загрузка модели\n",
    "cb_model = CatBoostClassifier()\n",
    "cb_model.load_model('catboost_model.bin')"
   ]
  },
  {
   "cell_type": "code",
   "execution_count": 297,
   "id": "c33e45b4-c382-4e38-be2f-8c5afe7f6ed4",
   "metadata": {},
   "outputs": [],
   "source": [
    "# задаём имена колонок признаков и таргета\n",
    "features = ['als_score', 'cnt_score']\n",
    "target = 'target'"
   ]
  },
  {
   "cell_type": "code",
   "execution_count": 298,
   "id": "a364fca7-faf6-4f0b-9ed6-2419cfb46032",
   "metadata": {
    "scrolled": true
   },
   "outputs": [
    {
     "name": "stderr",
     "output_type": "stream",
     "text": [
      "/tmp/ipykernel_2117/487300833.py:4: SettingWithCopyWarning: \n",
      "A value is trying to be set on a copy of a slice from a DataFrame.\n",
      "Try using .loc[row_indexer,col_indexer] = value instead\n",
      "\n",
      "See the caveats in the documentation: https://pandas.pydata.org/pandas-docs/stable/user_guide/indexing.html#returning-a-view-versus-a-copy\n",
      "  candidates_to_rank[\"cb_score\"] = predictions[:, 1]\n"
     ]
    }
   ],
   "source": [
    "inference_data = Pool(data=candidates_to_rank[features])\n",
    "predictions = cb_model.predict_proba(inference_data)\n",
    "\n",
    "candidates_to_rank[\"cb_score\"] = predictions[:, 1]"
   ]
  },
  {
   "cell_type": "code",
   "execution_count": 299,
   "id": "b3e91fd7-ebfd-4b90-ad88-cedeb209fce6",
   "metadata": {},
   "outputs": [
    {
     "data": {
      "text/html": [
       "<div>\n",
       "<style scoped>\n",
       "    .dataframe tbody tr th:only-of-type {\n",
       "        vertical-align: middle;\n",
       "    }\n",
       "\n",
       "    .dataframe tbody tr th {\n",
       "        vertical-align: top;\n",
       "    }\n",
       "\n",
       "    .dataframe thead th {\n",
       "        text-align: right;\n",
       "    }\n",
       "</style>\n",
       "<table border=\"1\" class=\"dataframe\">\n",
       "  <thead>\n",
       "    <tr style=\"text-align: right;\">\n",
       "      <th></th>\n",
       "      <th>user_id</th>\n",
       "      <th>item_id</th>\n",
       "      <th>als_score</th>\n",
       "      <th>cnt_score</th>\n",
       "      <th>cb_score</th>\n",
       "    </tr>\n",
       "  </thead>\n",
       "  <tbody>\n",
       "    <tr>\n",
       "      <th>5</th>\n",
       "      <td>4</td>\n",
       "      <td>1444979</td>\n",
       "      <td>0.000419</td>\n",
       "      <td>NaN</td>\n",
       "      <td>6.765834e-07</td>\n",
       "    </tr>\n",
       "    <tr>\n",
       "      <th>6</th>\n",
       "      <td>4</td>\n",
       "      <td>19178160</td>\n",
       "      <td>0.000416</td>\n",
       "      <td>NaN</td>\n",
       "      <td>6.765834e-07</td>\n",
       "    </tr>\n",
       "    <tr>\n",
       "      <th>7</th>\n",
       "      <td>4</td>\n",
       "      <td>17368498</td>\n",
       "      <td>0.000413</td>\n",
       "      <td>NaN</td>\n",
       "      <td>6.765834e-07</td>\n",
       "    </tr>\n",
       "    <tr>\n",
       "      <th>8</th>\n",
       "      <td>4</td>\n",
       "      <td>1132410</td>\n",
       "      <td>0.000410</td>\n",
       "      <td>NaN</td>\n",
       "      <td>6.765834e-07</td>\n",
       "    </tr>\n",
       "    <tr>\n",
       "      <th>9</th>\n",
       "      <td>4</td>\n",
       "      <td>444542</td>\n",
       "      <td>0.000409</td>\n",
       "      <td>NaN</td>\n",
       "      <td>6.765834e-07</td>\n",
       "    </tr>\n",
       "    <tr>\n",
       "      <th>...</th>\n",
       "      <td>...</td>\n",
       "      <td>...</td>\n",
       "      <td>...</td>\n",
       "      <td>...</td>\n",
       "      <td>...</td>\n",
       "    </tr>\n",
       "    <tr>\n",
       "      <th>6142333</th>\n",
       "      <td>1374460</td>\n",
       "      <td>128888</td>\n",
       "      <td>NaN</td>\n",
       "      <td>1.000000</td>\n",
       "      <td>8.327883e-01</td>\n",
       "    </tr>\n",
       "    <tr>\n",
       "      <th>6142334</th>\n",
       "      <td>1374483</td>\n",
       "      <td>71435163</td>\n",
       "      <td>NaN</td>\n",
       "      <td>0.990910</td>\n",
       "      <td>4.275665e-01</td>\n",
       "    </tr>\n",
       "    <tr>\n",
       "      <th>6142335</th>\n",
       "      <td>1374510</td>\n",
       "      <td>42614460</td>\n",
       "      <td>NaN</td>\n",
       "      <td>0.967224</td>\n",
       "      <td>2.615237e-01</td>\n",
       "    </tr>\n",
       "    <tr>\n",
       "      <th>6142336</th>\n",
       "      <td>1374545</td>\n",
       "      <td>58594312</td>\n",
       "      <td>NaN</td>\n",
       "      <td>0.993502</td>\n",
       "      <td>4.525607e-01</td>\n",
       "    </tr>\n",
       "    <tr>\n",
       "      <th>6142337</th>\n",
       "      <td>1374557</td>\n",
       "      <td>35183645</td>\n",
       "      <td>NaN</td>\n",
       "      <td>0.994324</td>\n",
       "      <td>4.601010e-01</td>\n",
       "    </tr>\n",
       "  </tbody>\n",
       "</table>\n",
       "<p>2539031 rows × 5 columns</p>\n",
       "</div>"
      ],
      "text/plain": [
       "         user_id   item_id  als_score  cnt_score      cb_score\n",
       "5              4   1444979   0.000419        NaN  6.765834e-07\n",
       "6              4  19178160   0.000416        NaN  6.765834e-07\n",
       "7              4  17368498   0.000413        NaN  6.765834e-07\n",
       "8              4   1132410   0.000410        NaN  6.765834e-07\n",
       "9              4    444542   0.000409        NaN  6.765834e-07\n",
       "...          ...       ...        ...        ...           ...\n",
       "6142333  1374460    128888        NaN   1.000000  8.327883e-01\n",
       "6142334  1374483  71435163        NaN   0.990910  4.275665e-01\n",
       "6142335  1374510  42614460        NaN   0.967224  2.615237e-01\n",
       "6142336  1374545  58594312        NaN   0.993502  4.525607e-01\n",
       "6142337  1374557  35183645        NaN   0.994324  4.601010e-01\n",
       "\n",
       "[2539031 rows x 5 columns]"
      ]
     },
     "execution_count": 299,
     "metadata": {},
     "output_type": "execute_result"
    }
   ],
   "source": [
    "candidates_to_rank"
   ]
  },
  {
   "cell_type": "code",
   "execution_count": 300,
   "id": "55d0b83e-b4f5-40ce-b144-c993ef54ddb0",
   "metadata": {},
   "outputs": [],
   "source": [
    "# для каждого пользователя проставляем rank, начиная с 1 — это максимальный cb_score\n",
    "candidates_to_rank = candidates_to_rank.sort_values([\"user_id\", \"cb_score\"], ascending=[True, False])"
   ]
  },
  {
   "cell_type": "code",
   "execution_count": 301,
   "id": "fa7e7598-a235-4b45-aa28-d94988063162",
   "metadata": {},
   "outputs": [
    {
     "data": {
      "text/html": [
       "<div>\n",
       "<style scoped>\n",
       "    .dataframe tbody tr th:only-of-type {\n",
       "        vertical-align: middle;\n",
       "    }\n",
       "\n",
       "    .dataframe tbody tr th {\n",
       "        vertical-align: top;\n",
       "    }\n",
       "\n",
       "    .dataframe thead th {\n",
       "        text-align: right;\n",
       "    }\n",
       "</style>\n",
       "<table border=\"1\" class=\"dataframe\">\n",
       "  <thead>\n",
       "    <tr style=\"text-align: right;\">\n",
       "      <th></th>\n",
       "      <th>user_id</th>\n",
       "      <th>item_id</th>\n",
       "      <th>als_score</th>\n",
       "      <th>cnt_score</th>\n",
       "      <th>cb_score</th>\n",
       "    </tr>\n",
       "  </thead>\n",
       "  <tbody>\n",
       "    <tr>\n",
       "      <th>1496541</th>\n",
       "      <td>4</td>\n",
       "      <td>59206785</td>\n",
       "      <td>NaN</td>\n",
       "      <td>1.0</td>\n",
       "      <td>0.857919</td>\n",
       "    </tr>\n",
       "    <tr>\n",
       "      <th>1496710</th>\n",
       "      <td>4</td>\n",
       "      <td>56822013</td>\n",
       "      <td>NaN</td>\n",
       "      <td>1.0</td>\n",
       "      <td>0.857919</td>\n",
       "    </tr>\n",
       "    <tr>\n",
       "      <th>1496542</th>\n",
       "      <td>4</td>\n",
       "      <td>59206785</td>\n",
       "      <td>NaN</td>\n",
       "      <td>1.0</td>\n",
       "      <td>0.832788</td>\n",
       "    </tr>\n",
       "    <tr>\n",
       "      <th>1496708</th>\n",
       "      <td>4</td>\n",
       "      <td>47273871</td>\n",
       "      <td>NaN</td>\n",
       "      <td>1.0</td>\n",
       "      <td>0.832788</td>\n",
       "    </tr>\n",
       "    <tr>\n",
       "      <th>1496709</th>\n",
       "      <td>4</td>\n",
       "      <td>1020042</td>\n",
       "      <td>NaN</td>\n",
       "      <td>1.0</td>\n",
       "      <td>0.832788</td>\n",
       "    </tr>\n",
       "    <tr>\n",
       "      <th>...</th>\n",
       "      <td>...</td>\n",
       "      <td>...</td>\n",
       "      <td>...</td>\n",
       "      <td>...</td>\n",
       "      <td>...</td>\n",
       "    </tr>\n",
       "    <tr>\n",
       "      <th>1496301</th>\n",
       "      <td>1374571</td>\n",
       "      <td>9352723</td>\n",
       "      <td>0.000059</td>\n",
       "      <td>NaN</td>\n",
       "      <td>0.000002</td>\n",
       "    </tr>\n",
       "    <tr>\n",
       "      <th>1496302</th>\n",
       "      <td>1374571</td>\n",
       "      <td>9352752</td>\n",
       "      <td>0.000059</td>\n",
       "      <td>NaN</td>\n",
       "      <td>0.000002</td>\n",
       "    </tr>\n",
       "    <tr>\n",
       "      <th>1496303</th>\n",
       "      <td>1374571</td>\n",
       "      <td>2277850</td>\n",
       "      <td>0.000057</td>\n",
       "      <td>NaN</td>\n",
       "      <td>0.000002</td>\n",
       "    </tr>\n",
       "    <tr>\n",
       "      <th>1496304</th>\n",
       "      <td>1374571</td>\n",
       "      <td>2277848</td>\n",
       "      <td>0.000057</td>\n",
       "      <td>NaN</td>\n",
       "      <td>0.000002</td>\n",
       "    </tr>\n",
       "    <tr>\n",
       "      <th>1496300</th>\n",
       "      <td>1374571</td>\n",
       "      <td>37151</td>\n",
       "      <td>0.000062</td>\n",
       "      <td>NaN</td>\n",
       "      <td>0.000002</td>\n",
       "    </tr>\n",
       "  </tbody>\n",
       "</table>\n",
       "<p>2539031 rows × 5 columns</p>\n",
       "</div>"
      ],
      "text/plain": [
       "         user_id   item_id  als_score  cnt_score  cb_score\n",
       "1496541        4  59206785        NaN        1.0  0.857919\n",
       "1496710        4  56822013        NaN        1.0  0.857919\n",
       "1496542        4  59206785        NaN        1.0  0.832788\n",
       "1496708        4  47273871        NaN        1.0  0.832788\n",
       "1496709        4   1020042        NaN        1.0  0.832788\n",
       "...          ...       ...        ...        ...       ...\n",
       "1496301  1374571   9352723   0.000059        NaN  0.000002\n",
       "1496302  1374571   9352752   0.000059        NaN  0.000002\n",
       "1496303  1374571   2277850   0.000057        NaN  0.000002\n",
       "1496304  1374571   2277848   0.000057        NaN  0.000002\n",
       "1496300  1374571     37151   0.000062        NaN  0.000002\n",
       "\n",
       "[2539031 rows x 5 columns]"
      ]
     },
     "execution_count": 301,
     "metadata": {},
     "output_type": "execute_result"
    }
   ],
   "source": [
    "candidates_to_rank"
   ]
  },
  {
   "cell_type": "code",
   "execution_count": 302,
   "id": "cadadcef-6793-4005-8532-63677b26b22a",
   "metadata": {},
   "outputs": [],
   "source": [
    "candidates_to_rank[\"rank\"] = candidates_to_rank.groupby(\"user_id\")[\"cb_score\"].rank(method='first', ascending=False)"
   ]
  },
  {
   "cell_type": "code",
   "execution_count": 303,
   "id": "5e83ab9b-a62e-4b03-a521-a69450ac199c",
   "metadata": {},
   "outputs": [],
   "source": [
    "max_recommendations_per_user = 100\n",
    "final_recommendations = candidates_to_rank[candidates_to_rank['rank']<=max_recommendations_per_user]"
   ]
  },
  {
   "cell_type": "code",
   "execution_count": 304,
   "id": "80d7f96d-b11a-4879-8cb8-a5e4b01816c1",
   "metadata": {},
   "outputs": [
    {
     "data": {
      "text/html": [
       "<div>\n",
       "<style scoped>\n",
       "    .dataframe tbody tr th:only-of-type {\n",
       "        vertical-align: middle;\n",
       "    }\n",
       "\n",
       "    .dataframe tbody tr th {\n",
       "        vertical-align: top;\n",
       "    }\n",
       "\n",
       "    .dataframe thead th {\n",
       "        text-align: right;\n",
       "    }\n",
       "</style>\n",
       "<table border=\"1\" class=\"dataframe\">\n",
       "  <thead>\n",
       "    <tr style=\"text-align: right;\">\n",
       "      <th></th>\n",
       "      <th>user_id</th>\n",
       "      <th>item_id</th>\n",
       "      <th>als_score</th>\n",
       "      <th>cnt_score</th>\n",
       "      <th>cb_score</th>\n",
       "      <th>rank</th>\n",
       "    </tr>\n",
       "  </thead>\n",
       "  <tbody>\n",
       "    <tr>\n",
       "      <th>1496541</th>\n",
       "      <td>4</td>\n",
       "      <td>59206785</td>\n",
       "      <td>NaN</td>\n",
       "      <td>1.0</td>\n",
       "      <td>0.857919</td>\n",
       "      <td>1.0</td>\n",
       "    </tr>\n",
       "    <tr>\n",
       "      <th>1496710</th>\n",
       "      <td>4</td>\n",
       "      <td>56822013</td>\n",
       "      <td>NaN</td>\n",
       "      <td>1.0</td>\n",
       "      <td>0.857919</td>\n",
       "      <td>2.0</td>\n",
       "    </tr>\n",
       "    <tr>\n",
       "      <th>1496542</th>\n",
       "      <td>4</td>\n",
       "      <td>59206785</td>\n",
       "      <td>NaN</td>\n",
       "      <td>1.0</td>\n",
       "      <td>0.832788</td>\n",
       "      <td>3.0</td>\n",
       "    </tr>\n",
       "    <tr>\n",
       "      <th>1496708</th>\n",
       "      <td>4</td>\n",
       "      <td>47273871</td>\n",
       "      <td>NaN</td>\n",
       "      <td>1.0</td>\n",
       "      <td>0.832788</td>\n",
       "      <td>4.0</td>\n",
       "    </tr>\n",
       "    <tr>\n",
       "      <th>1496709</th>\n",
       "      <td>4</td>\n",
       "      <td>1020042</td>\n",
       "      <td>NaN</td>\n",
       "      <td>1.0</td>\n",
       "      <td>0.832788</td>\n",
       "      <td>5.0</td>\n",
       "    </tr>\n",
       "    <tr>\n",
       "      <th>...</th>\n",
       "      <td>...</td>\n",
       "      <td>...</td>\n",
       "      <td>...</td>\n",
       "      <td>...</td>\n",
       "      <td>...</td>\n",
       "      <td>...</td>\n",
       "    </tr>\n",
       "    <tr>\n",
       "      <th>1496301</th>\n",
       "      <td>1374571</td>\n",
       "      <td>9352723</td>\n",
       "      <td>0.000059</td>\n",
       "      <td>NaN</td>\n",
       "      <td>0.000002</td>\n",
       "      <td>10.0</td>\n",
       "    </tr>\n",
       "    <tr>\n",
       "      <th>1496302</th>\n",
       "      <td>1374571</td>\n",
       "      <td>9352752</td>\n",
       "      <td>0.000059</td>\n",
       "      <td>NaN</td>\n",
       "      <td>0.000002</td>\n",
       "      <td>11.0</td>\n",
       "    </tr>\n",
       "    <tr>\n",
       "      <th>1496303</th>\n",
       "      <td>1374571</td>\n",
       "      <td>2277850</td>\n",
       "      <td>0.000057</td>\n",
       "      <td>NaN</td>\n",
       "      <td>0.000002</td>\n",
       "      <td>12.0</td>\n",
       "    </tr>\n",
       "    <tr>\n",
       "      <th>1496304</th>\n",
       "      <td>1374571</td>\n",
       "      <td>2277848</td>\n",
       "      <td>0.000057</td>\n",
       "      <td>NaN</td>\n",
       "      <td>0.000002</td>\n",
       "      <td>13.0</td>\n",
       "    </tr>\n",
       "    <tr>\n",
       "      <th>1496300</th>\n",
       "      <td>1374571</td>\n",
       "      <td>37151</td>\n",
       "      <td>0.000062</td>\n",
       "      <td>NaN</td>\n",
       "      <td>0.000002</td>\n",
       "      <td>14.0</td>\n",
       "    </tr>\n",
       "  </tbody>\n",
       "</table>\n",
       "<p>2539031 rows × 6 columns</p>\n",
       "</div>"
      ],
      "text/plain": [
       "         user_id   item_id  als_score  cnt_score  cb_score  rank\n",
       "1496541        4  59206785        NaN        1.0  0.857919   1.0\n",
       "1496710        4  56822013        NaN        1.0  0.857919   2.0\n",
       "1496542        4  59206785        NaN        1.0  0.832788   3.0\n",
       "1496708        4  47273871        NaN        1.0  0.832788   4.0\n",
       "1496709        4   1020042        NaN        1.0  0.832788   5.0\n",
       "...          ...       ...        ...        ...       ...   ...\n",
       "1496301  1374571   9352723   0.000059        NaN  0.000002  10.0\n",
       "1496302  1374571   9352752   0.000059        NaN  0.000002  11.0\n",
       "1496303  1374571   2277850   0.000057        NaN  0.000002  12.0\n",
       "1496304  1374571   2277848   0.000057        NaN  0.000002  13.0\n",
       "1496300  1374571     37151   0.000062        NaN  0.000002  14.0\n",
       "\n",
       "[2539031 rows x 6 columns]"
      ]
     },
     "execution_count": 304,
     "metadata": {},
     "output_type": "execute_result"
    }
   ],
   "source": [
    "final_recommendations"
   ]
  },
  {
   "cell_type": "code",
   "execution_count": 2,
   "id": "1f0f8dde-4080-417e-a055-2c08184d8e59",
   "metadata": {},
   "outputs": [
    {
     "ename": "NameError",
     "evalue": "name 'final_recommendations' is not defined",
     "output_type": "error",
     "traceback": [
      "\u001b[0;31m---------------------------------------------------------------------------\u001b[0m",
      "\u001b[0;31mNameError\u001b[0m                                 Traceback (most recent call last)",
      "Cell \u001b[0;32mIn[2], line 1\u001b[0m\n\u001b[0;32m----> 1\u001b[0m \u001b[43mfinal_recommendations\u001b[49m\u001b[38;5;241m.\u001b[39mreset_index(drop\u001b[38;5;241m=\u001b[39m\u001b[38;5;28;01mTrue\u001b[39;00m)\u001b[38;5;241m.\u001b[39mto_parquet(\u001b[38;5;124m'\u001b[39m\u001b[38;5;124m./recommendations.parquet\u001b[39m\u001b[38;5;124m'\u001b[39m)\n",
      "\u001b[0;31mNameError\u001b[0m: name 'final_recommendations' is not defined"
     ]
    }
   ],
   "source": [
    "final_recommendations.reset_index(drop=True).to_parquet('./recommendations.parquet')"
   ]
  },
  {
   "cell_type": "markdown",
   "id": "3de533fd-f28b-444b-afb1-fecc53245a82",
   "metadata": {},
   "source": [
    "## Ранжирование кандидатов для рекомендаций с доп признаками"
   ]
  },
  {
   "cell_type": "code",
   "execution_count": 3,
   "id": "ce2bd913-8616-4bc4-b68b-81bd1d5bb484",
   "metadata": {},
   "outputs": [],
   "source": [
    "items = pd.read_parquet(\"./items.parquet\")\n",
    "events = pd.read_parquet(\"./events.parquet\")\n",
    "catalog = pd.read_parquet(\"./catalog_names.parquet\")"
   ]
  },
  {
   "cell_type": "code",
   "execution_count": 89,
   "id": "639f79d8-09ae-48d7-b1a4-e06165ee5b57",
   "metadata": {},
   "outputs": [],
   "source": [
    "candidates_for_train = pd.read_parquet(\"./candidates_for_train.parquet\")\n",
    "candidates_to_rank = pd.read_parquet(\"./candidates_to_rank.parquet\")"
   ]
  },
  {
   "cell_type": "markdown",
   "id": "361db5f1-dc15-435f-9551-ce1d2d99418b",
   "metadata": {},
   "source": [
    "### Построение признаков"
   ]
  },
  {
   "cell_type": "markdown",
   "id": "75a778f8-4ed7-4568-b594-20c7e80403a0",
   "metadata": {},
   "source": [
    "#### Добавление признаков по пользователю"
   ]
  },
  {
   "cell_type": "code",
   "execution_count": 61,
   "id": "23f63479-2e24-40cf-bd01-88f5904d2e43",
   "metadata": {},
   "outputs": [
    {
     "data": {
      "text/html": [
       "<div>\n",
       "<style scoped>\n",
       "    .dataframe tbody tr th:only-of-type {\n",
       "        vertical-align: middle;\n",
       "    }\n",
       "\n",
       "    .dataframe tbody tr th {\n",
       "        vertical-align: top;\n",
       "    }\n",
       "\n",
       "    .dataframe thead th {\n",
       "        text-align: right;\n",
       "    }\n",
       "</style>\n",
       "<table border=\"1\" class=\"dataframe\">\n",
       "  <thead>\n",
       "    <tr style=\"text-align: right;\">\n",
       "      <th></th>\n",
       "      <th>user_id</th>\n",
       "      <th>item_id</th>\n",
       "      <th>track_seq</th>\n",
       "      <th>started_at</th>\n",
       "    </tr>\n",
       "  </thead>\n",
       "  <tbody>\n",
       "    <tr>\n",
       "      <th>1</th>\n",
       "      <td>1</td>\n",
       "      <td>108208</td>\n",
       "      <td>2</td>\n",
       "      <td>2022-06-13</td>\n",
       "    </tr>\n",
       "    <tr>\n",
       "      <th>15</th>\n",
       "      <td>1</td>\n",
       "      <td>34685698</td>\n",
       "      <td>16</td>\n",
       "      <td>2022-07-05</td>\n",
       "    </tr>\n",
       "    <tr>\n",
       "      <th>19</th>\n",
       "      <td>1</td>\n",
       "      <td>39309368</td>\n",
       "      <td>20</td>\n",
       "      <td>2022-07-10</td>\n",
       "    </tr>\n",
       "    <tr>\n",
       "      <th>23</th>\n",
       "      <td>1</td>\n",
       "      <td>43410123</td>\n",
       "      <td>24</td>\n",
       "      <td>2022-07-15</td>\n",
       "    </tr>\n",
       "    <tr>\n",
       "      <th>24</th>\n",
       "      <td>1</td>\n",
       "      <td>44134240</td>\n",
       "      <td>25</td>\n",
       "      <td>2022-07-17</td>\n",
       "    </tr>\n",
       "    <tr>\n",
       "      <th>...</th>\n",
       "      <td>...</td>\n",
       "      <td>...</td>\n",
       "      <td>...</td>\n",
       "      <td>...</td>\n",
       "    </tr>\n",
       "    <tr>\n",
       "      <th>251</th>\n",
       "      <td>1374581</td>\n",
       "      <td>37425685</td>\n",
       "      <td>252</td>\n",
       "      <td>2022-08-23</td>\n",
       "    </tr>\n",
       "    <tr>\n",
       "      <th>279</th>\n",
       "      <td>1374581</td>\n",
       "      <td>41581568</td>\n",
       "      <td>280</td>\n",
       "      <td>2022-09-07</td>\n",
       "    </tr>\n",
       "    <tr>\n",
       "      <th>304</th>\n",
       "      <td>1374581</td>\n",
       "      <td>50570108</td>\n",
       "      <td>305</td>\n",
       "      <td>2022-09-17</td>\n",
       "    </tr>\n",
       "    <tr>\n",
       "      <th>385</th>\n",
       "      <td>1374581</td>\n",
       "      <td>64452253</td>\n",
       "      <td>386</td>\n",
       "      <td>2022-10-31</td>\n",
       "    </tr>\n",
       "    <tr>\n",
       "      <th>433</th>\n",
       "      <td>1374581</td>\n",
       "      <td>76479982</td>\n",
       "      <td>434</td>\n",
       "      <td>2022-11-22</td>\n",
       "    </tr>\n",
       "  </tbody>\n",
       "</table>\n",
       "<p>5176785 rows × 4 columns</p>\n",
       "</div>"
      ],
      "text/plain": [
       "     user_id   item_id  track_seq started_at\n",
       "1          1    108208          2 2022-06-13\n",
       "15         1  34685698         16 2022-07-05\n",
       "19         1  39309368         20 2022-07-10\n",
       "23         1  43410123         24 2022-07-15\n",
       "24         1  44134240         25 2022-07-17\n",
       "..       ...       ...        ...        ...\n",
       "251  1374581  37425685        252 2022-08-23\n",
       "279  1374581  41581568        280 2022-09-07\n",
       "304  1374581  50570108        305 2022-09-17\n",
       "385  1374581  64452253        386 2022-10-31\n",
       "433  1374581  76479982        434 2022-11-22\n",
       "\n",
       "[5176785 rows x 4 columns]"
      ]
     },
     "execution_count": 61,
     "metadata": {},
     "output_type": "execute_result"
    }
   ],
   "source": [
    "events"
   ]
  },
  {
   "cell_type": "code",
   "execution_count": 90,
   "id": "27036ca4-c2cb-4ba3-9e3a-31014df77349",
   "metadata": {},
   "outputs": [
    {
     "data": {
      "text/html": [
       "<div>\n",
       "<style scoped>\n",
       "    .dataframe tbody tr th:only-of-type {\n",
       "        vertical-align: middle;\n",
       "    }\n",
       "\n",
       "    .dataframe tbody tr th {\n",
       "        vertical-align: top;\n",
       "    }\n",
       "\n",
       "    .dataframe thead th {\n",
       "        text-align: right;\n",
       "    }\n",
       "</style>\n",
       "<table border=\"1\" class=\"dataframe\">\n",
       "  <thead>\n",
       "    <tr style=\"text-align: right;\">\n",
       "      <th></th>\n",
       "      <th>user_id</th>\n",
       "      <th>item_id</th>\n",
       "      <th>als_score</th>\n",
       "      <th>cnt_score</th>\n",
       "      <th>target</th>\n",
       "    </tr>\n",
       "  </thead>\n",
       "  <tbody>\n",
       "    <tr>\n",
       "      <th>0</th>\n",
       "      <td>219133</td>\n",
       "      <td>4191609</td>\n",
       "      <td>NaN</td>\n",
       "      <td>0.999011</td>\n",
       "      <td>1</td>\n",
       "    </tr>\n",
       "    <tr>\n",
       "      <th>1</th>\n",
       "      <td>219133</td>\n",
       "      <td>4191609</td>\n",
       "      <td>NaN</td>\n",
       "      <td>0.999675</td>\n",
       "      <td>1</td>\n",
       "    </tr>\n",
       "    <tr>\n",
       "      <th>2</th>\n",
       "      <td>1084143</td>\n",
       "      <td>4191609</td>\n",
       "      <td>NaN</td>\n",
       "      <td>0.999011</td>\n",
       "      <td>1</td>\n",
       "    </tr>\n",
       "    <tr>\n",
       "      <th>3</th>\n",
       "      <td>1084143</td>\n",
       "      <td>4191609</td>\n",
       "      <td>NaN</td>\n",
       "      <td>0.999675</td>\n",
       "      <td>1</td>\n",
       "    </tr>\n",
       "    <tr>\n",
       "      <th>4</th>\n",
       "      <td>988209</td>\n",
       "      <td>54767004</td>\n",
       "      <td>NaN</td>\n",
       "      <td>0.993707</td>\n",
       "      <td>1</td>\n",
       "    </tr>\n",
       "    <tr>\n",
       "      <th>...</th>\n",
       "      <td>...</td>\n",
       "      <td>...</td>\n",
       "      <td>...</td>\n",
       "      <td>...</td>\n",
       "      <td>...</td>\n",
       "    </tr>\n",
       "    <tr>\n",
       "      <th>292484</th>\n",
       "      <td>1374506</td>\n",
       "      <td>77362003</td>\n",
       "      <td>NaN</td>\n",
       "      <td>0.994388</td>\n",
       "      <td>0</td>\n",
       "    </tr>\n",
       "    <tr>\n",
       "      <th>292485</th>\n",
       "      <td>1374557</td>\n",
       "      <td>42015364</td>\n",
       "      <td>NaN</td>\n",
       "      <td>0.963353</td>\n",
       "      <td>0</td>\n",
       "    </tr>\n",
       "    <tr>\n",
       "      <th>292486</th>\n",
       "      <td>1374557</td>\n",
       "      <td>34234873</td>\n",
       "      <td>0.005192</td>\n",
       "      <td>NaN</td>\n",
       "      <td>0</td>\n",
       "    </tr>\n",
       "    <tr>\n",
       "      <th>292487</th>\n",
       "      <td>1374557</td>\n",
       "      <td>21780892</td>\n",
       "      <td>NaN</td>\n",
       "      <td>0.957849</td>\n",
       "      <td>0</td>\n",
       "    </tr>\n",
       "    <tr>\n",
       "      <th>292488</th>\n",
       "      <td>1374557</td>\n",
       "      <td>58683055</td>\n",
       "      <td>NaN</td>\n",
       "      <td>0.978727</td>\n",
       "      <td>0</td>\n",
       "    </tr>\n",
       "  </tbody>\n",
       "</table>\n",
       "<p>292489 rows × 5 columns</p>\n",
       "</div>"
      ],
      "text/plain": [
       "        user_id   item_id  als_score  cnt_score  target\n",
       "0        219133   4191609        NaN   0.999011       1\n",
       "1        219133   4191609        NaN   0.999675       1\n",
       "2       1084143   4191609        NaN   0.999011       1\n",
       "3       1084143   4191609        NaN   0.999675       1\n",
       "4        988209  54767004        NaN   0.993707       1\n",
       "...         ...       ...        ...        ...     ...\n",
       "292484  1374506  77362003        NaN   0.994388       0\n",
       "292485  1374557  42015364        NaN   0.963353       0\n",
       "292486  1374557  34234873   0.005192        NaN       0\n",
       "292487  1374557  21780892        NaN   0.957849       0\n",
       "292488  1374557  58683055        NaN   0.978727       0\n",
       "\n",
       "[292489 rows x 5 columns]"
      ]
     },
     "execution_count": 90,
     "metadata": {},
     "output_type": "execute_result"
    }
   ],
   "source": [
    "candidates_for_train"
   ]
  },
  {
   "cell_type": "code",
   "execution_count": 88,
   "id": "15679d80-7c4b-4f20-abe9-cc85eea87d49",
   "metadata": {},
   "outputs": [],
   "source": [
    "def get_user_features(events):\n",
    "    \"\"\" считает пользовательские признаки \"\"\"\n",
    "    \n",
    "    user_features = events.groupby(\"user_id\").agg(\n",
    "        listening_time=(\"started_at\", lambda x: (x.max()-x.min()).days),\n",
    "        tracks_listened=(\"item_id\", \"count\"),\n",
    "        max_track_seq=(\"track_seq\", lambda x: (x.max()))\n",
    "    )\n",
    "    \n",
    "    user_features[\"tracks_per_day\"] = user_features[\"tracks_listened\"] / user_features[\"listening_time\"]\n",
    "    \n",
    "    return user_features"
   ]
  },
  {
   "cell_type": "markdown",
   "id": "8167cbbf",
   "metadata": {},
   "source": [
    "<div class=\"alert alert-success\" style=\"border-radius: 15px; box-shadow: 4px 4px 4px; border: 1px solid \">\n",
    "<b> Комментарий ревьюера  ✔️</b>\n",
    "    \n",
    "Важно также обрабатывать случаи, когда у пользователя один или два трека, чтобы не было деления на ноль в `tracks_per_day`.\n",
    "</div>\n"
   ]
  },
  {
   "cell_type": "markdown",
   "id": "8b85605d-a9b6-4962-a8fb-1d3ec3aac7e0",
   "metadata": {},
   "source": [
    "Построим три признака, можно больше, для ранжирующей модели."
   ]
  },
  {
   "cell_type": "code",
   "execution_count": 91,
   "id": "64184dc7-cfbb-4da5-bf0e-59025863d53f",
   "metadata": {},
   "outputs": [],
   "source": [
    "user_features_for_train = get_user_features(events_train)\n",
    "candidates_for_train = candidates_for_train.merge(user_features_for_train, on=\"user_id\", how=\"left\")"
   ]
  },
  {
   "cell_type": "code",
   "execution_count": 92,
   "id": "88e8559e-b7e4-4917-b607-b65d19800b09",
   "metadata": {},
   "outputs": [],
   "source": [
    "candidates_for_train = candidates_for_train.merge(events[[\"user_id\", \"item_id\", \"track_seq\"]],\n",
    "                              on=('user_id', 'item_id'),\n",
    "                              how=\"left\")"
   ]
  },
  {
   "cell_type": "code",
   "execution_count": 93,
   "id": "9eab6299-e26b-41c8-aca1-45ad28753192",
   "metadata": {
    "scrolled": true
   },
   "outputs": [],
   "source": [
    "candidates_for_train['norm_track_seq'] = candidates_for_train['track_seq'] / candidates_for_train['max_track_seq']"
   ]
  },
  {
   "cell_type": "code",
   "execution_count": 94,
   "id": "a4ec3158-4f4b-4409-bee5-3ab934ef33b0",
   "metadata": {},
   "outputs": [
    {
     "data": {
      "text/html": [
       "<div>\n",
       "<style scoped>\n",
       "    .dataframe tbody tr th:only-of-type {\n",
       "        vertical-align: middle;\n",
       "    }\n",
       "\n",
       "    .dataframe tbody tr th {\n",
       "        vertical-align: top;\n",
       "    }\n",
       "\n",
       "    .dataframe thead th {\n",
       "        text-align: right;\n",
       "    }\n",
       "</style>\n",
       "<table border=\"1\" class=\"dataframe\">\n",
       "  <thead>\n",
       "    <tr style=\"text-align: right;\">\n",
       "      <th></th>\n",
       "      <th>user_id</th>\n",
       "      <th>item_id</th>\n",
       "      <th>als_score</th>\n",
       "      <th>cnt_score</th>\n",
       "      <th>target</th>\n",
       "      <th>listening_time</th>\n",
       "      <th>tracks_listened</th>\n",
       "      <th>max_track_seq</th>\n",
       "      <th>tracks_per_day</th>\n",
       "      <th>track_seq</th>\n",
       "      <th>norm_track_seq</th>\n",
       "    </tr>\n",
       "  </thead>\n",
       "  <tbody>\n",
       "    <tr>\n",
       "      <th>0</th>\n",
       "      <td>219133</td>\n",
       "      <td>4191609</td>\n",
       "      <td>NaN</td>\n",
       "      <td>0.999011</td>\n",
       "      <td>1</td>\n",
       "      <td>0.0</td>\n",
       "      <td>1.0</td>\n",
       "      <td>1.0</td>\n",
       "      <td>inf</td>\n",
       "      <td>5.0</td>\n",
       "      <td>5.000000</td>\n",
       "    </tr>\n",
       "    <tr>\n",
       "      <th>1</th>\n",
       "      <td>219133</td>\n",
       "      <td>4191609</td>\n",
       "      <td>NaN</td>\n",
       "      <td>0.999675</td>\n",
       "      <td>1</td>\n",
       "      <td>0.0</td>\n",
       "      <td>1.0</td>\n",
       "      <td>1.0</td>\n",
       "      <td>inf</td>\n",
       "      <td>5.0</td>\n",
       "      <td>5.000000</td>\n",
       "    </tr>\n",
       "    <tr>\n",
       "      <th>2</th>\n",
       "      <td>1084143</td>\n",
       "      <td>4191609</td>\n",
       "      <td>NaN</td>\n",
       "      <td>0.999011</td>\n",
       "      <td>1</td>\n",
       "      <td>NaN</td>\n",
       "      <td>NaN</td>\n",
       "      <td>NaN</td>\n",
       "      <td>NaN</td>\n",
       "      <td>5.0</td>\n",
       "      <td>NaN</td>\n",
       "    </tr>\n",
       "    <tr>\n",
       "      <th>3</th>\n",
       "      <td>1084143</td>\n",
       "      <td>4191609</td>\n",
       "      <td>NaN</td>\n",
       "      <td>0.999675</td>\n",
       "      <td>1</td>\n",
       "      <td>NaN</td>\n",
       "      <td>NaN</td>\n",
       "      <td>NaN</td>\n",
       "      <td>NaN</td>\n",
       "      <td>5.0</td>\n",
       "      <td>NaN</td>\n",
       "    </tr>\n",
       "    <tr>\n",
       "      <th>4</th>\n",
       "      <td>988209</td>\n",
       "      <td>54767004</td>\n",
       "      <td>NaN</td>\n",
       "      <td>0.993707</td>\n",
       "      <td>1</td>\n",
       "      <td>1.0</td>\n",
       "      <td>2.0</td>\n",
       "      <td>23.0</td>\n",
       "      <td>2.000000</td>\n",
       "      <td>89.0</td>\n",
       "      <td>3.869565</td>\n",
       "    </tr>\n",
       "    <tr>\n",
       "      <th>...</th>\n",
       "      <td>...</td>\n",
       "      <td>...</td>\n",
       "      <td>...</td>\n",
       "      <td>...</td>\n",
       "      <td>...</td>\n",
       "      <td>...</td>\n",
       "      <td>...</td>\n",
       "      <td>...</td>\n",
       "      <td>...</td>\n",
       "      <td>...</td>\n",
       "      <td>...</td>\n",
       "    </tr>\n",
       "    <tr>\n",
       "      <th>292484</th>\n",
       "      <td>1374506</td>\n",
       "      <td>77362003</td>\n",
       "      <td>NaN</td>\n",
       "      <td>0.994388</td>\n",
       "      <td>0</td>\n",
       "      <td>56.0</td>\n",
       "      <td>11.0</td>\n",
       "      <td>119.0</td>\n",
       "      <td>0.196429</td>\n",
       "      <td>NaN</td>\n",
       "      <td>NaN</td>\n",
       "    </tr>\n",
       "    <tr>\n",
       "      <th>292485</th>\n",
       "      <td>1374557</td>\n",
       "      <td>42015364</td>\n",
       "      <td>NaN</td>\n",
       "      <td>0.963353</td>\n",
       "      <td>0</td>\n",
       "      <td>12.0</td>\n",
       "      <td>7.0</td>\n",
       "      <td>201.0</td>\n",
       "      <td>0.583333</td>\n",
       "      <td>NaN</td>\n",
       "      <td>NaN</td>\n",
       "    </tr>\n",
       "    <tr>\n",
       "      <th>292486</th>\n",
       "      <td>1374557</td>\n",
       "      <td>34234873</td>\n",
       "      <td>0.005192</td>\n",
       "      <td>NaN</td>\n",
       "      <td>0</td>\n",
       "      <td>12.0</td>\n",
       "      <td>7.0</td>\n",
       "      <td>201.0</td>\n",
       "      <td>0.583333</td>\n",
       "      <td>NaN</td>\n",
       "      <td>NaN</td>\n",
       "    </tr>\n",
       "    <tr>\n",
       "      <th>292487</th>\n",
       "      <td>1374557</td>\n",
       "      <td>21780892</td>\n",
       "      <td>NaN</td>\n",
       "      <td>0.957849</td>\n",
       "      <td>0</td>\n",
       "      <td>12.0</td>\n",
       "      <td>7.0</td>\n",
       "      <td>201.0</td>\n",
       "      <td>0.583333</td>\n",
       "      <td>NaN</td>\n",
       "      <td>NaN</td>\n",
       "    </tr>\n",
       "    <tr>\n",
       "      <th>292488</th>\n",
       "      <td>1374557</td>\n",
       "      <td>58683055</td>\n",
       "      <td>NaN</td>\n",
       "      <td>0.978727</td>\n",
       "      <td>0</td>\n",
       "      <td>12.0</td>\n",
       "      <td>7.0</td>\n",
       "      <td>201.0</td>\n",
       "      <td>0.583333</td>\n",
       "      <td>NaN</td>\n",
       "      <td>NaN</td>\n",
       "    </tr>\n",
       "  </tbody>\n",
       "</table>\n",
       "<p>292489 rows × 11 columns</p>\n",
       "</div>"
      ],
      "text/plain": [
       "        user_id   item_id  als_score  cnt_score  target  listening_time  \\\n",
       "0        219133   4191609        NaN   0.999011       1             0.0   \n",
       "1        219133   4191609        NaN   0.999675       1             0.0   \n",
       "2       1084143   4191609        NaN   0.999011       1             NaN   \n",
       "3       1084143   4191609        NaN   0.999675       1             NaN   \n",
       "4        988209  54767004        NaN   0.993707       1             1.0   \n",
       "...         ...       ...        ...        ...     ...             ...   \n",
       "292484  1374506  77362003        NaN   0.994388       0            56.0   \n",
       "292485  1374557  42015364        NaN   0.963353       0            12.0   \n",
       "292486  1374557  34234873   0.005192        NaN       0            12.0   \n",
       "292487  1374557  21780892        NaN   0.957849       0            12.0   \n",
       "292488  1374557  58683055        NaN   0.978727       0            12.0   \n",
       "\n",
       "        tracks_listened  max_track_seq  tracks_per_day  track_seq  \\\n",
       "0                   1.0            1.0             inf        5.0   \n",
       "1                   1.0            1.0             inf        5.0   \n",
       "2                   NaN            NaN             NaN        5.0   \n",
       "3                   NaN            NaN             NaN        5.0   \n",
       "4                   2.0           23.0        2.000000       89.0   \n",
       "...                 ...            ...             ...        ...   \n",
       "292484             11.0          119.0        0.196429        NaN   \n",
       "292485              7.0          201.0        0.583333        NaN   \n",
       "292486              7.0          201.0        0.583333        NaN   \n",
       "292487              7.0          201.0        0.583333        NaN   \n",
       "292488              7.0          201.0        0.583333        NaN   \n",
       "\n",
       "        norm_track_seq  \n",
       "0             5.000000  \n",
       "1             5.000000  \n",
       "2                  NaN  \n",
       "3                  NaN  \n",
       "4             3.869565  \n",
       "...                ...  \n",
       "292484             NaN  \n",
       "292485             NaN  \n",
       "292486             NaN  \n",
       "292487             NaN  \n",
       "292488             NaN  \n",
       "\n",
       "[292489 rows x 11 columns]"
      ]
     },
     "execution_count": 94,
     "metadata": {},
     "output_type": "execute_result"
    }
   ],
   "source": [
    "candidates_for_train"
   ]
  },
  {
   "cell_type": "code",
   "execution_count": 95,
   "id": "df1416e3-b0f3-4a32-bbae-09bba223e096",
   "metadata": {},
   "outputs": [],
   "source": [
    "# оставим только тех пользователей, что есть в тесте, для экономии ресурсов\n",
    "events_inference = pd.concat([events_train, events_labels])\n",
    "events_inference = events_inference[events_inference[\"user_id\"].isin(events_test[\"user_id\"].drop_duplicates())]\n",
    "\n",
    "user_features_for_ranking = get_user_features(events_inference)\n",
    "candidates_to_rank = candidates_to_rank.merge(user_features_for_ranking, on=\"user_id\", how=\"left\")"
   ]
  },
  {
   "cell_type": "code",
   "execution_count": 99,
   "id": "37413b37-e378-4c05-b848-5060081193e0",
   "metadata": {},
   "outputs": [
    {
     "data": {
      "text/html": [
       "<div>\n",
       "<style scoped>\n",
       "    .dataframe tbody tr th:only-of-type {\n",
       "        vertical-align: middle;\n",
       "    }\n",
       "\n",
       "    .dataframe tbody tr th {\n",
       "        vertical-align: top;\n",
       "    }\n",
       "\n",
       "    .dataframe thead th {\n",
       "        text-align: right;\n",
       "    }\n",
       "</style>\n",
       "<table border=\"1\" class=\"dataframe\">\n",
       "  <thead>\n",
       "    <tr style=\"text-align: right;\">\n",
       "      <th></th>\n",
       "      <th>user_id</th>\n",
       "      <th>item_id</th>\n",
       "      <th>als_score</th>\n",
       "      <th>cnt_score</th>\n",
       "      <th>listening_time</th>\n",
       "      <th>tracks_listened</th>\n",
       "      <th>max_track_seq</th>\n",
       "      <th>tracks_per_day</th>\n",
       "      <th>track_seq</th>\n",
       "      <th>norm_track_seq</th>\n",
       "    </tr>\n",
       "  </thead>\n",
       "  <tbody>\n",
       "    <tr>\n",
       "      <th>0</th>\n",
       "      <td>4</td>\n",
       "      <td>1444979</td>\n",
       "      <td>0.000419</td>\n",
       "      <td>NaN</td>\n",
       "      <td>238.0</td>\n",
       "      <td>31.0</td>\n",
       "      <td>236.0</td>\n",
       "      <td>0.130252</td>\n",
       "      <td>NaN</td>\n",
       "      <td>NaN</td>\n",
       "    </tr>\n",
       "    <tr>\n",
       "      <th>1</th>\n",
       "      <td>4</td>\n",
       "      <td>19178160</td>\n",
       "      <td>0.000416</td>\n",
       "      <td>NaN</td>\n",
       "      <td>238.0</td>\n",
       "      <td>31.0</td>\n",
       "      <td>236.0</td>\n",
       "      <td>0.130252</td>\n",
       "      <td>NaN</td>\n",
       "      <td>NaN</td>\n",
       "    </tr>\n",
       "    <tr>\n",
       "      <th>2</th>\n",
       "      <td>4</td>\n",
       "      <td>17368498</td>\n",
       "      <td>0.000413</td>\n",
       "      <td>NaN</td>\n",
       "      <td>238.0</td>\n",
       "      <td>31.0</td>\n",
       "      <td>236.0</td>\n",
       "      <td>0.130252</td>\n",
       "      <td>NaN</td>\n",
       "      <td>NaN</td>\n",
       "    </tr>\n",
       "    <tr>\n",
       "      <th>3</th>\n",
       "      <td>4</td>\n",
       "      <td>1132410</td>\n",
       "      <td>0.000410</td>\n",
       "      <td>NaN</td>\n",
       "      <td>238.0</td>\n",
       "      <td>31.0</td>\n",
       "      <td>236.0</td>\n",
       "      <td>0.130252</td>\n",
       "      <td>NaN</td>\n",
       "      <td>NaN</td>\n",
       "    </tr>\n",
       "    <tr>\n",
       "      <th>4</th>\n",
       "      <td>4</td>\n",
       "      <td>444542</td>\n",
       "      <td>0.000409</td>\n",
       "      <td>NaN</td>\n",
       "      <td>238.0</td>\n",
       "      <td>31.0</td>\n",
       "      <td>236.0</td>\n",
       "      <td>0.130252</td>\n",
       "      <td>NaN</td>\n",
       "      <td>NaN</td>\n",
       "    </tr>\n",
       "    <tr>\n",
       "      <th>...</th>\n",
       "      <td>...</td>\n",
       "      <td>...</td>\n",
       "      <td>...</td>\n",
       "      <td>...</td>\n",
       "      <td>...</td>\n",
       "      <td>...</td>\n",
       "      <td>...</td>\n",
       "      <td>...</td>\n",
       "      <td>...</td>\n",
       "      <td>...</td>\n",
       "    </tr>\n",
       "    <tr>\n",
       "      <th>2539026</th>\n",
       "      <td>1374460</td>\n",
       "      <td>128888</td>\n",
       "      <td>NaN</td>\n",
       "      <td>1.000000</td>\n",
       "      <td>62.0</td>\n",
       "      <td>19.0</td>\n",
       "      <td>27.0</td>\n",
       "      <td>0.306452</td>\n",
       "      <td>5.0</td>\n",
       "      <td>0.185185</td>\n",
       "    </tr>\n",
       "    <tr>\n",
       "      <th>2539027</th>\n",
       "      <td>1374483</td>\n",
       "      <td>71435163</td>\n",
       "      <td>NaN</td>\n",
       "      <td>0.990910</td>\n",
       "      <td>56.0</td>\n",
       "      <td>12.0</td>\n",
       "      <td>31.0</td>\n",
       "      <td>0.214286</td>\n",
       "      <td>NaN</td>\n",
       "      <td>NaN</td>\n",
       "    </tr>\n",
       "    <tr>\n",
       "      <th>2539028</th>\n",
       "      <td>1374510</td>\n",
       "      <td>42614460</td>\n",
       "      <td>NaN</td>\n",
       "      <td>0.967224</td>\n",
       "      <td>208.0</td>\n",
       "      <td>30.0</td>\n",
       "      <td>831.0</td>\n",
       "      <td>0.144231</td>\n",
       "      <td>NaN</td>\n",
       "      <td>NaN</td>\n",
       "    </tr>\n",
       "    <tr>\n",
       "      <th>2539029</th>\n",
       "      <td>1374545</td>\n",
       "      <td>58594312</td>\n",
       "      <td>NaN</td>\n",
       "      <td>0.993502</td>\n",
       "      <td>87.0</td>\n",
       "      <td>7.0</td>\n",
       "      <td>11.0</td>\n",
       "      <td>0.080460</td>\n",
       "      <td>NaN</td>\n",
       "      <td>NaN</td>\n",
       "    </tr>\n",
       "    <tr>\n",
       "      <th>2539030</th>\n",
       "      <td>1374557</td>\n",
       "      <td>35183645</td>\n",
       "      <td>NaN</td>\n",
       "      <td>0.994324</td>\n",
       "      <td>45.0</td>\n",
       "      <td>16.0</td>\n",
       "      <td>483.0</td>\n",
       "      <td>0.355556</td>\n",
       "      <td>466.0</td>\n",
       "      <td>0.964803</td>\n",
       "    </tr>\n",
       "  </tbody>\n",
       "</table>\n",
       "<p>2539031 rows × 10 columns</p>\n",
       "</div>"
      ],
      "text/plain": [
       "         user_id   item_id  als_score  cnt_score  listening_time  \\\n",
       "0              4   1444979   0.000419        NaN           238.0   \n",
       "1              4  19178160   0.000416        NaN           238.0   \n",
       "2              4  17368498   0.000413        NaN           238.0   \n",
       "3              4   1132410   0.000410        NaN           238.0   \n",
       "4              4    444542   0.000409        NaN           238.0   \n",
       "...          ...       ...        ...        ...             ...   \n",
       "2539026  1374460    128888        NaN   1.000000            62.0   \n",
       "2539027  1374483  71435163        NaN   0.990910            56.0   \n",
       "2539028  1374510  42614460        NaN   0.967224           208.0   \n",
       "2539029  1374545  58594312        NaN   0.993502            87.0   \n",
       "2539030  1374557  35183645        NaN   0.994324            45.0   \n",
       "\n",
       "         tracks_listened  max_track_seq  tracks_per_day  track_seq  \\\n",
       "0                   31.0          236.0        0.130252        NaN   \n",
       "1                   31.0          236.0        0.130252        NaN   \n",
       "2                   31.0          236.0        0.130252        NaN   \n",
       "3                   31.0          236.0        0.130252        NaN   \n",
       "4                   31.0          236.0        0.130252        NaN   \n",
       "...                  ...            ...             ...        ...   \n",
       "2539026             19.0           27.0        0.306452        5.0   \n",
       "2539027             12.0           31.0        0.214286        NaN   \n",
       "2539028             30.0          831.0        0.144231        NaN   \n",
       "2539029              7.0           11.0        0.080460        NaN   \n",
       "2539030             16.0          483.0        0.355556      466.0   \n",
       "\n",
       "         norm_track_seq  \n",
       "0                   NaN  \n",
       "1                   NaN  \n",
       "2                   NaN  \n",
       "3                   NaN  \n",
       "4                   NaN  \n",
       "...                 ...  \n",
       "2539026        0.185185  \n",
       "2539027             NaN  \n",
       "2539028             NaN  \n",
       "2539029             NaN  \n",
       "2539030        0.964803  \n",
       "\n",
       "[2539031 rows x 10 columns]"
      ]
     },
     "execution_count": 99,
     "metadata": {},
     "output_type": "execute_result"
    }
   ],
   "source": [
    "candidates_to_rank = candidates_to_rank.merge(events[[\"user_id\", \"item_id\", \"track_seq\"]],\n",
    "                              on=('user_id', 'item_id'),\n",
    "                              how=\"left\")\n",
    "candidates_to_rank['norm_track_seq'] = candidates_to_rank['track_seq'] / candidates_to_rank['max_track_seq']\n",
    "candidates_to_rank"
   ]
  },
  {
   "cell_type": "markdown",
   "id": "e859d01d-d31d-49f2-8cec-ea642ebaf7d1",
   "metadata": {},
   "source": [
    "### Обучение модели с доп признаками по пользователям"
   ]
  },
  {
   "cell_type": "code",
   "execution_count": 96,
   "id": "ae059584-21ca-45d3-990f-60a469d6764a",
   "metadata": {},
   "outputs": [
    {
     "data": {
      "text/plain": [
       "0.4044083709130942"
      ]
     },
     "execution_count": 96,
     "metadata": {},
     "output_type": "execute_result"
    }
   ],
   "source": [
    "candidates_for_train['target'].mean()"
   ]
  },
  {
   "cell_type": "code",
   "execution_count": 101,
   "id": "7743b713-773c-45d8-a604-4f05fdb0cffc",
   "metadata": {},
   "outputs": [
    {
     "name": "stdout",
     "output_type": "stream",
     "text": [
      "0:\tlearn: 0.4011843\ttotal: 28ms\tremaining: 27.9s\n",
      "100:\tlearn: 0.0287503\ttotal: 2.59s\tremaining: 23.1s\n",
      "200:\tlearn: 0.0278351\ttotal: 5.05s\tremaining: 20.1s\n",
      "300:\tlearn: 0.0277366\ttotal: 7.21s\tremaining: 16.7s\n",
      "400:\tlearn: 0.0277366\ttotal: 9.3s\tremaining: 13.9s\n",
      "500:\tlearn: 0.0277366\ttotal: 11.4s\tremaining: 11.3s\n",
      "600:\tlearn: 0.0277186\ttotal: 13.5s\tremaining: 8.98s\n",
      "700:\tlearn: 0.0276741\ttotal: 15.7s\tremaining: 6.71s\n",
      "800:\tlearn: 0.0275656\ttotal: 17.9s\tremaining: 4.45s\n",
      "900:\tlearn: 0.0273967\ttotal: 20.1s\tremaining: 2.21s\n",
      "999:\tlearn: 0.0273967\ttotal: 22.2s\tremaining: 0us\n"
     ]
    },
    {
     "data": {
      "text/plain": [
       "<catboost.core.CatBoostClassifier at 0x7f0ea19b3040>"
      ]
     },
     "execution_count": 101,
     "metadata": {},
     "output_type": "execute_result"
    }
   ],
   "source": [
    "# задаём имена колонок признаков и таргета\n",
    "features = ['als_score', 'cnt_score', \n",
    "            'listening_time', 'tracks_per_day',\n",
    "            'tracks_listened', 'track_seq', 'norm_track_seq']\n",
    "target = 'target'\n",
    "\n",
    "# Create the Pool object\n",
    "train_data = Pool(\n",
    "    data=candidates_for_train[features], \n",
    "    label=candidates_for_train[target])\n",
    "\n",
    "# инициализируем модель CatBoostClassifier\n",
    "cb_model_u = CatBoostClassifier(\n",
    "    iterations=1000,\n",
    "    learning_rate=0.1,\n",
    "    depth=6,\n",
    "    loss_function='Logloss',\n",
    "    verbose=100,\n",
    "    random_seed=0\n",
    ")\n",
    "\n",
    "# тренируем модель\n",
    "cb_model_u.fit(train_data)"
   ]
  },
  {
   "cell_type": "code",
   "execution_count": 102,
   "id": "2636ade1-e76d-42cf-9085-8b6210646b1f",
   "metadata": {},
   "outputs": [],
   "source": [
    "cb_model_u.save_model('catboost_model_u.bin')"
   ]
  },
  {
   "cell_type": "code",
   "execution_count": 103,
   "id": "6f271b51-140f-4b5f-acb0-ed80f15283a3",
   "metadata": {},
   "outputs": [],
   "source": [
    "candidates_for_train.reset_index(drop=True).to_parquet('./candidates_for_train_u.parquet')"
   ]
  },
  {
   "cell_type": "code",
   "execution_count": 104,
   "id": "e3ee1569-9828-48cd-b014-273a8c6d6897",
   "metadata": {},
   "outputs": [],
   "source": [
    "candidates_to_rank.reset_index(drop=True).to_parquet('./candidates_to_rank_u.parquet')"
   ]
  },
  {
   "cell_type": "code",
   "execution_count": 125,
   "id": "9e1ef115-6a8f-4d41-9d77-c5a678486b54",
   "metadata": {},
   "outputs": [
    {
     "data": {
      "text/html": [
       "<div>\n",
       "<style scoped>\n",
       "    .dataframe tbody tr th:only-of-type {\n",
       "        vertical-align: middle;\n",
       "    }\n",
       "\n",
       "    .dataframe tbody tr th {\n",
       "        vertical-align: top;\n",
       "    }\n",
       "\n",
       "    .dataframe thead th {\n",
       "        text-align: right;\n",
       "    }\n",
       "</style>\n",
       "<table border=\"1\" class=\"dataframe\">\n",
       "  <thead>\n",
       "    <tr style=\"text-align: right;\">\n",
       "      <th></th>\n",
       "      <th>user_id</th>\n",
       "      <th>item_id</th>\n",
       "      <th>als_score</th>\n",
       "      <th>cnt_score</th>\n",
       "      <th>listening_time</th>\n",
       "      <th>tracks_listened</th>\n",
       "      <th>tracks_per_day</th>\n",
       "      <th>cb_score</th>\n",
       "      <th>rank</th>\n",
       "    </tr>\n",
       "  </thead>\n",
       "  <tbody>\n",
       "    <tr>\n",
       "      <th>0</th>\n",
       "      <td>4</td>\n",
       "      <td>59206785</td>\n",
       "      <td>NaN</td>\n",
       "      <td>1.000000</td>\n",
       "      <td>238.0</td>\n",
       "      <td>31.0</td>\n",
       "      <td>0.130252</td>\n",
       "      <td>0.771911</td>\n",
       "      <td>1.0</td>\n",
       "    </tr>\n",
       "    <tr>\n",
       "      <th>1</th>\n",
       "      <td>4</td>\n",
       "      <td>56822013</td>\n",
       "      <td>NaN</td>\n",
       "      <td>1.000000</td>\n",
       "      <td>238.0</td>\n",
       "      <td>31.0</td>\n",
       "      <td>0.130252</td>\n",
       "      <td>0.771911</td>\n",
       "      <td>2.0</td>\n",
       "    </tr>\n",
       "    <tr>\n",
       "      <th>2</th>\n",
       "      <td>4</td>\n",
       "      <td>71542594</td>\n",
       "      <td>NaN</td>\n",
       "      <td>0.999860</td>\n",
       "      <td>238.0</td>\n",
       "      <td>31.0</td>\n",
       "      <td>0.130252</td>\n",
       "      <td>0.492036</td>\n",
       "      <td>3.0</td>\n",
       "    </tr>\n",
       "    <tr>\n",
       "      <th>3</th>\n",
       "      <td>4</td>\n",
       "      <td>482397</td>\n",
       "      <td>NaN</td>\n",
       "      <td>0.992584</td>\n",
       "      <td>238.0</td>\n",
       "      <td>31.0</td>\n",
       "      <td>0.130252</td>\n",
       "      <td>0.430867</td>\n",
       "      <td>4.0</td>\n",
       "    </tr>\n",
       "    <tr>\n",
       "      <th>4</th>\n",
       "      <td>4</td>\n",
       "      <td>40813255</td>\n",
       "      <td>NaN</td>\n",
       "      <td>0.999933</td>\n",
       "      <td>238.0</td>\n",
       "      <td>31.0</td>\n",
       "      <td>0.130252</td>\n",
       "      <td>0.430406</td>\n",
       "      <td>5.0</td>\n",
       "    </tr>\n",
       "    <tr>\n",
       "      <th>...</th>\n",
       "      <td>...</td>\n",
       "      <td>...</td>\n",
       "      <td>...</td>\n",
       "      <td>...</td>\n",
       "      <td>...</td>\n",
       "      <td>...</td>\n",
       "      <td>...</td>\n",
       "      <td>...</td>\n",
       "      <td>...</td>\n",
       "    </tr>\n",
       "    <tr>\n",
       "      <th>2539026</th>\n",
       "      <td>1374571</td>\n",
       "      <td>37151</td>\n",
       "      <td>0.000062</td>\n",
       "      <td>NaN</td>\n",
       "      <td>58.0</td>\n",
       "      <td>8.0</td>\n",
       "      <td>0.137931</td>\n",
       "      <td>0.000371</td>\n",
       "      <td>10.0</td>\n",
       "    </tr>\n",
       "    <tr>\n",
       "      <th>2539027</th>\n",
       "      <td>1374571</td>\n",
       "      <td>9352723</td>\n",
       "      <td>0.000059</td>\n",
       "      <td>NaN</td>\n",
       "      <td>58.0</td>\n",
       "      <td>8.0</td>\n",
       "      <td>0.137931</td>\n",
       "      <td>0.000371</td>\n",
       "      <td>11.0</td>\n",
       "    </tr>\n",
       "    <tr>\n",
       "      <th>2539028</th>\n",
       "      <td>1374571</td>\n",
       "      <td>9352752</td>\n",
       "      <td>0.000059</td>\n",
       "      <td>NaN</td>\n",
       "      <td>58.0</td>\n",
       "      <td>8.0</td>\n",
       "      <td>0.137931</td>\n",
       "      <td>0.000371</td>\n",
       "      <td>12.0</td>\n",
       "    </tr>\n",
       "    <tr>\n",
       "      <th>2539029</th>\n",
       "      <td>1374571</td>\n",
       "      <td>2277850</td>\n",
       "      <td>0.000057</td>\n",
       "      <td>NaN</td>\n",
       "      <td>58.0</td>\n",
       "      <td>8.0</td>\n",
       "      <td>0.137931</td>\n",
       "      <td>0.000371</td>\n",
       "      <td>13.0</td>\n",
       "    </tr>\n",
       "    <tr>\n",
       "      <th>2539030</th>\n",
       "      <td>1374571</td>\n",
       "      <td>2277848</td>\n",
       "      <td>0.000057</td>\n",
       "      <td>NaN</td>\n",
       "      <td>58.0</td>\n",
       "      <td>8.0</td>\n",
       "      <td>0.137931</td>\n",
       "      <td>0.000371</td>\n",
       "      <td>14.0</td>\n",
       "    </tr>\n",
       "  </tbody>\n",
       "</table>\n",
       "<p>2539031 rows × 9 columns</p>\n",
       "</div>"
      ],
      "text/plain": [
       "         user_id   item_id  als_score  cnt_score  listening_time  \\\n",
       "0              4  59206785        NaN   1.000000           238.0   \n",
       "1              4  56822013        NaN   1.000000           238.0   \n",
       "2              4  71542594        NaN   0.999860           238.0   \n",
       "3              4    482397        NaN   0.992584           238.0   \n",
       "4              4  40813255        NaN   0.999933           238.0   \n",
       "...          ...       ...        ...        ...             ...   \n",
       "2539026  1374571     37151   0.000062        NaN            58.0   \n",
       "2539027  1374571   9352723   0.000059        NaN            58.0   \n",
       "2539028  1374571   9352752   0.000059        NaN            58.0   \n",
       "2539029  1374571   2277850   0.000057        NaN            58.0   \n",
       "2539030  1374571   2277848   0.000057        NaN            58.0   \n",
       "\n",
       "         tracks_listened  tracks_per_day  cb_score  rank  \n",
       "0                   31.0        0.130252  0.771911   1.0  \n",
       "1                   31.0        0.130252  0.771911   2.0  \n",
       "2                   31.0        0.130252  0.492036   3.0  \n",
       "3                   31.0        0.130252  0.430867   4.0  \n",
       "4                   31.0        0.130252  0.430406   5.0  \n",
       "...                  ...             ...       ...   ...  \n",
       "2539026              8.0        0.137931  0.000371  10.0  \n",
       "2539027              8.0        0.137931  0.000371  11.0  \n",
       "2539028              8.0        0.137931  0.000371  12.0  \n",
       "2539029              8.0        0.137931  0.000371  13.0  \n",
       "2539030              8.0        0.137931  0.000371  14.0  \n",
       "\n",
       "[2539031 rows x 9 columns]"
      ]
     },
     "execution_count": 125,
     "metadata": {},
     "output_type": "execute_result"
    }
   ],
   "source": [
    "final_recommendations"
   ]
  },
  {
   "cell_type": "code",
   "execution_count": 105,
   "id": "bbafe3fd-f663-4e97-b86e-cd64ffba7da7",
   "metadata": {},
   "outputs": [],
   "source": [
    "final_recommendations.reset_index(drop=True).to_parquet('./recommendations_u.parquet')"
   ]
  },
  {
   "cell_type": "markdown",
   "id": "65c1ed5c-b761-446f-9a12-ad8c513e6225",
   "metadata": {},
   "source": [
    "### Ранжирование кандидатов для рекомендаций с доп признаками по пользователям"
   ]
  },
  {
   "cell_type": "code",
   "execution_count": 106,
   "id": "53469b5c-bc93-46e9-b1ad-fbd1be78b66c",
   "metadata": {},
   "outputs": [
    {
     "data": {
      "text/plain": [
       "<catboost.core.CatBoostClassifier at 0x7f0ea19b3fa0>"
      ]
     },
     "execution_count": 106,
     "metadata": {},
     "output_type": "execute_result"
    }
   ],
   "source": [
    "# Загрузка модели\n",
    "cb_model_u = CatBoostClassifier()\n",
    "cb_model_u.load_model('catboost_model_u.bin')"
   ]
  },
  {
   "cell_type": "code",
   "execution_count": 107,
   "id": "bdf1a30c-d84a-4a05-9e0b-f75e63c2b354",
   "metadata": {},
   "outputs": [],
   "source": [
    "# задаём имена колонок признаков и таргета\n",
    "features = ['als_score', 'cnt_score', \n",
    "            'listening_time', 'tracks_per_day',\n",
    "            'tracks_listened', 'track_seq', 'norm_track_seq']\n",
    "target = 'target'"
   ]
  },
  {
   "cell_type": "code",
   "execution_count": 108,
   "id": "d0cf6c6c-18a0-4fbe-8e14-bcc3c06a8a47",
   "metadata": {
    "scrolled": true
   },
   "outputs": [],
   "source": [
    "inference_data = Pool(data=candidates_to_rank[features])\n",
    "predictions = cb_model_u.predict_proba(inference_data)\n",
    "\n",
    "candidates_to_rank[\"cb_score\"] = predictions[:, 1]"
   ]
  },
  {
   "cell_type": "code",
   "execution_count": 109,
   "id": "1a8becd0-f708-4775-a01d-b4d8366ed71b",
   "metadata": {},
   "outputs": [],
   "source": [
    "# для каждого пользователя проставляем rank, начиная с 1 — это максимальный cb_score\n",
    "candidates_to_rank = candidates_to_rank.sort_values([\"user_id\", \"cb_score\"], ascending=[True, False])"
   ]
  },
  {
   "cell_type": "code",
   "execution_count": 110,
   "id": "09b3d33f-668a-4fcf-89f4-e291f516eeb3",
   "metadata": {},
   "outputs": [],
   "source": [
    "candidates_to_rank[\"rank\"] = candidates_to_rank.groupby(\"user_id\")[\"cb_score\"].rank(method='first', ascending=False)"
   ]
  },
  {
   "cell_type": "code",
   "execution_count": 127,
   "id": "f44d3879-69b6-4724-b407-2182a31f3c54",
   "metadata": {},
   "outputs": [],
   "source": [
    "max_recommendations_per_user = 100\n",
    "final_recommendations = candidates_to_rank[candidates_to_rank['rank']<=max_recommendations_per_user]"
   ]
  },
  {
   "cell_type": "code",
   "execution_count": 129,
   "id": "354a1dc2-23bf-4e53-8cf3-c256e3b3518e",
   "metadata": {},
   "outputs": [],
   "source": [
    "final_recommendations.reset_index(drop=True).to_parquet('./recommendations_u.parquet')"
   ]
  },
  {
   "cell_type": "code",
   "execution_count": 128,
   "id": "35ddf9fd-3954-46c5-b5ab-056a8db1bdbb",
   "metadata": {},
   "outputs": [
    {
     "data": {
      "text/html": [
       "<div>\n",
       "<style scoped>\n",
       "    .dataframe tbody tr th:only-of-type {\n",
       "        vertical-align: middle;\n",
       "    }\n",
       "\n",
       "    .dataframe tbody tr th {\n",
       "        vertical-align: top;\n",
       "    }\n",
       "\n",
       "    .dataframe thead th {\n",
       "        text-align: right;\n",
       "    }\n",
       "</style>\n",
       "<table border=\"1\" class=\"dataframe\">\n",
       "  <thead>\n",
       "    <tr style=\"text-align: right;\">\n",
       "      <th></th>\n",
       "      <th>user_id</th>\n",
       "      <th>item_id</th>\n",
       "      <th>als_score</th>\n",
       "      <th>cnt_score</th>\n",
       "      <th>listening_time</th>\n",
       "      <th>tracks_listened</th>\n",
       "      <th>max_track_seq</th>\n",
       "      <th>tracks_per_day</th>\n",
       "      <th>track_seq</th>\n",
       "      <th>norm_track_seq</th>\n",
       "      <th>cb_score</th>\n",
       "      <th>rank</th>\n",
       "    </tr>\n",
       "  </thead>\n",
       "  <tbody>\n",
       "    <tr>\n",
       "      <th>665404</th>\n",
       "      <td>4</td>\n",
       "      <td>59206785</td>\n",
       "      <td>NaN</td>\n",
       "      <td>1.000000</td>\n",
       "      <td>238.0</td>\n",
       "      <td>31.0</td>\n",
       "      <td>236.0</td>\n",
       "      <td>0.130252</td>\n",
       "      <td>196.0</td>\n",
       "      <td>0.830508</td>\n",
       "      <td>0.001867</td>\n",
       "      <td>1.0</td>\n",
       "    </tr>\n",
       "    <tr>\n",
       "      <th>665402</th>\n",
       "      <td>4</td>\n",
       "      <td>59206785</td>\n",
       "      <td>NaN</td>\n",
       "      <td>0.975072</td>\n",
       "      <td>238.0</td>\n",
       "      <td>31.0</td>\n",
       "      <td>236.0</td>\n",
       "      <td>0.130252</td>\n",
       "      <td>196.0</td>\n",
       "      <td>0.830508</td>\n",
       "      <td>0.001477</td>\n",
       "      <td>2.0</td>\n",
       "    </tr>\n",
       "    <tr>\n",
       "      <th>665403</th>\n",
       "      <td>4</td>\n",
       "      <td>59206785</td>\n",
       "      <td>NaN</td>\n",
       "      <td>1.000000</td>\n",
       "      <td>238.0</td>\n",
       "      <td>31.0</td>\n",
       "      <td>236.0</td>\n",
       "      <td>0.130252</td>\n",
       "      <td>196.0</td>\n",
       "      <td>0.830508</td>\n",
       "      <td>0.001463</td>\n",
       "      <td>3.0</td>\n",
       "    </tr>\n",
       "    <tr>\n",
       "      <th>665487</th>\n",
       "      <td>4</td>\n",
       "      <td>56822013</td>\n",
       "      <td>NaN</td>\n",
       "      <td>1.000000</td>\n",
       "      <td>238.0</td>\n",
       "      <td>31.0</td>\n",
       "      <td>236.0</td>\n",
       "      <td>0.130252</td>\n",
       "      <td>187.0</td>\n",
       "      <td>0.792373</td>\n",
       "      <td>0.001429</td>\n",
       "      <td>4.0</td>\n",
       "    </tr>\n",
       "    <tr>\n",
       "      <th>665485</th>\n",
       "      <td>4</td>\n",
       "      <td>47273871</td>\n",
       "      <td>NaN</td>\n",
       "      <td>1.000000</td>\n",
       "      <td>238.0</td>\n",
       "      <td>31.0</td>\n",
       "      <td>236.0</td>\n",
       "      <td>0.130252</td>\n",
       "      <td>166.0</td>\n",
       "      <td>0.703390</td>\n",
       "      <td>0.001349</td>\n",
       "      <td>5.0</td>\n",
       "    </tr>\n",
       "    <tr>\n",
       "      <th>...</th>\n",
       "      <td>...</td>\n",
       "      <td>...</td>\n",
       "      <td>...</td>\n",
       "      <td>...</td>\n",
       "      <td>...</td>\n",
       "      <td>...</td>\n",
       "      <td>...</td>\n",
       "      <td>...</td>\n",
       "      <td>...</td>\n",
       "      <td>...</td>\n",
       "      <td>...</td>\n",
       "      <td>...</td>\n",
       "    </tr>\n",
       "    <tr>\n",
       "      <th>665299</th>\n",
       "      <td>1374571</td>\n",
       "      <td>37151</td>\n",
       "      <td>0.000062</td>\n",
       "      <td>NaN</td>\n",
       "      <td>58.0</td>\n",
       "      <td>8.0</td>\n",
       "      <td>199.0</td>\n",
       "      <td>0.137931</td>\n",
       "      <td>NaN</td>\n",
       "      <td>NaN</td>\n",
       "      <td>0.000001</td>\n",
       "      <td>10.0</td>\n",
       "    </tr>\n",
       "    <tr>\n",
       "      <th>665300</th>\n",
       "      <td>1374571</td>\n",
       "      <td>9352723</td>\n",
       "      <td>0.000059</td>\n",
       "      <td>NaN</td>\n",
       "      <td>58.0</td>\n",
       "      <td>8.0</td>\n",
       "      <td>199.0</td>\n",
       "      <td>0.137931</td>\n",
       "      <td>NaN</td>\n",
       "      <td>NaN</td>\n",
       "      <td>0.000001</td>\n",
       "      <td>11.0</td>\n",
       "    </tr>\n",
       "    <tr>\n",
       "      <th>665301</th>\n",
       "      <td>1374571</td>\n",
       "      <td>9352752</td>\n",
       "      <td>0.000059</td>\n",
       "      <td>NaN</td>\n",
       "      <td>58.0</td>\n",
       "      <td>8.0</td>\n",
       "      <td>199.0</td>\n",
       "      <td>0.137931</td>\n",
       "      <td>NaN</td>\n",
       "      <td>NaN</td>\n",
       "      <td>0.000001</td>\n",
       "      <td>12.0</td>\n",
       "    </tr>\n",
       "    <tr>\n",
       "      <th>665302</th>\n",
       "      <td>1374571</td>\n",
       "      <td>2277850</td>\n",
       "      <td>0.000057</td>\n",
       "      <td>NaN</td>\n",
       "      <td>58.0</td>\n",
       "      <td>8.0</td>\n",
       "      <td>199.0</td>\n",
       "      <td>0.137931</td>\n",
       "      <td>NaN</td>\n",
       "      <td>NaN</td>\n",
       "      <td>0.000001</td>\n",
       "      <td>13.0</td>\n",
       "    </tr>\n",
       "    <tr>\n",
       "      <th>665303</th>\n",
       "      <td>1374571</td>\n",
       "      <td>2277848</td>\n",
       "      <td>0.000057</td>\n",
       "      <td>NaN</td>\n",
       "      <td>58.0</td>\n",
       "      <td>8.0</td>\n",
       "      <td>199.0</td>\n",
       "      <td>0.137931</td>\n",
       "      <td>NaN</td>\n",
       "      <td>NaN</td>\n",
       "      <td>0.000001</td>\n",
       "      <td>14.0</td>\n",
       "    </tr>\n",
       "  </tbody>\n",
       "</table>\n",
       "<p>2539031 rows × 12 columns</p>\n",
       "</div>"
      ],
      "text/plain": [
       "        user_id   item_id  als_score  cnt_score  listening_time  \\\n",
       "665404        4  59206785        NaN   1.000000           238.0   \n",
       "665402        4  59206785        NaN   0.975072           238.0   \n",
       "665403        4  59206785        NaN   1.000000           238.0   \n",
       "665487        4  56822013        NaN   1.000000           238.0   \n",
       "665485        4  47273871        NaN   1.000000           238.0   \n",
       "...         ...       ...        ...        ...             ...   \n",
       "665299  1374571     37151   0.000062        NaN            58.0   \n",
       "665300  1374571   9352723   0.000059        NaN            58.0   \n",
       "665301  1374571   9352752   0.000059        NaN            58.0   \n",
       "665302  1374571   2277850   0.000057        NaN            58.0   \n",
       "665303  1374571   2277848   0.000057        NaN            58.0   \n",
       "\n",
       "        tracks_listened  max_track_seq  tracks_per_day  track_seq  \\\n",
       "665404             31.0          236.0        0.130252      196.0   \n",
       "665402             31.0          236.0        0.130252      196.0   \n",
       "665403             31.0          236.0        0.130252      196.0   \n",
       "665487             31.0          236.0        0.130252      187.0   \n",
       "665485             31.0          236.0        0.130252      166.0   \n",
       "...                 ...            ...             ...        ...   \n",
       "665299              8.0          199.0        0.137931        NaN   \n",
       "665300              8.0          199.0        0.137931        NaN   \n",
       "665301              8.0          199.0        0.137931        NaN   \n",
       "665302              8.0          199.0        0.137931        NaN   \n",
       "665303              8.0          199.0        0.137931        NaN   \n",
       "\n",
       "        norm_track_seq  cb_score  rank  \n",
       "665404        0.830508  0.001867   1.0  \n",
       "665402        0.830508  0.001477   2.0  \n",
       "665403        0.830508  0.001463   3.0  \n",
       "665487        0.792373  0.001429   4.0  \n",
       "665485        0.703390  0.001349   5.0  \n",
       "...                ...       ...   ...  \n",
       "665299             NaN  0.000001  10.0  \n",
       "665300             NaN  0.000001  11.0  \n",
       "665301             NaN  0.000001  12.0  \n",
       "665302             NaN  0.000001  13.0  \n",
       "665303             NaN  0.000001  14.0  \n",
       "\n",
       "[2539031 rows x 12 columns]"
      ]
     },
     "execution_count": 128,
     "metadata": {},
     "output_type": "execute_result"
    }
   ],
   "source": [
    "final_recommendations"
   ]
  },
  {
   "cell_type": "markdown",
   "id": "ec7f20e1-0e96-4045-8047-971fd58ed85c",
   "metadata": {},
   "source": [
    "Принадлежность к жанру. Доля треков конкретного жанра среди всех прослушанных. Популярность среди всех пользователей."
   ]
  },
  {
   "cell_type": "code",
   "execution_count": 256,
   "id": "cf9224e3-9283-4215-af0c-c87e88c1ff6d",
   "metadata": {},
   "outputs": [],
   "source": [
    "del events\n",
    "del items"
   ]
  },
  {
   "cell_type": "markdown",
   "id": "b3c84071-45b5-4a15-a683-e0ab034a3128",
   "metadata": {},
   "source": [
    "# Оценка качества"
   ]
  },
  {
   "cell_type": "markdown",
   "id": "1b107fe4-554e-42b1-87d9-c435a52bb77a",
   "metadata": {},
   "source": [
    "Проверим оценку качества трёх типов рекомендаций: \n",
    "\n",
    "- топ популярных,\n",
    "- персональных, полученных при помощи ALS,\n",
    "- итоговых\n",
    "  \n",
    "по четырем метрикам: recall, precision, coverage, novelty."
   ]
  },
  {
   "cell_type": "code",
   "execution_count": 42,
   "id": "dbaea80d-cb6c-46e6-ac3c-2bc6cf638439",
   "metadata": {},
   "outputs": [],
   "source": [
    "def process_events_recs_for_binary_metrics(events_train, events_test, recs, top_k=None):\n",
    "\n",
    "    \"\"\"\n",
    "    размечает пары <user_id, item_id> для общего множества пользователей признаками\n",
    "    - gt (ground truth)\n",
    "    - pr (prediction)\n",
    "    top_k: расчёт ведётся только для top k-рекомендаций\n",
    "    \"\"\"\n",
    "\n",
    "    events_test[\"gt\"] = True\n",
    "    common_users = set(events_test[\"user_id\"]) & set(recs[\"user_id\"])\n",
    "\n",
    "    print(f\"Common users: {len(common_users)}\")\n",
    "    \n",
    "    events_for_common_users = events_test[events_test[\"user_id\"].isin(common_users)].copy()\n",
    "    recs_for_common_users = recs[recs[\"user_id\"].isin(common_users)].copy()\n",
    "\n",
    "    recs_for_common_users = recs_for_common_users.sort_values([\"user_id\", \"score\"], ascending=[True, False])\n",
    "\n",
    "    # оставляет только те item_id, которые были в events_train, \n",
    "    # т. к. модель не имела никакой возможности давать рекомендации для новых айтемов\n",
    "    events_for_common_users = events_for_common_users[events_for_common_users[\"item_id\"].isin(events_train[\"item_id\"].unique())]\n",
    "\n",
    "    if top_k is not None:\n",
    "        recs_for_common_users = recs_for_common_users.groupby(\"user_id\").head(top_k)\n",
    "    \n",
    "    events_recs_common = events_for_common_users[[\"user_id\", \"item_id\", \"gt\"]].merge(\n",
    "        recs_for_common_users[[\"user_id\", \"item_id\", \"score\"]], \n",
    "        on=[\"user_id\", \"item_id\"], how=\"outer\")    \n",
    "\n",
    "    events_recs_common[\"gt\"] = events_recs_common[\"gt\"].fillna(False)\n",
    "    events_recs_common[\"pr\"] = ~events_recs_common[\"score\"].isnull()\n",
    "    \n",
    "    events_recs_common[\"tp\"] = events_recs_common[\"gt\"] & events_recs_common[\"pr\"]\n",
    "    events_recs_common[\"fp\"] = ~events_recs_common[\"gt\"] & events_recs_common[\"pr\"]\n",
    "    events_recs_common[\"fn\"] = events_recs_common[\"gt\"] & ~events_recs_common[\"pr\"]\n",
    "\n",
    "    return events_recs_common "
   ]
  },
  {
   "cell_type": "markdown",
   "id": "f46a2979",
   "metadata": {},
   "source": [
    "<div class=\"alert alert-warning\" style=\"border-radius: 15px; box-shadow: 4px 4px 4px; border: 1px solid \">\n",
    "<b> Комментарий ревьюера  ⚠️</b>\n",
    "    \n",
    "Можно уменьшить количество копирований датафреймов, которые производятся для пользователей и рекомендаций. Это может немного улучшить производительность.\n",
    "</div>\n"
   ]
  },
  {
   "cell_type": "code",
   "execution_count": 43,
   "id": "56db2a32-467c-4705-b714-86d62d8c65f2",
   "metadata": {},
   "outputs": [],
   "source": [
    "def compute_cls_metrics(events_recs_for_binary_metric):\n",
    "    \n",
    "    groupper = events_recs_for_binary_metric.groupby(\"user_id\")\n",
    "\n",
    "    # precision = tp / (tp + fp)\n",
    "    precision = groupper[\"tp\"].sum()/(groupper[\"tp\"].sum()+groupper[\"fp\"].sum())\n",
    "    precision = precision.fillna(0).mean()\n",
    "    \n",
    "    # recall = tp / (tp + fn)\n",
    "    recall = groupper[\"tp\"].sum()/(groupper[\"tp\"].sum()+groupper[\"fn\"].sum())\n",
    "    recall = recall.fillna(0).mean()\n",
    "\n",
    "    return precision, recall"
   ]
  },
  {
   "cell_type": "markdown",
   "id": "477d87c2-56a8-411b-9ea6-ba09c497a9cd",
   "metadata": {},
   "source": [
    "### Оценка качества рекомендаций для холодных пользователей"
   ]
  },
  {
   "cell_type": "code",
   "execution_count": 257,
   "id": "2211dff4-5431-4622-92d7-79e7e0875c6c",
   "metadata": {},
   "outputs": [],
   "source": [
    "events = pd.read_parquet(\"events_raw.parquet\")\n",
    "items = pd.read_parquet(\"items_raw.parquet\")"
   ]
  },
  {
   "cell_type": "code",
   "execution_count": 258,
   "id": "71ef7eca-2ec2-47be-9765-63944d9d651a",
   "metadata": {},
   "outputs": [],
   "source": [
    "top_k_pop_items = pd.read_parquet('top_popular.parquet')"
   ]
  },
  {
   "cell_type": "code",
   "execution_count": 259,
   "id": "95392ad3-57ea-4038-b00b-942a4412d87f",
   "metadata": {},
   "outputs": [],
   "source": [
    "train_test_global_time_split_date = pd.to_datetime(\"2022-11-20\")#.date()\n",
    "train_test_global_time_split_idx = events[\"started_at\"] < train_test_global_time_split_date\n",
    "events_train = events[train_test_global_time_split_idx]\n",
    "events_test = events[~train_test_global_time_split_idx]\n",
    "# количество пользователей в train и test\n",
    "users_train = events_train[\"user_id\"].drop_duplicates()\n",
    "users_test = events_test[\"user_id\"].drop_duplicates()"
   ]
  },
  {
   "cell_type": "code",
   "execution_count": 260,
   "id": "37d23702-78fb-4911-9989-6dac4a97419b",
   "metadata": {},
   "outputs": [],
   "source": [
    "# задаём точку разбиения\n",
    "split_date_for_labels = pd.to_datetime(\"2022-12-15\")\n",
    "split_date_for_labels_idx = events_test[\"started_at\"] < split_date_for_labels\n",
    "events_labels = events_test[split_date_for_labels_idx].copy()\n",
    "events_test_2 = events_test[~split_date_for_labels_idx].copy() "
   ]
  },
  {
   "cell_type": "code",
   "execution_count": 261,
   "id": "7be4f8d7-c8bf-4812-beb0-2a4b3e70327f",
   "metadata": {},
   "outputs": [
    {
     "name": "stdout",
     "output_type": "stream",
     "text": [
      "116158\n"
     ]
    }
   ],
   "source": [
    "# количество холодных пользователей\n",
    "cold_users = set(users_test).difference(set(users_train))\n",
    "print(len(cold_users)) "
   ]
  },
  {
   "cell_type": "code",
   "execution_count": 262,
   "id": "e439a0dc-0389-4e0c-8b4a-14e494c11a77",
   "metadata": {},
   "outputs": [],
   "source": [
    "cold_users_events_with_recs = \\\n",
    "    events_test[events_test[\"user_id\"].isin(cold_users)] \\\n",
    "    .merge(top_k_pop_items, on=\"item_id\", how=\"left\")\n",
    "\n",
    "cold_user_items_no_score_idx = cold_users_events_with_recs[\"users\"].isnull()\n",
    "cold_user_recs = cold_users_events_with_recs[~cold_user_items_no_score_idx] \\\n",
    "    [[\"user_id\", \"item_id\", \"users\"]]"
   ]
  },
  {
   "cell_type": "code",
   "execution_count": 263,
   "id": "006a0d36-b3a3-4d31-bba5-d00f76dca8d7",
   "metadata": {},
   "outputs": [],
   "source": [
    "cold_user_id = cold_user_recs['user_id']"
   ]
  },
  {
   "cell_type": "code",
   "execution_count": 264,
   "id": "8d07ee2e-e120-4766-9e1f-8d2e52f8851e",
   "metadata": {},
   "outputs": [
    {
     "data": {
      "text/plain": [
       "0.9259042888171741"
      ]
     },
     "execution_count": 264,
     "metadata": {},
     "output_type": "execute_result"
    }
   ],
   "source": [
    "cold_user_items_no_score_idx.mean()"
   ]
  },
  {
   "cell_type": "code",
   "execution_count": 265,
   "id": "f51c1eeb-8bfc-4b3b-a0f1-33966240470d",
   "metadata": {},
   "outputs": [
    {
     "name": "stdout",
     "output_type": "stream",
     "text": [
      "Доля пользователей без релевантных рекомендаций: 0.27\n",
      "Среднее покрытие пользователей: 0.12\n"
     ]
    }
   ],
   "source": [
    "# посчитаем покрытие холодных пользователей рекомендациями\n",
    "\n",
    "cold_users_hit_ratio = cold_users_events_with_recs.groupby(\"user_id\").agg(hits=(\"users\", lambda x: (~x.isnull()).mean()))\n",
    "\n",
    "print(f\"Доля пользователей без релевантных рекомендаций: {(cold_users_hit_ratio == 0).mean().iat[0]:.2f}\")\n",
    "print(f\"Среднее покрытие пользователей: {cold_users_hit_ratio[cold_users_hit_ratio != 0].mean().iat[0]:.2f}\")"
   ]
  },
  {
   "cell_type": "markdown",
   "id": "05380182-a6f0-4552-b749-fd3dac0c677d",
   "metadata": {},
   "source": [
    "При \"холодном старте\" рекомендация пользователям 200 самых популярных композиций позволит охватить релевантными рекомендациями 12% из 116 тыс. новых пользователей."
   ]
  },
  {
   "cell_type": "code",
   "execution_count": 266,
   "id": "6f22b36b-85ac-4c69-9004-1bd4184f11c3",
   "metadata": {},
   "outputs": [],
   "source": [
    "del events\n",
    "del items"
   ]
  },
  {
   "cell_type": "code",
   "execution_count": 178,
   "id": "701c459f-6422-4a9b-9291-3fac503ad3fc",
   "metadata": {},
   "outputs": [],
   "source": [
    "items = pd.read_parquet(\"./items.parquet\")\n",
    "events = pd.read_parquet(\"./events.parquet\")"
   ]
  },
  {
   "cell_type": "code",
   "execution_count": 179,
   "id": "b79e5e35-8624-4cdb-bc62-440ae02d3cab",
   "metadata": {},
   "outputs": [],
   "source": [
    "train_test_global_time_split_date = pd.to_datetime(\"2022-11-20\")#.date()\n",
    "train_test_global_time_split_idx = events[\"started_at\"] < train_test_global_time_split_date\n",
    "events_train = events[train_test_global_time_split_idx]\n",
    "events_test = events[~train_test_global_time_split_idx]\n",
    "# количество пользователей в train и test\n",
    "users_train = events_train[\"user_id\"].drop_duplicates()\n",
    "users_test = events_test[\"user_id\"].drop_duplicates()\n"
   ]
  },
  {
   "cell_type": "code",
   "execution_count": 180,
   "id": "9124e299-2f10-4f3f-8f24-c0140674f580",
   "metadata": {},
   "outputs": [],
   "source": [
    "# задаём точку разбиения\n",
    "split_date_for_labels = pd.to_datetime(\"2022-12-15\")\n",
    "split_date_for_labels_idx = events_test[\"started_at\"] < split_date_for_labels\n",
    "events_labels = events_test[split_date_for_labels_idx].copy()\n",
    "events_test_2 = events_test[~split_date_for_labels_idx].copy() "
   ]
  },
  {
   "cell_type": "markdown",
   "id": "82c67456-0911-42c6-89a6-2c50be83d402",
   "metadata": {},
   "source": [
    "### Оценка качества рекомендаций без дополнительных признаков"
   ]
  },
  {
   "cell_type": "code",
   "execution_count": 197,
   "id": "a6fbcdb1-aba1-43d6-a8a0-21a34ea96d07",
   "metadata": {},
   "outputs": [],
   "source": [
    "final_recommendations = pd.read_parquet('./recommendations.parquet')"
   ]
  },
  {
   "cell_type": "markdown",
   "id": "69feb311-0f01-458f-9f44-050edb487712",
   "metadata": {},
   "source": [
    "#### Точность (англ. precision) и полнота (англ. recall)"
   ]
  },
  {
   "cell_type": "code",
   "execution_count": 198,
   "id": "366caa51-6d9a-4cd5-b43f-13c48a33eb28",
   "metadata": {
    "scrolled": true
   },
   "outputs": [
    {
     "name": "stdout",
     "output_type": "stream",
     "text": [
      "Common users: 132952\n",
      "precision: 0.008, recall: 0.010\n"
     ]
    }
   ],
   "source": [
    "# для экономии ресурсов оставим события только тех пользователей, \n",
    "# для которых следует оценить рекомендации\n",
    "events_inference = pd.concat([events_train, events_labels])\n",
    "events_inference = events_inference[events_inference[\"user_id\"].isin(events_test_2[\"user_id\"].drop_duplicates())]\n",
    "\n",
    "cb_events_recs_for_binary_metrics_5 = process_events_recs_for_binary_metrics(\n",
    "    events_inference,\n",
    "    events_test_2,\n",
    "    final_recommendations.rename(columns={\"cb_score\": \"score\"}), \n",
    "    top_k=5)\n",
    "\n",
    "cb_precision_5, cb_recall_5 = compute_cls_metrics(cb_events_recs_for_binary_metrics_5)\n",
    "\n",
    "print(f\"precision: {cb_precision_5:.3f}, recall: {cb_recall_5:.3f}\")"
   ]
  },
  {
   "cell_type": "markdown",
   "id": "8ec40bb5-42b6-47e5-a665-718fe4a950e8",
   "metadata": {},
   "source": [
    "#### Покрытие (англ. coverage)"
   ]
  },
  {
   "cell_type": "code",
   "execution_count": 192,
   "id": "3cec2e3a-dd03-4fa3-bc7a-c8ec569a515e",
   "metadata": {},
   "outputs": [
    {
     "name": "stdout",
     "output_type": "stream",
     "text": [
      "coverage: 0.44\n"
     ]
    }
   ],
   "source": [
    "# расчёт покрытия по объектам\n",
    "users_covered = len(final_recommendations['user_id'].drop_duplicates())\n",
    "users_total = len(events['user_id'].drop_duplicates())\n",
    "cov_items = users_covered / users_total\n",
    "print(f\"coverage: {cov_items:.2f}\") "
   ]
  },
  {
   "cell_type": "markdown",
   "id": "a2104fcd-cfb7-4d52-b13c-20347d64cd77",
   "metadata": {},
   "source": [
    "#### Новизна (англ. novelty)"
   ]
  },
  {
   "cell_type": "code",
   "execution_count": 199,
   "id": "e39561db-79f9-4c6b-a853-db9e476ff41e",
   "metadata": {},
   "outputs": [],
   "source": [
    "events_inference.loc[:, \"listened\"] = True"
   ]
  },
  {
   "cell_type": "code",
   "execution_count": 200,
   "id": "0a7bc712-791d-47c2-b2d3-1342d75c24a9",
   "metadata": {},
   "outputs": [],
   "source": [
    "final_recommendations = final_recommendations.merge(events_inference[[\"user_id\", \"item_id\", \"listened\"]], on=[\"user_id\", \"item_id\"], how=\"left\")"
   ]
  },
  {
   "cell_type": "code",
   "execution_count": 201,
   "id": "e34132ec-d8bf-40a7-9d8e-41353d8ad754",
   "metadata": {},
   "outputs": [],
   "source": [
    "final_recommendations[\"listened\"] = final_recommendations[\"listened\"].fillna(False).astype(\"bool\")"
   ]
  },
  {
   "cell_type": "code",
   "execution_count": 202,
   "id": "2ea27461-ba35-4da1-a9e6-bec441f944f0",
   "metadata": {},
   "outputs": [],
   "source": [
    "novelty_5 = (1-final_recommendations.query(\"rank <= 5\").groupby(\"user_id\")[\"listened\"].mean())"
   ]
  },
  {
   "cell_type": "code",
   "execution_count": 203,
   "id": "275de821-f78e-444b-b932-7b757f98aa8a",
   "metadata": {
    "scrolled": true
   },
   "outputs": [
    {
     "name": "stdout",
     "output_type": "stream",
     "text": [
      "novelty: 0.84\n"
     ]
    }
   ],
   "source": [
    "print(f\"novelty: {novelty_5.mean():.2f}\") "
   ]
  },
  {
   "cell_type": "markdown",
   "id": "175d9b42-e0c2-4ae7-bcae-525d1a9673b0",
   "metadata": {},
   "source": [
    "#### Оценка важности признаков"
   ]
  },
  {
   "cell_type": "code",
   "execution_count": 316,
   "id": "c58ca165-d36b-4755-a577-4a128976aeb5",
   "metadata": {},
   "outputs": [
    {
     "data": {
      "text/plain": [
       "<catboost.core.CatBoostClassifier at 0x7fb92c0f68f0>"
      ]
     },
     "execution_count": 316,
     "metadata": {},
     "output_type": "execute_result"
    }
   ],
   "source": [
    "# Загрузка модели\n",
    "cb_model = CatBoostClassifier()\n",
    "cb_model.load_model('catboost_model.bin')"
   ]
  },
  {
   "cell_type": "code",
   "execution_count": 317,
   "id": "562c2562-3159-40c2-a2d9-7bcacefe924f",
   "metadata": {},
   "outputs": [],
   "source": [
    "# задаём имена колонок признаков и таргета\n",
    "features = ['als_score', 'cnt_score']\n",
    "target = 'target'"
   ]
  },
  {
   "cell_type": "code",
   "execution_count": 318,
   "id": "ad78e464-5c65-4d20-94d1-389e0f3e50ef",
   "metadata": {
    "scrolled": true
   },
   "outputs": [
    {
     "name": "stdout",
     "output_type": "stream",
     "text": [
      "                  fi\n",
      "als_score  76.909173\n",
      "cnt_score  23.090827\n"
     ]
    }
   ],
   "source": [
    "feature_importance = pd.DataFrame(cb_model.get_feature_importance(), \n",
    "    index=features, \n",
    "    columns=[\"fi\"])\n",
    "\n",
    "print(feature_importance )"
   ]
  },
  {
   "cell_type": "code",
   "execution_count": 141,
   "id": "43d2cd8a-1179-43b4-99df-b348e47ca991",
   "metadata": {},
   "outputs": [
    {
     "data": {
      "text/html": [
       "<div>\n",
       "<style scoped>\n",
       "    .dataframe tbody tr th:only-of-type {\n",
       "        vertical-align: middle;\n",
       "    }\n",
       "\n",
       "    .dataframe tbody tr th {\n",
       "        vertical-align: top;\n",
       "    }\n",
       "\n",
       "    .dataframe thead th {\n",
       "        text-align: right;\n",
       "    }\n",
       "</style>\n",
       "<table border=\"1\" class=\"dataframe\">\n",
       "  <thead>\n",
       "    <tr style=\"text-align: right;\">\n",
       "      <th></th>\n",
       "      <th>user_id</th>\n",
       "      <th>item_id</th>\n",
       "      <th>als_score</th>\n",
       "      <th>cnt_score</th>\n",
       "      <th>listening_time</th>\n",
       "      <th>tracks_listened</th>\n",
       "      <th>max_track_seq</th>\n",
       "      <th>tracks_per_day</th>\n",
       "      <th>track_seq</th>\n",
       "      <th>norm_track_seq</th>\n",
       "      <th>cb_score</th>\n",
       "      <th>rank</th>\n",
       "    </tr>\n",
       "  </thead>\n",
       "  <tbody>\n",
       "    <tr>\n",
       "      <th>665404</th>\n",
       "      <td>4</td>\n",
       "      <td>59206785</td>\n",
       "      <td>NaN</td>\n",
       "      <td>1.000000</td>\n",
       "      <td>238.0</td>\n",
       "      <td>31.0</td>\n",
       "      <td>236.0</td>\n",
       "      <td>0.130252</td>\n",
       "      <td>196.0</td>\n",
       "      <td>0.830508</td>\n",
       "      <td>0.001867</td>\n",
       "      <td>1.0</td>\n",
       "    </tr>\n",
       "    <tr>\n",
       "      <th>665402</th>\n",
       "      <td>4</td>\n",
       "      <td>59206785</td>\n",
       "      <td>NaN</td>\n",
       "      <td>0.975072</td>\n",
       "      <td>238.0</td>\n",
       "      <td>31.0</td>\n",
       "      <td>236.0</td>\n",
       "      <td>0.130252</td>\n",
       "      <td>196.0</td>\n",
       "      <td>0.830508</td>\n",
       "      <td>0.001477</td>\n",
       "      <td>2.0</td>\n",
       "    </tr>\n",
       "    <tr>\n",
       "      <th>665403</th>\n",
       "      <td>4</td>\n",
       "      <td>59206785</td>\n",
       "      <td>NaN</td>\n",
       "      <td>1.000000</td>\n",
       "      <td>238.0</td>\n",
       "      <td>31.0</td>\n",
       "      <td>236.0</td>\n",
       "      <td>0.130252</td>\n",
       "      <td>196.0</td>\n",
       "      <td>0.830508</td>\n",
       "      <td>0.001463</td>\n",
       "      <td>3.0</td>\n",
       "    </tr>\n",
       "    <tr>\n",
       "      <th>665487</th>\n",
       "      <td>4</td>\n",
       "      <td>56822013</td>\n",
       "      <td>NaN</td>\n",
       "      <td>1.000000</td>\n",
       "      <td>238.0</td>\n",
       "      <td>31.0</td>\n",
       "      <td>236.0</td>\n",
       "      <td>0.130252</td>\n",
       "      <td>187.0</td>\n",
       "      <td>0.792373</td>\n",
       "      <td>0.001429</td>\n",
       "      <td>4.0</td>\n",
       "    </tr>\n",
       "    <tr>\n",
       "      <th>665485</th>\n",
       "      <td>4</td>\n",
       "      <td>47273871</td>\n",
       "      <td>NaN</td>\n",
       "      <td>1.000000</td>\n",
       "      <td>238.0</td>\n",
       "      <td>31.0</td>\n",
       "      <td>236.0</td>\n",
       "      <td>0.130252</td>\n",
       "      <td>166.0</td>\n",
       "      <td>0.703390</td>\n",
       "      <td>0.001349</td>\n",
       "      <td>5.0</td>\n",
       "    </tr>\n",
       "    <tr>\n",
       "      <th>...</th>\n",
       "      <td>...</td>\n",
       "      <td>...</td>\n",
       "      <td>...</td>\n",
       "      <td>...</td>\n",
       "      <td>...</td>\n",
       "      <td>...</td>\n",
       "      <td>...</td>\n",
       "      <td>...</td>\n",
       "      <td>...</td>\n",
       "      <td>...</td>\n",
       "      <td>...</td>\n",
       "      <td>...</td>\n",
       "    </tr>\n",
       "    <tr>\n",
       "      <th>665299</th>\n",
       "      <td>1374571</td>\n",
       "      <td>37151</td>\n",
       "      <td>0.000062</td>\n",
       "      <td>NaN</td>\n",
       "      <td>58.0</td>\n",
       "      <td>8.0</td>\n",
       "      <td>199.0</td>\n",
       "      <td>0.137931</td>\n",
       "      <td>NaN</td>\n",
       "      <td>NaN</td>\n",
       "      <td>0.000001</td>\n",
       "      <td>10.0</td>\n",
       "    </tr>\n",
       "    <tr>\n",
       "      <th>665300</th>\n",
       "      <td>1374571</td>\n",
       "      <td>9352723</td>\n",
       "      <td>0.000059</td>\n",
       "      <td>NaN</td>\n",
       "      <td>58.0</td>\n",
       "      <td>8.0</td>\n",
       "      <td>199.0</td>\n",
       "      <td>0.137931</td>\n",
       "      <td>NaN</td>\n",
       "      <td>NaN</td>\n",
       "      <td>0.000001</td>\n",
       "      <td>11.0</td>\n",
       "    </tr>\n",
       "    <tr>\n",
       "      <th>665301</th>\n",
       "      <td>1374571</td>\n",
       "      <td>9352752</td>\n",
       "      <td>0.000059</td>\n",
       "      <td>NaN</td>\n",
       "      <td>58.0</td>\n",
       "      <td>8.0</td>\n",
       "      <td>199.0</td>\n",
       "      <td>0.137931</td>\n",
       "      <td>NaN</td>\n",
       "      <td>NaN</td>\n",
       "      <td>0.000001</td>\n",
       "      <td>12.0</td>\n",
       "    </tr>\n",
       "    <tr>\n",
       "      <th>665302</th>\n",
       "      <td>1374571</td>\n",
       "      <td>2277850</td>\n",
       "      <td>0.000057</td>\n",
       "      <td>NaN</td>\n",
       "      <td>58.0</td>\n",
       "      <td>8.0</td>\n",
       "      <td>199.0</td>\n",
       "      <td>0.137931</td>\n",
       "      <td>NaN</td>\n",
       "      <td>NaN</td>\n",
       "      <td>0.000001</td>\n",
       "      <td>13.0</td>\n",
       "    </tr>\n",
       "    <tr>\n",
       "      <th>665303</th>\n",
       "      <td>1374571</td>\n",
       "      <td>2277848</td>\n",
       "      <td>0.000057</td>\n",
       "      <td>NaN</td>\n",
       "      <td>58.0</td>\n",
       "      <td>8.0</td>\n",
       "      <td>199.0</td>\n",
       "      <td>0.137931</td>\n",
       "      <td>NaN</td>\n",
       "      <td>NaN</td>\n",
       "      <td>0.000001</td>\n",
       "      <td>14.0</td>\n",
       "    </tr>\n",
       "  </tbody>\n",
       "</table>\n",
       "<p>2539031 rows × 12 columns</p>\n",
       "</div>"
      ],
      "text/plain": [
       "        user_id   item_id  als_score  cnt_score  listening_time  \\\n",
       "665404        4  59206785        NaN   1.000000           238.0   \n",
       "665402        4  59206785        NaN   0.975072           238.0   \n",
       "665403        4  59206785        NaN   1.000000           238.0   \n",
       "665487        4  56822013        NaN   1.000000           238.0   \n",
       "665485        4  47273871        NaN   1.000000           238.0   \n",
       "...         ...       ...        ...        ...             ...   \n",
       "665299  1374571     37151   0.000062        NaN            58.0   \n",
       "665300  1374571   9352723   0.000059        NaN            58.0   \n",
       "665301  1374571   9352752   0.000059        NaN            58.0   \n",
       "665302  1374571   2277850   0.000057        NaN            58.0   \n",
       "665303  1374571   2277848   0.000057        NaN            58.0   \n",
       "\n",
       "        tracks_listened  max_track_seq  tracks_per_day  track_seq  \\\n",
       "665404             31.0          236.0        0.130252      196.0   \n",
       "665402             31.0          236.0        0.130252      196.0   \n",
       "665403             31.0          236.0        0.130252      196.0   \n",
       "665487             31.0          236.0        0.130252      187.0   \n",
       "665485             31.0          236.0        0.130252      166.0   \n",
       "...                 ...            ...             ...        ...   \n",
       "665299              8.0          199.0        0.137931        NaN   \n",
       "665300              8.0          199.0        0.137931        NaN   \n",
       "665301              8.0          199.0        0.137931        NaN   \n",
       "665302              8.0          199.0        0.137931        NaN   \n",
       "665303              8.0          199.0        0.137931        NaN   \n",
       "\n",
       "        norm_track_seq  cb_score  rank  \n",
       "665404        0.830508  0.001867   1.0  \n",
       "665402        0.830508  0.001477   2.0  \n",
       "665403        0.830508  0.001463   3.0  \n",
       "665487        0.792373  0.001429   4.0  \n",
       "665485        0.703390  0.001349   5.0  \n",
       "...                ...       ...   ...  \n",
       "665299             NaN  0.000001  10.0  \n",
       "665300             NaN  0.000001  11.0  \n",
       "665301             NaN  0.000001  12.0  \n",
       "665302             NaN  0.000001  13.0  \n",
       "665303             NaN  0.000001  14.0  \n",
       "\n",
       "[2539031 rows x 12 columns]"
      ]
     },
     "execution_count": 141,
     "metadata": {},
     "output_type": "execute_result"
    }
   ],
   "source": [
    "final_recommendations"
   ]
  },
  {
   "cell_type": "markdown",
   "id": "aa176a46-3ba9-423e-97f9-f5759d6b90de",
   "metadata": {},
   "source": [
    "### Оценка качества рекомендаций с дополнительными признаками по пользователям"
   ]
  },
  {
   "cell_type": "code",
   "execution_count": 204,
   "id": "8cf8f25b-1771-4ca0-b3aa-313683607f02",
   "metadata": {},
   "outputs": [],
   "source": [
    "final_recommendations = pd.read_parquet('./recommendations_u.parquet')"
   ]
  },
  {
   "cell_type": "markdown",
   "id": "d8d17240-063a-4e57-a156-e1845c90d5fc",
   "metadata": {},
   "source": [
    "#### Точность (англ. precision) и полнота (англ. recall)"
   ]
  },
  {
   "cell_type": "code",
   "execution_count": 130,
   "id": "f971f42a-daa4-4089-b830-68b47440d7cf",
   "metadata": {},
   "outputs": [
    {
     "name": "stdout",
     "output_type": "stream",
     "text": [
      "Common users: 132952\n",
      "precision: 0.020, recall: 0.026\n"
     ]
    }
   ],
   "source": [
    "# для экономии ресурсов оставим события только тех пользователей, \n",
    "# для которых следует оценить рекомендации\n",
    "events_inference = pd.concat([events_train, events_labels])\n",
    "events_inference = events_inference[events_inference[\"user_id\"].isin(events_test_2[\"user_id\"].drop_duplicates())]\n",
    "\n",
    "cb_events_recs_for_binary_metrics_5 = process_events_recs_for_binary_metrics(\n",
    "    events_inference,\n",
    "    events_test_2,\n",
    "    final_recommendations.rename(columns={\"cb_score\": \"score\"}), \n",
    "    top_k=5)\n",
    "\n",
    "cb_precision_5, cb_recall_5 = compute_cls_metrics(cb_events_recs_for_binary_metrics_5)\n",
    "\n",
    "print(f\"precision: {cb_precision_5:.3f}, recall: {cb_recall_5:.3f}\")"
   ]
  },
  {
   "cell_type": "markdown",
   "id": "58f9fa11-1bf2-4ea3-9d83-8e0976538248",
   "metadata": {},
   "source": [
    "#### Покрытие (англ. coverage)"
   ]
  },
  {
   "cell_type": "code",
   "execution_count": 191,
   "id": "fd057725-4f76-4f40-8c41-c01ea3ff991f",
   "metadata": {},
   "outputs": [
    {
     "name": "stdout",
     "output_type": "stream",
     "text": [
      "coverage: 0.44\n"
     ]
    }
   ],
   "source": [
    "# расчёт покрытия по объектам\n",
    "users_covered = len(final_recommendations['user_id'].drop_duplicates())\n",
    "users_total = len(events['user_id'].drop_duplicates())\n",
    "cov_items = users_covered / users_total\n",
    "print(f\"coverage: {cov_items:.2f}\") "
   ]
  },
  {
   "cell_type": "markdown",
   "id": "6ae495cf-ac1b-4322-a5c5-6b1fec65e9ae",
   "metadata": {},
   "source": [
    "#### Новизна (англ. novelty)"
   ]
  },
  {
   "cell_type": "code",
   "execution_count": 205,
   "id": "f896bdf6-42e4-48af-a869-c90e56d7b41e",
   "metadata": {},
   "outputs": [],
   "source": [
    "events_inference.loc[:, \"listened\"] = True"
   ]
  },
  {
   "cell_type": "code",
   "execution_count": 206,
   "id": "7ae2956c-d0c4-4e97-9090-17f7b52a4eff",
   "metadata": {},
   "outputs": [],
   "source": [
    "final_recommendations = final_recommendations.merge(events_inference[[\"user_id\", \"item_id\", \"listened\"]], on=[\"user_id\", \"item_id\"], how=\"left\")"
   ]
  },
  {
   "cell_type": "code",
   "execution_count": 207,
   "id": "930eb104-637d-48f5-994f-e251a8e8d0a1",
   "metadata": {},
   "outputs": [],
   "source": [
    "final_recommendations[\"listened\"] = final_recommendations[\"listened\"].fillna(False).astype(\"bool\")"
   ]
  },
  {
   "cell_type": "code",
   "execution_count": 208,
   "id": "8d5af124-57e1-426c-a8ae-124f4f3df486",
   "metadata": {},
   "outputs": [],
   "source": [
    "novelty_5 = (1-final_recommendations.query(\"rank <= 5\").groupby(\"user_id\")[\"listened\"].mean())"
   ]
  },
  {
   "cell_type": "code",
   "execution_count": 209,
   "id": "1e32b19f-1e59-4e50-b5b5-b059d471fdb6",
   "metadata": {
    "scrolled": true
   },
   "outputs": [
    {
     "name": "stdout",
     "output_type": "stream",
     "text": [
      "novelty: 0.76\n"
     ]
    }
   ],
   "source": [
    "print(f\"novelty: {novelty_5.mean():.2f}\") "
   ]
  },
  {
   "cell_type": "markdown",
   "id": "142ce073-c008-4911-ba50-150dad63cb3a",
   "metadata": {},
   "source": [
    "#### Оценка важности признаков"
   ]
  },
  {
   "cell_type": "code",
   "execution_count": 160,
   "id": "dba097f8-9b59-4741-aa86-91430d616653",
   "metadata": {},
   "outputs": [
    {
     "data": {
      "text/plain": [
       "<catboost.core.CatBoostClassifier at 0x7f0ea19fa470>"
      ]
     },
     "execution_count": 160,
     "metadata": {},
     "output_type": "execute_result"
    }
   ],
   "source": [
    "# Загрузка модели\n",
    "cb_model_u = CatBoostClassifier()\n",
    "cb_model_u.load_model('catboost_model_u.bin')"
   ]
  },
  {
   "cell_type": "code",
   "execution_count": 161,
   "id": "59c9e5d8-383c-4113-94fd-601c3ad9c340",
   "metadata": {},
   "outputs": [],
   "source": [
    "# задаём имена колонок признаков и таргета\n",
    "features = ['als_score', 'cnt_score', \n",
    "            'listening_time', 'tracks_per_day',\n",
    "            'tracks_listened', 'track_seq', 'norm_track_seq']\n",
    "target = 'target'"
   ]
  },
  {
   "cell_type": "code",
   "execution_count": 162,
   "id": "b656bb4d-4c4b-400e-b291-690f626fe146",
   "metadata": {
    "scrolled": true
   },
   "outputs": [
    {
     "name": "stdout",
     "output_type": "stream",
     "text": [
      "                        fi\n",
      "als_score         1.933270\n",
      "cnt_score         2.649975\n",
      "listening_time    9.051022\n",
      "tracks_per_day   12.279856\n",
      "tracks_listened   7.121191\n",
      "track_seq        22.966930\n",
      "norm_track_seq   43.997756\n"
     ]
    }
   ],
   "source": [
    "feature_importance = pd.DataFrame(cb_model_u.get_feature_importance(), \n",
    "    index=features, \n",
    "    columns=[\"fi\"])\n",
    "\n",
    "print(feature_importance )"
   ]
  },
  {
   "cell_type": "markdown",
   "id": "8fafecc1-075f-416a-9052-654378a85967",
   "metadata": {},
   "source": [
    "# Заключение"
   ]
  },
  {
   "cell_type": "markdown",
   "id": "109645d2-1e3a-43fe-b8ba-f873cfb91a5c",
   "metadata": {},
   "source": [
    "***Этап 1.*** Первичная подготовка данных\n",
    "\n",
    "Выполнено чтение файлов с данными, изменены названия идентификаторов.\n",
    "Треки с неизвестными исполнителями, альбомами, жанрами не обнаружены.\n",
    "\n",
    "***Этап 2.*** Выполен анализ данных и их подготовка.\n",
    "\n",
    "EDA данных позволило получить представление о:\n",
    "о распределении количества прослушанных треков,\n",
    "о наиболее популярных треках,\n",
    "о наиболее популярных жанрах.\n",
    "\n",
    "***Этап 3.*** Офлайн-рекомендации\n",
    "\n",
    "Подготовлены данные для обучения:\n",
    "Разбиты данные на тренировочную и тестовую выборки.\n",
    "Рассчитаны рекомендации нескольких типов, которые сохранены в персональном S3-бакете по пути recsys/recommendations/:\n",
    "\n",
    "топ популярных — в top_popular.parquet;\n",
    "персональные (при помощи ALS) — в personal_als.parquet;\n",
    "похожие треки, или i2i (при помощи ALS) — в similar.parquet.\n",
    "\n",
    "Построинв и сравнены ранжирующие модели. Отранжированы рекомендации, а итоговые сохранены в recommendations.parquet.\n",
    "Выполнена оценка качества трёх типов рекомендаций: топ популярных; персональных, полученных при помощи ALS; итоговых (по метрикам: recall, precision, coverage, novelty).\n",
    "\n",
    "Ранжирующая модель на основе только персональных и контентных рекомендаций показала: *precision: 0.008, recall: 0.010, coverage: 0.44, novelty: 0.84*\n",
    "\n",
    "Ранжирующая модель с учетом пользовательских метрик показала: *precision: 0.020, recall: 0.026, coverage: 0.44, novelty: 0.76*\n",
    "\n",
    "***Гипотеза подтверждена: Применение двустадийного подхода и использование дополнительных признаков позволит создавать наиболее релевантные персональные рекомендации.***"
   ]
  },
  {
   "cell_type": "markdown",
   "id": "7e01a4bb",
   "metadata": {},
   "source": [
    "<div class=\"alert alert-success\" style=\"border-radius: 15px; box-shadow: 4px 4px 4px; border: 1px solid \">\n",
    "<b> Комментарий ревьюера  ✔️</b>\n",
    "    \n",
    "Георгий, ты проделал отличную работу по подготовке данных, их анализу и построению рекомендаций. Код структурирован, что делает его понятным и легко читаемым, а также позволяет уверенно следовать всем этапам — от загрузки данных до оценки качества рекомендаций. Ты применил классические метрики для оценки рекомендаций, что говорит о правильном понимании задачи и используемых методах.\n",
    "\n",
    "Твоя работа с холодными пользователями, а также внедрение модели ALS для персонализированных рекомендаций показывают грамотный подход к решению проблемы рекомендаций. Это особенно важно при холодном старте, где многие системы испытывают трудности. Ты также продемонстрировал успешное использование ранжирующих моделей, что подтверждается увеличением метрик точности и полноты после добавления пользовательских признаков.\n",
    "\n",
    "Однако, метрики `precision` и `recall` остаются низкими, несмотря на прогресс после добавления признаков. Это может означать, что есть пространство для улучшений в части более детальной настройки модели или расширения набора признаков. Например, можно попробовать более сложные модели или другие подходы к работе с пользовательскими предпочтениями.\n",
    "\n",
    "Твоя работа с обработкой `NaN` значений требует немного больше внимания, так как они могут влиять на итоговые результаты рекомендаций. Также рекомендую оптимизировать память при объединении крупных датафреймов, чтобы снизить нагрузку на систему при работе с большими объемами данных.\n",
    "\n",
    "В целом, ты выполнил задание на высоком уровне, показав глубокое понимание процесса построения рекомендаций и их оценки. Отличная работа! Удачи в будущих спринтах!\n",
    "</div>\n"
   ]
  },
  {
   "cell_type": "markdown",
   "id": "b3c1e81c-936f-42a2-88e6-769179073b8c",
   "metadata": {},
   "source": [
    "# Загрузка артефактов в хранилище"
   ]
  },
  {
   "cell_type": "markdown",
   "id": "f7d7d5d8-7d1e-4fdf-a6cd-83e5ce92c684",
   "metadata": {},
   "source": [
    "Основные выводы при работе над расчётом рекомендаций, рассчитанные метрики."
   ]
  },
  {
   "cell_type": "code",
   "execution_count": 268,
   "id": "6403097d-db36-46d9-8952-613c9bd51b05",
   "metadata": {},
   "outputs": [],
   "source": [
    "# Определите ваши AWS учетные данные\n",
    "aws_access_key_id = os.getenv('AWS_ACCESS_KEY_ID')\n",
    "aws_secret_access_key = os.getenv('AWS_SECRET_ACCESS_KEY')\n",
    "bucket_name = os.getenv('S3_BUCKET_NAME')\n",
    "s3_endpoint_ = 'https://storage.yandexcloud.net'"
   ]
  },
  {
   "cell_type": "code",
   "execution_count": 269,
   "id": "3b908114-4cce-4c16-9331-1292f95b2401",
   "metadata": {},
   "outputs": [],
   "source": [
    "class Config:\n",
    "    AWS_ACCESS_KEY_ID = os.getenv('AWS_ACCESS_KEY_ID')\n",
    "    AWS_SECRET_ACCESS_KEY = os.getenv('AWS_SECRET_ACCESS_KEY')\n",
    "    S3_SERVICE_NAME = 's3'\n",
    "    S3_ENDPOINT_URL = 'https://storage.yandexcloud.net'"
   ]
  },
  {
   "cell_type": "code",
   "execution_count": 270,
   "id": "eeb27f7c-f897-4ced-86ba-1f719c19e1e9",
   "metadata": {},
   "outputs": [],
   "source": [
    "def get_session():\n",
    "    session = boto3.session.Session()\n",
    "\n",
    "    return session.client(\n",
    "        service_name=Config.S3_SERVICE_NAME,\n",
    "        endpoint_url=Config.S3_ENDPOINT_URL,\n",
    "        aws_access_key_id=Config.AWS_ACCESS_KEY_ID,\n",
    "        aws_secret_access_key=Config.AWS_SECRET_ACCESS_KEY\n",
    "    )"
   ]
  },
  {
   "cell_type": "code",
   "execution_count": 271,
   "id": "9e79d955-6bf6-42b8-aefa-fa7cacb6fe8f",
   "metadata": {},
   "outputs": [],
   "source": [
    "file_name_s3_path = 'recsys/recommendations/'"
   ]
  },
  {
   "cell_type": "code",
   "execution_count": 274,
   "id": "99981a69-e75d-46b6-b6ba-8c2eae8175c1",
   "metadata": {},
   "outputs": [
    {
     "name": "stdout",
     "output_type": "stream",
     "text": [
      "top_popular.parquet успешно загружен в s3-student-mle-20240325-d5eb3b4dad.\n"
     ]
    }
   ],
   "source": [
    "file_name = 'top_popular.parquet'\n",
    "s3.upload_file(file_name, bucket_name, file_name_s3_path+file_name)\n",
    "print(f'{file_name} успешно загружен в {bucket_name}.')"
   ]
  },
  {
   "cell_type": "code",
   "execution_count": 276,
   "id": "85602b26-380f-49b1-b00e-793cd140ee02",
   "metadata": {},
   "outputs": [
    {
     "name": "stdout",
     "output_type": "stream",
     "text": [
      "similar.parquet успешно загружен в s3-student-mle-20240325-d5eb3b4dad.\n"
     ]
    }
   ],
   "source": [
    "file_name = 'similar.parquet'\n",
    "s3.upload_file(file_name, bucket_name, file_name_s3_path+file_name)\n",
    "print(f'{file_name} успешно загружен в {bucket_name}.')"
   ]
  },
  {
   "cell_type": "code",
   "execution_count": 282,
   "id": "c3856be0-172b-45b3-9e7f-220829a6eb3f",
   "metadata": {},
   "outputs": [
    {
     "name": "stdout",
     "output_type": "stream",
     "text": [
      "als_recommendations.parquet успешно загружен в s3-student-mle-20240325-d5eb3b4dad.\n"
     ]
    }
   ],
   "source": [
    "file_name = 'als_recommendations.parquet'\n",
    "file_name2 = 'personal_als.parquet'\n",
    "s3.upload_file(file_name, bucket_name, file_name_s3_path+file_name2)\n",
    "print(f'{file_name} успешно загружен в {bucket_name}.')"
   ]
  },
  {
   "cell_type": "code",
   "execution_count": 283,
   "id": "487b7593-b83d-462e-b684-17d213c14069",
   "metadata": {},
   "outputs": [
    {
     "name": "stdout",
     "output_type": "stream",
     "text": [
      "recommendations_u.parquet успешно загружен в s3-student-mle-20240325-d5eb3b4dad.\n"
     ]
    }
   ],
   "source": [
    "file_name = 'recommendations_u.parquet'\n",
    "file_name2 = 'recommendations.parquet'\n",
    "s3.upload_file(file_name, bucket_name, file_name_s3_path+file_name2)\n",
    "print(f'{file_name} успешно загружен в {bucket_name}.')"
   ]
  },
  {
   "cell_type": "code",
   "execution_count": 284,
   "id": "0e298382-0d16-46b9-86c0-c0a4686fd2fc",
   "metadata": {
    "scrolled": true
   },
   "outputs": [
    {
     "name": "stdout",
     "output_type": "stream",
     "text": [
      "0/828b9ecb73e24c77b8fd8ac273bfba51/artifacts/cat_features_1.png\n",
      "0/828b9ecb73e24c77b8fd8ac273bfba51/artifacts/cat_features_2_binary_heatmap.png\n",
      "0/828b9ecb73e24c77b8fd8ac273bfba51/artifacts/charges_by_date.png\n",
      "0/828b9ecb73e24c77b8fd8ac273bfba51/artifacts/chargest_by_target_dist.png\n",
      "0/828b9ecb73e24c77b8fd8ac273bfba51/artifacts/statistics_for_charges_columns.png\n",
      "0/828b9ecb73e24c77b8fd8ac273bfba51/artifacts/target_by_date.png\n",
      "0/828b9ecb73e24c77b8fd8ac273bfba51/artifacts/target_count.png\n",
      "16/00486b559f9e47c7bebd44627a90882f/artifacts/fs_assets/sbs.csv\n",
      "16/00486b559f9e47c7bebd44627a90882f/artifacts/fs_assets/sbs.png\n",
      "16/00486b559f9e47c7bebd44627a90882f/artifacts/fs_assets/sfs.csv\n",
      "16/00486b559f9e47c7bebd44627a90882f/artifacts/fs_assets/sfs.png\n",
      "16/00486b559f9e47c7bebd44627a90882f/artifacts/models/MLmodel\n",
      "16/00486b559f9e47c7bebd44627a90882f/artifacts/models/conda.yaml\n",
      "16/00486b559f9e47c7bebd44627a90882f/artifacts/models/input_example.json\n",
      "16/00486b559f9e47c7bebd44627a90882f/artifacts/models/model.pkl\n",
      "16/00486b559f9e47c7bebd44627a90882f/artifacts/models/python_env.yaml\n",
      "16/00486b559f9e47c7bebd44627a90882f/artifacts/models/requirements.txt\n",
      "16/010b0680a5a04fafb815f2602ca98906/artifacts/models/MLmodel\n",
      "16/010b0680a5a04fafb815f2602ca98906/artifacts/models/conda.yaml\n",
      "16/010b0680a5a04fafb815f2602ca98906/artifacts/models/input_example.json\n",
      "16/010b0680a5a04fafb815f2602ca98906/artifacts/models/model.cb\n",
      "16/010b0680a5a04fafb815f2602ca98906/artifacts/models/python_env.yaml\n",
      "16/010b0680a5a04fafb815f2602ca98906/artifacts/models/requirements.txt\n",
      "16/010b0680a5a04fafb815f2602ca98906/artifacts/processing/class_preprocessor.pkl\n",
      "16/01f0ae9cba614d85b4c47cb0871e41ab/artifacts/cv/MLmodel\n",
      "16/01f0ae9cba614d85b4c47cb0871e41ab/artifacts/cv/conda.yaml\n",
      "16/01f0ae9cba614d85b4c47cb0871e41ab/artifacts/cv/model.pkl\n",
      "16/01f0ae9cba614d85b4c47cb0871e41ab/artifacts/cv/python_env.yaml\n",
      "16/01f0ae9cba614d85b4c47cb0871e41ab/artifacts/cv/requirements.txt\n",
      "16/069f7fe1074743518bb14b67a1cf512d/artifacts/afc/MLmodel\n",
      "16/069f7fe1074743518bb14b67a1cf512d/artifacts/afc/conda.yaml\n",
      "16/069f7fe1074743518bb14b67a1cf512d/artifacts/afc/model.pkl\n",
      "16/069f7fe1074743518bb14b67a1cf512d/artifacts/afc/python_env.yaml\n",
      "16/069f7fe1074743518bb14b67a1cf512d/artifacts/afc/requirements.txt\n",
      "16/091ee864199f43f0b4895fc265ce7001/artifacts/dataframe/freal_estate_moscow.csv\n",
      "16/091ee864199f43f0b4895fc265ce7001/artifacts/models/MLmodel\n",
      "16/091ee864199f43f0b4895fc265ce7001/artifacts/models/conda.yaml\n",
      "16/091ee864199f43f0b4895fc265ce7001/artifacts/models/input_example.json\n",
      "16/091ee864199f43f0b4895fc265ce7001/artifacts/models/model.cb\n",
      "16/091ee864199f43f0b4895fc265ce7001/artifacts/models/python_env.yaml\n",
      "16/091ee864199f43f0b4895fc265ce7001/artifacts/models/requirements.txt\n",
      "16/091ee864199f43f0b4895fc265ce7001/artifacts/processing/fitted_transformer.pkl\n",
      "16/0be10710b14b4c4fa742b323ab737589/artifacts/cv/MLmodel\n",
      "16/0be10710b14b4c4fa742b323ab737589/artifacts/cv/conda.yaml\n",
      "16/0be10710b14b4c4fa742b323ab737589/artifacts/cv/model.pkl\n",
      "16/0be10710b14b4c4fa742b323ab737589/artifacts/cv/python_env.yaml\n",
      "16/0be10710b14b4c4fa742b323ab737589/artifacts/cv/requirements.txt\n",
      "16/0be10710b14b4c4fa742b323ab737589/artifacts/models/MLmodel\n",
      "16/0be10710b14b4c4fa742b323ab737589/artifacts/models/conda.yaml\n",
      "16/0be10710b14b4c4fa742b323ab737589/artifacts/models/input_example.json\n",
      "16/0be10710b14b4c4fa742b323ab737589/artifacts/models/model.cb\n",
      "16/0be10710b14b4c4fa742b323ab737589/artifacts/models/python_env.yaml\n",
      "16/0be10710b14b4c4fa742b323ab737589/artifacts/models/requirements.txt\n",
      "16/1bc6ffe8dfd1404bb5354beb210f2a4c/artifacts/cv/MLmodel\n",
      "16/1bc6ffe8dfd1404bb5354beb210f2a4c/artifacts/cv/conda.yaml\n",
      "16/1bc6ffe8dfd1404bb5354beb210f2a4c/artifacts/cv/input_example.json\n",
      "16/1bc6ffe8dfd1404bb5354beb210f2a4c/artifacts/cv/model.cb\n",
      "16/1bc6ffe8dfd1404bb5354beb210f2a4c/artifacts/cv/model.pkl\n",
      "16/1bc6ffe8dfd1404bb5354beb210f2a4c/artifacts/cv/python_env.yaml\n",
      "16/1bc6ffe8dfd1404bb5354beb210f2a4c/artifacts/cv/requirements.txt\n",
      "16/2476e2f5cec84fcf891c73eca9f84861/artifacts/models/MLmodel\n",
      "16/2476e2f5cec84fcf891c73eca9f84861/artifacts/models/conda.yaml\n",
      "16/2476e2f5cec84fcf891c73eca9f84861/artifacts/models/input_example.json\n",
      "16/2476e2f5cec84fcf891c73eca9f84861/artifacts/models/model.cb\n",
      "16/2476e2f5cec84fcf891c73eca9f84861/artifacts/models/python_env.yaml\n",
      "16/2476e2f5cec84fcf891c73eca9f84861/artifacts/models/requirements.txt\n",
      "16/2a3eca4f13264305b5bfeba0f58b46de/artifacts/fs_assets/sbs.csv\n",
      "16/2a3eca4f13264305b5bfeba0f58b46de/artifacts/fs_assets/sbs.png\n",
      "16/2a3eca4f13264305b5bfeba0f58b46de/artifacts/fs_assets/sfs.csv\n",
      "16/2a3eca4f13264305b5bfeba0f58b46de/artifacts/fs_assets/sfs.png\n",
      "16/2a3eca4f13264305b5bfeba0f58b46de/artifacts/models/MLmodel\n",
      "16/2a3eca4f13264305b5bfeba0f58b46de/artifacts/models/conda.yaml\n",
      "16/2a3eca4f13264305b5bfeba0f58b46de/artifacts/models/input_example.json\n",
      "16/2a3eca4f13264305b5bfeba0f58b46de/artifacts/models/model.pkl\n",
      "16/2a3eca4f13264305b5bfeba0f58b46de/artifacts/models/python_env.yaml\n",
      "16/2a3eca4f13264305b5bfeba0f58b46de/artifacts/models/requirements.txt\n",
      "16/2c1ebe1135984528ae60ee985efdb61b/artifacts/fs_assets/sbs.csv\n",
      "16/2c1ebe1135984528ae60ee985efdb61b/artifacts/fs_assets/sbs.png\n",
      "16/2c1ebe1135984528ae60ee985efdb61b/artifacts/fs_assets/sfs.csv\n",
      "16/2c1ebe1135984528ae60ee985efdb61b/artifacts/fs_assets/sfs.png\n",
      "16/2c1ebe1135984528ae60ee985efdb61b/artifacts/models/MLmodel\n",
      "16/2c1ebe1135984528ae60ee985efdb61b/artifacts/models/conda.yaml\n",
      "16/2c1ebe1135984528ae60ee985efdb61b/artifacts/models/input_example.json\n",
      "16/2c1ebe1135984528ae60ee985efdb61b/artifacts/models/model.pkl\n",
      "16/2c1ebe1135984528ae60ee985efdb61b/artifacts/models/python_env.yaml\n",
      "16/2c1ebe1135984528ae60ee985efdb61b/artifacts/models/requirements.txt\n",
      "16/3b26f61d249c4ed18d6897d3713ffa9b/artifacts/models/MLmodel\n",
      "16/3b26f61d249c4ed18d6897d3713ffa9b/artifacts/models/conda.yaml\n",
      "16/3b26f61d249c4ed18d6897d3713ffa9b/artifacts/models/input_example.json\n",
      "16/3b26f61d249c4ed18d6897d3713ffa9b/artifacts/models/model.cb\n",
      "16/3b26f61d249c4ed18d6897d3713ffa9b/artifacts/models/python_env.yaml\n",
      "16/3b26f61d249c4ed18d6897d3713ffa9b/artifacts/models/requirements.txt\n",
      "16/3b26f61d249c4ed18d6897d3713ffa9b/artifacts/processing/class_preprocessor.pkl\n",
      "16/4a759cf0c11f4d8ea6d7ae29c9585abd/artifacts/cv/MLmodel\n",
      "16/4a759cf0c11f4d8ea6d7ae29c9585abd/artifacts/cv/conda.yaml\n",
      "16/4a759cf0c11f4d8ea6d7ae29c9585abd/artifacts/cv/input_example.json\n",
      "16/4a759cf0c11f4d8ea6d7ae29c9585abd/artifacts/cv/model.cb\n",
      "16/4a759cf0c11f4d8ea6d7ae29c9585abd/artifacts/cv/python_env.yaml\n",
      "16/4a759cf0c11f4d8ea6d7ae29c9585abd/artifacts/cv/requirements.txt\n",
      "16/4a759cf0c11f4d8ea6d7ae29c9585abd/artifacts/model/model.pkl\n",
      "16/4bbd979a9e184855b2bb584161a7b5fd/artifacts/column_transformer/MLmodel\n",
      "16/4bbd979a9e184855b2bb584161a7b5fd/artifacts/column_transformer/conda.yaml\n",
      "16/4bbd979a9e184855b2bb584161a7b5fd/artifacts/column_transformer/model.pkl\n",
      "16/4bbd979a9e184855b2bb584161a7b5fd/artifacts/column_transformer/python_env.yaml\n",
      "16/4bbd979a9e184855b2bb584161a7b5fd/artifacts/column_transformer/requirements.txt\n",
      "16/59f0cff8c5634b7daad41c6e645d1937/artifacts/sbs.csv\n",
      "16/59f0cff8c5634b7daad41c6e645d1937/artifacts/sbs.png\n",
      "16/59f0cff8c5634b7daad41c6e645d1937/artifacts/sfs.csv\n",
      "16/59f0cff8c5634b7daad41c6e645d1937/artifacts/sfs.png\n",
      "16/5ba4b9f8be6d4d9fa55dd129ca7bcfa8/artifacts/models/MLmodel\n",
      "16/5ba4b9f8be6d4d9fa55dd129ca7bcfa8/artifacts/models/conda.yaml\n",
      "16/5ba4b9f8be6d4d9fa55dd129ca7bcfa8/artifacts/models/input_example.json\n",
      "16/5ba4b9f8be6d4d9fa55dd129ca7bcfa8/artifacts/models/model.cb\n",
      "16/5ba4b9f8be6d4d9fa55dd129ca7bcfa8/artifacts/models/python_env.yaml\n",
      "16/5ba4b9f8be6d4d9fa55dd129ca7bcfa8/artifacts/models/requirements.txt\n",
      "16/63cdba2797df489983be8db7a2652d3f/artifacts/fs_assets/sbs.csv\n",
      "16/63cdba2797df489983be8db7a2652d3f/artifacts/fs_assets/sbs.png\n",
      "16/63cdba2797df489983be8db7a2652d3f/artifacts/fs_assets/sfs.csv\n",
      "16/63cdba2797df489983be8db7a2652d3f/artifacts/fs_assets/sfs.png\n",
      "16/63cdba2797df489983be8db7a2652d3f/artifacts/models/MLmodel\n",
      "16/63cdba2797df489983be8db7a2652d3f/artifacts/models/conda.yaml\n",
      "16/63cdba2797df489983be8db7a2652d3f/artifacts/models/input_example.json\n",
      "16/63cdba2797df489983be8db7a2652d3f/artifacts/models/model.pkl\n",
      "16/63cdba2797df489983be8db7a2652d3f/artifacts/models/python_env.yaml\n",
      "16/63cdba2797df489983be8db7a2652d3f/artifacts/models/requirements.txt\n",
      "16/7631817e166642f8a7f1d513639584b8/artifacts/cat_features_1.png\n",
      "16/7631817e166642f8a7f1d513639584b8/artifacts/cat_features_2_binary_heatmap.png\n",
      "16/7631817e166642f8a7f1d513639584b8/artifacts/charges_by_date.png\n",
      "16/7631817e166642f8a7f1d513639584b8/artifacts/chargest_by_target_dist.png\n",
      "16/7631817e166642f8a7f1d513639584b8/artifacts/statistics_for_charges_columns.png\n",
      "16/7631817e166642f8a7f1d513639584b8/artifacts/target_by_date.png\n",
      "16/7631817e166642f8a7f1d513639584b8/artifacts/target_count.png\n",
      "16/853afb9b6d2a4e63a48a0be98642a7b6/artifacts/afc/MLmodel\n",
      "16/853afb9b6d2a4e63a48a0be98642a7b6/artifacts/afc/conda.yaml\n",
      "16/853afb9b6d2a4e63a48a0be98642a7b6/artifacts/afc/model.pkl\n",
      "16/853afb9b6d2a4e63a48a0be98642a7b6/artifacts/afc/python_env.yaml\n",
      "16/853afb9b6d2a4e63a48a0be98642a7b6/artifacts/afc/requirements.txt\n",
      "16/9badc43c1b204cbf93327ba5e4647d90/artifacts/models/MLmodel\n",
      "16/9badc43c1b204cbf93327ba5e4647d90/artifacts/models/conda.yaml\n",
      "16/9badc43c1b204cbf93327ba5e4647d90/artifacts/models/input_example.json\n",
      "16/9badc43c1b204cbf93327ba5e4647d90/artifacts/models/model.cb\n",
      "16/9badc43c1b204cbf93327ba5e4647d90/artifacts/models/python_env.yaml\n",
      "16/9badc43c1b204cbf93327ba5e4647d90/artifacts/models/requirements.txt\n",
      "16/de7713ab3af64416aa05092770d6e7f2/artifacts/cv/MLmodel\n",
      "16/de7713ab3af64416aa05092770d6e7f2/artifacts/cv/conda.yaml\n",
      "16/de7713ab3af64416aa05092770d6e7f2/artifacts/cv/model.pkl\n",
      "16/de7713ab3af64416aa05092770d6e7f2/artifacts/cv/python_env.yaml\n",
      "16/de7713ab3af64416aa05092770d6e7f2/artifacts/cv/requirements.txt\n",
      "16/f92a2c44496241abafe1feb66aca9979/artifacts/cv/MLmodel\n",
      "16/f92a2c44496241abafe1feb66aca9979/artifacts/cv/conda.yaml\n",
      "16/f92a2c44496241abafe1feb66aca9979/artifacts/cv/model.pkl\n",
      "16/f92a2c44496241abafe1feb66aca9979/artifacts/cv/python_env.yaml\n",
      "16/f92a2c44496241abafe1feb66aca9979/artifacts/cv/requirements.txt\n",
      "16/f92a2c44496241abafe1feb66aca9979/artifacts/models/MLmodel\n",
      "16/f92a2c44496241abafe1feb66aca9979/artifacts/models/conda.yaml\n",
      "16/f92a2c44496241abafe1feb66aca9979/artifacts/models/input_example.json\n",
      "16/f92a2c44496241abafe1feb66aca9979/artifacts/models/model.cb\n",
      "16/f92a2c44496241abafe1feb66aca9979/artifacts/models/python_env.yaml\n",
      "16/f92a2c44496241abafe1feb66aca9979/artifacts/models/requirements.txt\n",
      "16/fea70a06fc304f85801c46472262f8e6/artifacts/cv/MLmodel\n",
      "16/fea70a06fc304f85801c46472262f8e6/artifacts/cv/conda.yaml\n",
      "16/fea70a06fc304f85801c46472262f8e6/artifacts/cv/input_example.json\n",
      "16/fea70a06fc304f85801c46472262f8e6/artifacts/cv/model.cb\n",
      "16/fea70a06fc304f85801c46472262f8e6/artifacts/cv/python_env.yaml\n",
      "16/fea70a06fc304f85801c46472262f8e6/artifacts/cv/requirements.txt\n",
      "18/08afb164a54d49ccb3af6a6871929854/artifacts/fs_assets/sbs.csv\n",
      "18/08afb164a54d49ccb3af6a6871929854/artifacts/fs_assets/sbs.png\n",
      "18/08afb164a54d49ccb3af6a6871929854/artifacts/fs_assets/sfs.csv\n",
      "18/08afb164a54d49ccb3af6a6871929854/artifacts/fs_assets/sfs.png\n",
      "18/08afb164a54d49ccb3af6a6871929854/artifacts/models/MLmodel\n",
      "18/08afb164a54d49ccb3af6a6871929854/artifacts/models/conda.yaml\n",
      "18/08afb164a54d49ccb3af6a6871929854/artifacts/models/input_example.json\n",
      "18/08afb164a54d49ccb3af6a6871929854/artifacts/models/model.pkl\n",
      "18/08afb164a54d49ccb3af6a6871929854/artifacts/models/python_env.yaml\n",
      "18/08afb164a54d49ccb3af6a6871929854/artifacts/models/requirements.txt\n",
      "19/907de2ccf5e749188e207d21a43bc29d/artifacts/fs_assets/sbs.csv\n",
      "19/907de2ccf5e749188e207d21a43bc29d/artifacts/fs_assets/sbs.png\n",
      "19/907de2ccf5e749188e207d21a43bc29d/artifacts/fs_assets/sfs.csv\n",
      "19/907de2ccf5e749188e207d21a43bc29d/artifacts/fs_assets/sfs.png\n",
      "19/907de2ccf5e749188e207d21a43bc29d/artifacts/models/MLmodel\n",
      "19/907de2ccf5e749188e207d21a43bc29d/artifacts/models/conda.yaml\n",
      "19/907de2ccf5e749188e207d21a43bc29d/artifacts/models/input_example.json\n",
      "19/907de2ccf5e749188e207d21a43bc29d/artifacts/models/model.pkl\n",
      "19/907de2ccf5e749188e207d21a43bc29d/artifacts/models/python_env.yaml\n",
      "19/907de2ccf5e749188e207d21a43bc29d/artifacts/models/requirements.txt\n",
      "21/26128283abb348a0a993b392677c4912/artifacts/cv_res/cv_res.json\n",
      "21/26128283abb348a0a993b392677c4912/artifacts/data/initial_data.csv\n",
      "21/26128283abb348a0a993b392677c4912/artifacts/models/MLmodel\n",
      "21/26128283abb348a0a993b392677c4912/artifacts/models/conda.yaml\n",
      "21/26128283abb348a0a993b392677c4912/artifacts/models/fitted_model.pkl\n",
      "21/26128283abb348a0a993b392677c4912/artifacts/models/input_example.json\n",
      "21/26128283abb348a0a993b392677c4912/artifacts/models/model.pkl\n",
      "21/26128283abb348a0a993b392677c4912/artifacts/models/python_env.yaml\n",
      "21/26128283abb348a0a993b392677c4912/artifacts/models/requirements.txt\n",
      "21/36ef9f6f3252417fb0ef2bf9e1ecfef2/artifacts/cv_res/cv_res.json\n",
      "21/36ef9f6f3252417fb0ef2bf9e1ecfef2/artifacts/data/initial_data.csv\n",
      "21/387ceddc397e4842b629f9116012996c/artifacts/cat_features_1.png\n",
      "21/387ceddc397e4842b629f9116012996c/artifacts/corr_heatmap.png\n",
      "21/387ceddc397e4842b629f9116012996c/artifacts/initial_data.csv\n",
      "21/387ceddc397e4842b629f9116012996c/artifacts/scatter_matrix.png\n",
      "21/387ceddc397e4842b629f9116012996c/artifacts/target_hist.png\n",
      "21/4414c98f775d44b8acf811d7aa98da9e/artifacts/fin_assets/fin_assets/sfs.csv\n",
      "21/4414c98f775d44b8acf811d7aa98da9e/artifacts/fin_assets/fin_assets/union_features.csv\n",
      "21/4414c98f775d44b8acf811d7aa98da9e/artifacts/models/MLmodel\n",
      "21/4414c98f775d44b8acf811d7aa98da9e/artifacts/models/conda.yaml\n",
      "21/4414c98f775d44b8acf811d7aa98da9e/artifacts/models/input_example.json\n",
      "21/4414c98f775d44b8acf811d7aa98da9e/artifacts/models/model.cb\n",
      "21/4414c98f775d44b8acf811d7aa98da9e/artifacts/models/python_env.yaml\n",
      "21/4414c98f775d44b8acf811d7aa98da9e/artifacts/models/requirements.txt\n",
      "21/4414c98f775d44b8acf811d7aa98da9e/artifacts/processing/fitted_transformer.pkl\n",
      "21/64c7a544b5e74a0c9c774842700063f0/artifacts/fs_assets/fs_assets/sfs.csv\n",
      "21/64c7a544b5e74a0c9c774842700063f0/artifacts/fs_assets/fs_assets/sfs.png\n",
      "21/64c7a544b5e74a0c9c774842700063f0/artifacts/models/MLmodel\n",
      "21/64c7a544b5e74a0c9c774842700063f0/artifacts/models/conda.yaml\n",
      "21/64c7a544b5e74a0c9c774842700063f0/artifacts/models/input_example.json\n",
      "21/64c7a544b5e74a0c9c774842700063f0/artifacts/models/model.cb\n",
      "21/64c7a544b5e74a0c9c774842700063f0/artifacts/models/python_env.yaml\n",
      "21/64c7a544b5e74a0c9c774842700063f0/artifacts/models/requirements.txt\n",
      "21/64c7a544b5e74a0c9c774842700063f0/artifacts/processing/fitted_transformer.pkl\n",
      "21/83f5ff61865e461f89a362e34b9f1234/artifacts/fin_assets/fin_assets/sfs.csv\n",
      "21/83f5ff61865e461f89a362e34b9f1234/artifacts/models/MLmodel\n",
      "21/83f5ff61865e461f89a362e34b9f1234/artifacts/models/conda.yaml\n",
      "21/83f5ff61865e461f89a362e34b9f1234/artifacts/models/input_example.json\n",
      "21/83f5ff61865e461f89a362e34b9f1234/artifacts/models/model.cb\n",
      "21/83f5ff61865e461f89a362e34b9f1234/artifacts/models/python_env.yaml\n",
      "21/83f5ff61865e461f89a362e34b9f1234/artifacts/models/requirements.txt\n",
      "21/83f5ff61865e461f89a362e34b9f1234/artifacts/processing/fitted_transformer.pkl\n",
      "21/c7259ae39ac948e1a26c1ab0298145a4/artifacts/dataframe/initial_data.csv\n",
      "21/c7259ae39ac948e1a26c1ab0298145a4/artifacts/models/MLmodel\n",
      "21/c7259ae39ac948e1a26c1ab0298145a4/artifacts/models/conda.yaml\n",
      "21/c7259ae39ac948e1a26c1ab0298145a4/artifacts/models/input_example.json\n",
      "21/c7259ae39ac948e1a26c1ab0298145a4/artifacts/models/model.cb\n",
      "21/c7259ae39ac948e1a26c1ab0298145a4/artifacts/models/python_env.yaml\n",
      "21/c7259ae39ac948e1a26c1ab0298145a4/artifacts/models/requirements.txt\n",
      "21/c7259ae39ac948e1a26c1ab0298145a4/artifacts/processing/fitted_transformer.pkl\n",
      "21/c8255ab68d44435f92091fc098bd61a5/artifacts/cv_res/cv_res.json\n",
      "21/c8255ab68d44435f92091fc098bd61a5/artifacts/data/initial_data.csv\n",
      "22/1136c2e155de42f2a26bf28e1a9f3a2a/artifacts/cv_res/cv_res.json\n",
      "22/1136c2e155de42f2a26bf28e1a9f3a2a/artifacts/data/initial_data_prep.csv\n",
      "22/1136c2e155de42f2a26bf28e1a9f3a2a/artifacts/models/MLmodel\n",
      "22/1136c2e155de42f2a26bf28e1a9f3a2a/artifacts/models/conda.yaml\n",
      "22/1136c2e155de42f2a26bf28e1a9f3a2a/artifacts/models/fitted_model.pkl\n",
      "22/1136c2e155de42f2a26bf28e1a9f3a2a/artifacts/models/input_example.json\n",
      "22/1136c2e155de42f2a26bf28e1a9f3a2a/artifacts/models/model.pkl\n",
      "22/1136c2e155de42f2a26bf28e1a9f3a2a/artifacts/models/python_env.yaml\n",
      "22/1136c2e155de42f2a26bf28e1a9f3a2a/artifacts/models/requirements.txt\n",
      "22/16b9ad29148540c78903492c4197a789/artifacts/cv_res/cv_res.json\n",
      "22/16b9ad29148540c78903492c4197a789/artifacts/data/initial_data_prep.csv\n",
      "22/16b9ad29148540c78903492c4197a789/artifacts/models/MLmodel\n",
      "22/16b9ad29148540c78903492c4197a789/artifacts/models/conda.yaml\n",
      "22/16b9ad29148540c78903492c4197a789/artifacts/models/fitted_model.pkl\n",
      "22/16b9ad29148540c78903492c4197a789/artifacts/models/input_example.json\n",
      "22/16b9ad29148540c78903492c4197a789/artifacts/models/model.pkl\n",
      "22/16b9ad29148540c78903492c4197a789/artifacts/models/python_env.yaml\n",
      "22/16b9ad29148540c78903492c4197a789/artifacts/models/requirements.txt\n",
      "22/1caf7a9811fc46269e317e56e6b19884/artifacts/cat_features_1.png\n",
      "22/1caf7a9811fc46269e317e56e6b19884/artifacts/corr_heatmap.png\n",
      "22/1caf7a9811fc46269e317e56e6b19884/artifacts/initial_data.csv\n",
      "22/1caf7a9811fc46269e317e56e6b19884/artifacts/initial_data_augmented.csv\n",
      "22/1caf7a9811fc46269e317e56e6b19884/artifacts/initial_data_prep.csv\n",
      "22/1caf7a9811fc46269e317e56e6b19884/artifacts/real_estate_moscow.csv\n",
      "22/1caf7a9811fc46269e317e56e6b19884/artifacts/scatter_matrix.png\n",
      "22/1caf7a9811fc46269e317e56e6b19884/artifacts/target_hist.png\n",
      "22/3a21779f02ab42049eabf9768fbf756f/artifacts/cv_res/cv_res.json\n",
      "22/3a21779f02ab42049eabf9768fbf756f/artifacts/data/initial_data_prep.csv\n",
      "22/3a21779f02ab42049eabf9768fbf756f/artifacts/models/MLmodel\n",
      "22/3a21779f02ab42049eabf9768fbf756f/artifacts/models/conda.yaml\n",
      "22/3a21779f02ab42049eabf9768fbf756f/artifacts/models/fitted_model.pkl\n",
      "22/3a21779f02ab42049eabf9768fbf756f/artifacts/models/input_example.json\n",
      "22/3a21779f02ab42049eabf9768fbf756f/artifacts/models/model.pkl\n",
      "22/3a21779f02ab42049eabf9768fbf756f/artifacts/models/python_env.yaml\n",
      "22/3a21779f02ab42049eabf9768fbf756f/artifacts/models/requirements.txt\n",
      "22/45c65fc868ff474d996cc972bce37f29/artifacts/dataframe/initial_data.csv\n",
      "22/45c65fc868ff474d996cc972bce37f29/artifacts/models/MLmodel\n",
      "22/45c65fc868ff474d996cc972bce37f29/artifacts/models/conda.yaml\n",
      "22/45c65fc868ff474d996cc972bce37f29/artifacts/models/input_example.json\n",
      "22/45c65fc868ff474d996cc972bce37f29/artifacts/models/model.cb\n",
      "22/45c65fc868ff474d996cc972bce37f29/artifacts/models/python_env.yaml\n",
      "22/45c65fc868ff474d996cc972bce37f29/artifacts/models/requirements.txt\n",
      "22/45c65fc868ff474d996cc972bce37f29/artifacts/processing/fitted_transformer.pkl\n",
      "22/481f44defec84d008f497b65872ed58a/artifacts/fs_assets/fs_assets/.ipynb_checkpoints/sfs-checkpoint.png\n",
      "22/481f44defec84d008f497b65872ed58a/artifacts/fs_assets/fs_assets/sfs.csv\n",
      "22/481f44defec84d008f497b65872ed58a/artifacts/fs_assets/fs_assets/sfs.png\n",
      "22/481f44defec84d008f497b65872ed58a/artifacts/models/MLmodel\n",
      "22/481f44defec84d008f497b65872ed58a/artifacts/models/conda.yaml\n",
      "22/481f44defec84d008f497b65872ed58a/artifacts/models/input_example.json\n",
      "22/481f44defec84d008f497b65872ed58a/artifacts/models/model.cb\n",
      "22/481f44defec84d008f497b65872ed58a/artifacts/models/python_env.yaml\n",
      "22/481f44defec84d008f497b65872ed58a/artifacts/models/requirements.txt\n",
      "22/481f44defec84d008f497b65872ed58a/artifacts/processing/fitted_transformer.pkl\n",
      "22/63cbf1ece9b840d1acb49b268f119fc6/artifacts/dataframe/initial_data.csv\n",
      "22/63cbf1ece9b840d1acb49b268f119fc6/artifacts/models/MLmodel\n",
      "22/63cbf1ece9b840d1acb49b268f119fc6/artifacts/models/conda.yaml\n",
      "22/63cbf1ece9b840d1acb49b268f119fc6/artifacts/models/input_example.json\n",
      "22/63cbf1ece9b840d1acb49b268f119fc6/artifacts/models/model.cb\n",
      "22/63cbf1ece9b840d1acb49b268f119fc6/artifacts/models/python_env.yaml\n",
      "22/63cbf1ece9b840d1acb49b268f119fc6/artifacts/models/requirements.txt\n",
      "22/63cbf1ece9b840d1acb49b268f119fc6/artifacts/processing/fitted_transformer.pkl\n",
      "22/65634b95f8964e799717e2e38c88d909/artifacts/cat_features_1.png\n",
      "22/65634b95f8964e799717e2e38c88d909/artifacts/corr_heatmap.png\n",
      "22/65634b95f8964e799717e2e38c88d909/artifacts/initial_data.csv\n",
      "22/65634b95f8964e799717e2e38c88d909/artifacts/initial_data_augmented.csv\n",
      "22/65634b95f8964e799717e2e38c88d909/artifacts/initial_data_prep.csv\n",
      "22/65634b95f8964e799717e2e38c88d909/artifacts/real_estate_moscow.csv\n",
      "22/65634b95f8964e799717e2e38c88d909/artifacts/scatter_matrix.png\n",
      "22/65634b95f8964e799717e2e38c88d909/artifacts/target_hist.png\n",
      "22/83456cf19f2a40d1bc5ce01f1cd077ca/artifacts/fs_assets/fs_assets/.ipynb_checkpoints/sfs-checkpoint.png\n",
      "22/83456cf19f2a40d1bc5ce01f1cd077ca/artifacts/fs_assets/fs_assets/sfs.csv\n",
      "22/83456cf19f2a40d1bc5ce01f1cd077ca/artifacts/fs_assets/fs_assets/sfs.png\n",
      "22/83456cf19f2a40d1bc5ce01f1cd077ca/artifacts/models/MLmodel\n",
      "22/83456cf19f2a40d1bc5ce01f1cd077ca/artifacts/models/conda.yaml\n",
      "22/83456cf19f2a40d1bc5ce01f1cd077ca/artifacts/models/input_example.json\n",
      "22/83456cf19f2a40d1bc5ce01f1cd077ca/artifacts/models/model.cb\n",
      "22/83456cf19f2a40d1bc5ce01f1cd077ca/artifacts/models/python_env.yaml\n",
      "22/83456cf19f2a40d1bc5ce01f1cd077ca/artifacts/models/requirements.txt\n",
      "22/83456cf19f2a40d1bc5ce01f1cd077ca/artifacts/processing/fitted_transformer.pkl\n",
      "22/b0af9843cb18490a9cc2c1bc5f621441/artifacts/cat_features_1.png\n",
      "22/b0af9843cb18490a9cc2c1bc5f621441/artifacts/corr_heatmap.png\n",
      "22/b0af9843cb18490a9cc2c1bc5f621441/artifacts/initial_data.csv\n",
      "22/b0af9843cb18490a9cc2c1bc5f621441/artifacts/initial_data_augmented.csv\n",
      "22/b0af9843cb18490a9cc2c1bc5f621441/artifacts/initial_data_prep.csv\n",
      "22/b0af9843cb18490a9cc2c1bc5f621441/artifacts/real_estate_moscow.csv\n",
      "22/b0af9843cb18490a9cc2c1bc5f621441/artifacts/scatter_matrix.png\n",
      "22/b0af9843cb18490a9cc2c1bc5f621441/artifacts/target_hist.png\n",
      "22/b10949ea929b4dcfa81b4e8670419854/artifacts/fin_assets/fin_assets/sfs.csv\n",
      "22/b10949ea929b4dcfa81b4e8670419854/artifacts/fin_assets/fin_assets/union_features.csv\n",
      "22/b10949ea929b4dcfa81b4e8670419854/artifacts/models/MLmodel\n",
      "22/b10949ea929b4dcfa81b4e8670419854/artifacts/models/conda.yaml\n",
      "22/b10949ea929b4dcfa81b4e8670419854/artifacts/models/input_example.json\n",
      "22/b10949ea929b4dcfa81b4e8670419854/artifacts/models/model.cb\n",
      "22/b10949ea929b4dcfa81b4e8670419854/artifacts/models/python_env.yaml\n",
      "22/b10949ea929b4dcfa81b4e8670419854/artifacts/models/requirements.txt\n",
      "22/b10949ea929b4dcfa81b4e8670419854/artifacts/processing/fitted_transformer.pkl\n",
      "22/b66ccf410c224dd3b4d5afb6c4e33130/artifacts/cv_res/cv_res.json\n",
      "22/b66ccf410c224dd3b4d5afb6c4e33130/artifacts/data/initial_data.csv\n",
      "22/b66ccf410c224dd3b4d5afb6c4e33130/artifacts/models/MLmodel\n",
      "22/b66ccf410c224dd3b4d5afb6c4e33130/artifacts/models/conda.yaml\n",
      "22/b66ccf410c224dd3b4d5afb6c4e33130/artifacts/models/fitted_cv_pipeline.pkl\n",
      "22/b66ccf410c224dd3b4d5afb6c4e33130/artifacts/models/fitted_model.pkl\n",
      "22/b66ccf410c224dd3b4d5afb6c4e33130/artifacts/models/input_example.json\n",
      "22/b66ccf410c224dd3b4d5afb6c4e33130/artifacts/models/model.pkl\n",
      "22/b66ccf410c224dd3b4d5afb6c4e33130/artifacts/models/python_env.yaml\n",
      "22/b66ccf410c224dd3b4d5afb6c4e33130/artifacts/models/requirements.txt\n",
      "22/be428426841a4770ae7a8bc497284fae/artifacts/cat_features_1.png\n",
      "22/be428426841a4770ae7a8bc497284fae/artifacts/corr_heatmap.png\n",
      "22/be428426841a4770ae7a8bc497284fae/artifacts/initial_data.csv\n",
      "22/be428426841a4770ae7a8bc497284fae/artifacts/initial_data_augmented.csv\n",
      "22/be428426841a4770ae7a8bc497284fae/artifacts/initial_data_prep.csv\n",
      "22/be428426841a4770ae7a8bc497284fae/artifacts/real_estate_moscow.csv\n",
      "22/be428426841a4770ae7a8bc497284fae/artifacts/scatter_matrix.png\n",
      "22/be428426841a4770ae7a8bc497284fae/artifacts/target_hist.png\n",
      "22/c07781605a134d07a27ea84ce635f980/artifacts/dataframe/initial_data.csv\n",
      "22/c07781605a134d07a27ea84ce635f980/artifacts/models/MLmodel\n",
      "22/c07781605a134d07a27ea84ce635f980/artifacts/models/conda.yaml\n",
      "22/c07781605a134d07a27ea84ce635f980/artifacts/models/input_example.json\n",
      "22/c07781605a134d07a27ea84ce635f980/artifacts/models/model.cb\n",
      "22/c07781605a134d07a27ea84ce635f980/artifacts/models/python_env.yaml\n",
      "22/c07781605a134d07a27ea84ce635f980/artifacts/models/requirements.txt\n",
      "22/c07781605a134d07a27ea84ce635f980/artifacts/processing/fitted_transformer.pkl\n",
      "22/ca5233897c724e91ba2620ec9c9acddc/artifacts/cv_res/cv_res.json\n",
      "22/ca5233897c724e91ba2620ec9c9acddc/artifacts/data/initial_data_prep.csv\n",
      "22/ca5233897c724e91ba2620ec9c9acddc/artifacts/models/MLmodel\n",
      "22/ca5233897c724e91ba2620ec9c9acddc/artifacts/models/conda.yaml\n",
      "22/ca5233897c724e91ba2620ec9c9acddc/artifacts/models/fitted_model.pkl\n",
      "22/ca5233897c724e91ba2620ec9c9acddc/artifacts/models/input_example.json\n",
      "22/ca5233897c724e91ba2620ec9c9acddc/artifacts/models/model.pkl\n",
      "22/ca5233897c724e91ba2620ec9c9acddc/artifacts/models/python_env.yaml\n",
      "22/ca5233897c724e91ba2620ec9c9acddc/artifacts/models/requirements.txt\n",
      "22/e20d299cdd58491abb24c0183b3180c7/artifacts/cat_features_1.png\n",
      "22/e20d299cdd58491abb24c0183b3180c7/artifacts/corr_heatmap.png\n",
      "22/e20d299cdd58491abb24c0183b3180c7/artifacts/initial_data.csv\n",
      "22/e20d299cdd58491abb24c0183b3180c7/artifacts/initial_data_augmented.csv\n",
      "22/e20d299cdd58491abb24c0183b3180c7/artifacts/initial_data_prep.csv\n",
      "22/e20d299cdd58491abb24c0183b3180c7/artifacts/real_estate_moscow.csv\n",
      "22/e20d299cdd58491abb24c0183b3180c7/artifacts/scatter_matrix.png\n",
      "22/e20d299cdd58491abb24c0183b3180c7/artifacts/target_hist.png\n",
      "cv_results/cv_res.json\n",
      "data/initial_data.csv\n",
      "models/fitted_model.pkl\n",
      "recsys/recommendations/als_recommendations.parquet\n",
      "recsys/recommendations/items.parquet\n",
      "recsys/recommendations/personal_als.parquet\n",
      "recsys/recommendations/recommendations.parquet\n",
      "recsys/recommendations/recommendations_u.parquet\n",
      "recsys/recommendations/similar.parquet\n",
      "recsys/recommendations/top_popular.parquet\n"
     ]
    }
   ],
   "source": [
    "bucket_name = 's3-student-mle-20240325-d5eb3b4dad'\n",
    "s3 = get_session()\n",
    "if s3.list_objects(Bucket=bucket_name).get('Contents'):\n",
    "        for key in s3.list_objects(Bucket=bucket_name)['Contents']:\n",
    "            print(key['Key'])"
   ]
  }
 ],
 "metadata": {
  "kernelspec": {
   "display_name": "Python 3 (ipykernel)",
   "language": "python",
   "name": "python3"
  },
  "language_info": {
   "codemirror_mode": {
    "name": "ipython",
    "version": 3
   },
   "file_extension": ".py",
   "mimetype": "text/x-python",
   "name": "python",
   "nbconvert_exporter": "python",
   "pygments_lexer": "ipython3",
   "version": "3.9.5"
  },
  "toc": {
   "base_numbering": 1,
   "nav_menu": {},
   "number_sections": true,
   "sideBar": true,
   "skip_h1_title": true,
   "title_cell": "Table of Contents",
   "title_sidebar": "Contents",
   "toc_cell": false,
   "toc_position": {},
   "toc_section_display": true,
   "toc_window_display": false
  }
 },
 "nbformat": 4,
 "nbformat_minor": 5
}
